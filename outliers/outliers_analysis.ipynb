{
 "cells": [
  {
   "cell_type": "markdown",
   "id": "e961829f-7292-4d71-8114-ee3bf919e068",
   "metadata": {},
   "source": [
    "# Detectando y Analizando Outliers"
   ]
  },
  {
<<<<<<< HEAD
   "cell_type": "code",
   "execution_count": null,
=======
   "cell_type": "markdown",
   "id": "8b589f39-7233-495c-ad90-a5cc362dcfdd",
   "metadata": {},
   "source": [
    "- Variables Cuantitativas\n",
    "- Variables Categoricas\n",
    "- Variables de Fecha\n",
    "- Duplicados"
   ]
  },
  {
   "cell_type": "code",
   "execution_count": 319,
>>>>>>> 2046b5bd1d466f2a94b436feae043461f68087d1
   "id": "0c3790c9-3510-4621-b84b-22b62e837b06",
   "metadata": {},
   "outputs": [],
   "source": [
<<<<<<< HEAD
    "import pandas as pd"
=======
    "import pandas as pd\n",
    "import seaborn as sns\n",
    "import matplotlib.pyplot as plt"
>>>>>>> 2046b5bd1d466f2a94b436feae043461f68087d1
   ]
  },
  {
   "cell_type": "markdown",
   "id": "d7ab7dc0-a761-4b68-9848-599bc6ab5346",
   "metadata": {},
   "source": [
    "Hacemos primera una exploracion del archivo, rapida y  sin transformar nada."
   ]
  },
  {
   "cell_type": "code",
<<<<<<< HEAD
   "execution_count": 198,
=======
   "execution_count": 744,
>>>>>>> 2046b5bd1d466f2a94b436feae043461f68087d1
   "id": "76fb4a58-cc0c-40ff-81c8-eba0fab038c0",
   "metadata": {},
   "outputs": [
    {
     "data": {
      "text/html": [
       "<div>\n",
       "<style scoped>\n",
       "    .dataframe tbody tr th:only-of-type {\n",
       "        vertical-align: middle;\n",
       "    }\n",
       "\n",
       "    .dataframe tbody tr th {\n",
       "        vertical-align: top;\n",
       "    }\n",
       "\n",
       "    .dataframe thead th {\n",
       "        text-align: right;\n",
       "    }\n",
       "</style>\n",
       "<table border=\"1\" class=\"dataframe\">\n",
       "  <thead>\n",
       "    <tr style=\"text-align: right;\">\n",
       "      <th></th>\n",
<<<<<<< HEAD
       "      <th>Fecha</th>\n",
       "      <th>Fecha entrega</th>\n",
       "      <th>CIA</th>\n",
       "      <th>Ramo</th>\n",
       "      <th>Modalidad</th>\n",
       "      <th>DC</th>\n",
       "      <th>SUC</th>\n",
       "      <th>Agente</th>\n",
       "      <th>Nº Póliza (esp)</th>\n",
       "      <th>Nº Póliza (ger)</th>\n",
       "      <th>...</th>\n",
       "      <th>MAX RESCATE PARCIAL</th>\n",
       "      <th>SUMA RESCATES</th>\n",
       "      <th>CAP. FALLECIMIENTO FIN MES</th>\n",
       "      <th>CAPITAL MÍNIMO GARANTIZADO</th>\n",
       "      <th>RENTA MÍNIMA GARANTIZADA</th>\n",
       "      <th>POLIZAS_45</th>\n",
       "      <th>Motivo Cancelación AZS</th>\n",
       "      <th>IND_NP</th>\n",
       "      <th>CARTERA_SAP</th>\n",
       "      <th>IND_DIF</th>\n",
=======
       "      <th>Fecha Dato</th>\n",
       "      <th>Código Producto Técnico</th>\n",
       "      <th>Producto Técnico</th>\n",
       "      <th>Código Producto Comercial</th>\n",
       "      <th>Producto Comercial</th>\n",
       "      <th>Código Póliza AIS</th>\n",
       "      <th>Código Compañía</th>\n",
       "      <th>Compañía</th>\n",
       "      <th>Fecha Inicio Póliza</th>\n",
       "      <th>Fecha Efecto Natural</th>\n",
       "      <th>...</th>\n",
       "      <th>Nº Pól Baja Vencimiento</th>\n",
       "      <th>Prima Riesgo</th>\n",
       "      <th>Prima Técnica</th>\n",
       "      <th>Prima Neta</th>\n",
       "      <th>Descuento por Campaña.1</th>\n",
       "      <th>Descuento Colectivo.1</th>\n",
       "      <th>Capital Recomendado</th>\n",
       "      <th>Cap Baja Vencimiento</th>\n",
       "      <th>Código Causas de Movimientos</th>\n",
       "      <th>Causas de Movimientos</th>\n",
>>>>>>> 2046b5bd1d466f2a94b436feae043461f68087d1
       "    </tr>\n",
       "  </thead>\n",
       "  <tbody>\n",
       "    <tr>\n",
       "      <th>0</th>\n",
<<<<<<< HEAD
       "      <td>20210331</td>\n",
       "      <td>20210324</td>\n",
       "      <td>2</td>\n",
       "      <td>2295</td>\n",
       "      <td>166</td>\n",
       "      <td>0</td>\n",
       "      <td>0</td>\n",
       "      <td>9510278</td>\n",
       "      <td>46007338</td>\n",
       "      <td>5224622395</td>\n",
       "      <td>...</td>\n",
       "      <td>0</td>\n",
       "      <td>000000000000000,0</td>\n",
       "      <td>000000000000000,0</td>\n",
       "      <td>000000000000000,0</td>\n",
       "      <td>000000000000000,0</td>\n",
       "      <td>0</td>\n",
       "      <td>0</td>\n",
       "      <td>0</td>\n",
       "      <td>640</td>\n",
       "      <td>0</td>\n",
       "    </tr>\n",
       "    <tr>\n",
       "      <th>1</th>\n",
       "      <td>20210331</td>\n",
       "      <td>20210324</td>\n",
       "      <td>2</td>\n",
       "      <td>2295</td>\n",
       "      <td>166</td>\n",
       "      <td>0</td>\n",
       "      <td>0</td>\n",
       "      <td>9510278</td>\n",
       "      <td>46007452</td>\n",
       "      <td>5224632000</td>\n",
       "      <td>...</td>\n",
       "      <td>0</td>\n",
       "      <td>000000000000000,0</td>\n",
       "      <td>00000000049030,68</td>\n",
       "      <td>000000000049000,0</td>\n",
       "      <td>00000000000144,01</td>\n",
       "      <td>0</td>\n",
       "      <td>0</td>\n",
       "      <td>0</td>\n",
       "      <td>640</td>\n",
       "      <td>0</td>\n",
       "    </tr>\n",
       "    <tr>\n",
       "      <th>2</th>\n",
       "      <td>20210331</td>\n",
       "      <td>20210324</td>\n",
       "      <td>2</td>\n",
       "      <td>2295</td>\n",
       "      <td>166</td>\n",
       "      <td>0</td>\n",
       "      <td>0</td>\n",
       "      <td>9510278</td>\n",
       "      <td>46008015</td>\n",
       "      <td>5224691735</td>\n",
       "      <td>...</td>\n",
       "      <td>0</td>\n",
       "      <td>000000000000000,0</td>\n",
       "      <td>000000000000000,0</td>\n",
       "      <td>000000000000000,0</td>\n",
       "      <td>000000000000000,0</td>\n",
       "      <td>0</td>\n",
       "      <td>0</td>\n",
       "      <td>0</td>\n",
       "      <td>640</td>\n",
       "      <td>0</td>\n",
       "    </tr>\n",
       "    <tr>\n",
       "      <th>3</th>\n",
       "      <td>20210331</td>\n",
       "      <td>20210324</td>\n",
       "      <td>2</td>\n",
       "      <td>2295</td>\n",
       "      <td>166</td>\n",
       "      <td>0</td>\n",
       "      <td>0</td>\n",
       "      <td>9510278</td>\n",
       "      <td>46008038</td>\n",
       "      <td>5224691670</td>\n",
       "      <td>...</td>\n",
       "      <td>0</td>\n",
       "      <td>000000000000000,0</td>\n",
       "      <td>00000000049030,68</td>\n",
       "      <td>000000000049000,0</td>\n",
       "      <td>00000000000100,07</td>\n",
       "      <td>0</td>\n",
       "      <td>0</td>\n",
       "      <td>0</td>\n",
       "      <td>640</td>\n",
       "      <td>0</td>\n",
       "    </tr>\n",
       "    <tr>\n",
       "      <th>4</th>\n",
       "      <td>20210331</td>\n",
       "      <td>20210324</td>\n",
       "      <td>2</td>\n",
       "      <td>2295</td>\n",
       "      <td>166</td>\n",
       "      <td>0</td>\n",
       "      <td>0</td>\n",
       "      <td>9510278</td>\n",
       "      <td>46007160</td>\n",
       "      <td>5224596951</td>\n",
       "      <td>...</td>\n",
       "      <td>0</td>\n",
       "      <td>000000000000000,0</td>\n",
       "      <td>00000000024515,34</td>\n",
       "      <td>000000000024500,0</td>\n",
       "      <td>00000000000040,53</td>\n",
       "      <td>0</td>\n",
       "      <td>0</td>\n",
       "      <td>0</td>\n",
       "      <td>640</td>\n",
       "      <td>0</td>\n",
       "    </tr>\n",
       "  </tbody>\n",
       "</table>\n",
       "<p>5 rows × 40 columns</p>\n",
       "</div>"
      ],
      "text/plain": [
       "      Fecha  Fecha entrega  CIA  Ramo  Modalidad  DC  SUC   Agente  \\\n",
       "0  20210331       20210324    2  2295        166   0    0  9510278   \n",
       "1  20210331       20210324    2  2295        166   0    0  9510278   \n",
       "2  20210331       20210324    2  2295        166   0    0  9510278   \n",
       "3  20210331       20210324    2  2295        166   0    0  9510278   \n",
       "4  20210331       20210324    2  2295        166   0    0  9510278   \n",
       "\n",
       "   Nº Póliza (esp)  Nº Póliza (ger)  ...  MAX RESCATE PARCIAL  \\\n",
       "0         46007338       5224622395  ...                    0   \n",
       "1         46007452       5224632000  ...                    0   \n",
       "2         46008015       5224691735  ...                    0   \n",
       "3         46008038       5224691670  ...                    0   \n",
       "4         46007160       5224596951  ...                    0   \n",
       "\n",
       "       SUMA RESCATES CAP. FALLECIMIENTO FIN MES CAPITAL MÍNIMO GARANTIZADO  \\\n",
       "0  000000000000000,0          000000000000000,0          000000000000000,0   \n",
       "1  000000000000000,0          00000000049030,68          000000000049000,0   \n",
       "2  000000000000000,0          000000000000000,0          000000000000000,0   \n",
       "3  000000000000000,0          00000000049030,68          000000000049000,0   \n",
       "4  000000000000000,0          00000000024515,34          000000000024500,0   \n",
       "\n",
       "   RENTA MÍNIMA GARANTIZADA  POLIZAS_45  Motivo Cancelación AZS  IND_NP  \\\n",
       "0         000000000000000,0           0                       0       0   \n",
       "1         00000000000144,01           0                       0       0   \n",
       "2         000000000000000,0           0                       0       0   \n",
       "3         00000000000100,07           0                       0       0   \n",
       "4         00000000000040,53           0                       0       0   \n",
       "\n",
       "  CARTERA_SAP IND_DIF  \n",
       "0         640       0  \n",
       "1         640       0  \n",
       "2         640       0  \n",
       "3         640       0  \n",
       "4         640       0  \n",
       "\n",
       "[5 rows x 40 columns]"
      ]
     },
     "execution_count": 198,
=======
       "      <td>03/05/2021</td>\n",
       "      <td>ACCI_BBVA</td>\n",
       "      <td>SEGURO DE ACCIDENTES                          ...</td>\n",
       "      <td>2784</td>\n",
       "      <td>MINISEGURO ACCIDENTES BBVA ALLIANZ            ...</td>\n",
       "      <td>27840000181560</td>\n",
       "      <td>JV</td>\n",
       "      <td>BBVA ALLIANZ SEGUROS</td>\n",
       "      <td>06/08/2012</td>\n",
       "      <td>06/08/20</td>\n",
       "      <td>...</td>\n",
       "      <td>1</td>\n",
       "      <td>10</td>\n",
       "      <td>12,74</td>\n",
       "      <td>12,74</td>\n",
       "      <td>0</td>\n",
       "      <td>0</td>\n",
       "      <td>0</td>\n",
       "      <td>22.500</td>\n",
       "      <td>A143</td>\n",
       "      <td>Precio Excesivo                               ...</td>\n",
       "    </tr>\n",
       "    <tr>\n",
       "      <th>1</th>\n",
       "      <td>03/05/2021</td>\n",
       "      <td>ACCI_BBVA</td>\n",
       "      <td>SEGURO DE ACCIDENTES                          ...</td>\n",
       "      <td>2784</td>\n",
       "      <td>MINISEGURO ACCIDENTES BBVA ALLIANZ            ...</td>\n",
       "      <td>27840000181560</td>\n",
       "      <td>JV</td>\n",
       "      <td>BBVA ALLIANZ SEGUROS</td>\n",
       "      <td>06/08/2012</td>\n",
       "      <td>06/08/20</td>\n",
       "      <td>...</td>\n",
       "      <td>1</td>\n",
       "      <td>16,09</td>\n",
       "      <td>20,5</td>\n",
       "      <td>20,5</td>\n",
       "      <td>0</td>\n",
       "      <td>0</td>\n",
       "      <td>0</td>\n",
       "      <td>22.500</td>\n",
       "      <td>A143</td>\n",
       "      <td>Precio Excesivo                               ...</td>\n",
       "    </tr>\n",
       "    <tr>\n",
       "      <th>2</th>\n",
       "      <td>03/05/2021</td>\n",
       "      <td>ACCI_BBVA</td>\n",
       "      <td>SEGURO DE ACCIDENTES                          ...</td>\n",
       "      <td>2784</td>\n",
       "      <td>MINISEGURO ACCIDENTES BBVA ALLIANZ            ...</td>\n",
       "      <td>27840000181560</td>\n",
       "      <td>JV</td>\n",
       "      <td>BBVA ALLIANZ SEGUROS</td>\n",
       "      <td>06/08/2012</td>\n",
       "      <td>06/08/20</td>\n",
       "      <td>...</td>\n",
       "      <td>1</td>\n",
       "      <td>2,64</td>\n",
       "      <td>3,37</td>\n",
       "      <td>3,37</td>\n",
       "      <td>0</td>\n",
       "      <td>0</td>\n",
       "      <td>0</td>\n",
       "      <td>22.500</td>\n",
       "      <td>A143</td>\n",
       "      <td>Precio Excesivo                               ...</td>\n",
       "    </tr>\n",
       "    <tr>\n",
       "      <th>3</th>\n",
       "      <td>03/05/2021</td>\n",
       "      <td>ACCI_BBVA</td>\n",
       "      <td>SEGURO DE ACCIDENTES                          ...</td>\n",
       "      <td>2784</td>\n",
       "      <td>MINISEGURO ACCIDENTES BBVA ALLIANZ            ...</td>\n",
       "      <td>27840000181560</td>\n",
       "      <td>JV</td>\n",
       "      <td>BBVA ALLIANZ SEGUROS</td>\n",
       "      <td>06/08/2012</td>\n",
       "      <td>06/08/20</td>\n",
       "      <td>...</td>\n",
       "      <td>1</td>\n",
       "      <td>9,46</td>\n",
       "      <td>12,05</td>\n",
       "      <td>12,05</td>\n",
       "      <td>0</td>\n",
       "      <td>0</td>\n",
       "      <td>0</td>\n",
       "      <td>11,25</td>\n",
       "      <td>A143</td>\n",
       "      <td>Precio Excesivo                               ...</td>\n",
       "    </tr>\n",
       "    <tr>\n",
       "      <th>4</th>\n",
       "      <td>03/05/2021</td>\n",
       "      <td>ACCI_CX</td>\n",
       "      <td>SEGURO ACCIDENTES CX                          ...</td>\n",
       "      <td>4259</td>\n",
       "      <td>SEGURO ACCIDENTES CX                          ...</td>\n",
       "      <td>42590000008445</td>\n",
       "      <td>JV</td>\n",
       "      <td>BBVA ALLIANZ SEGUROS</td>\n",
       "      <td>24/05/2011</td>\n",
       "      <td>01/05/20</td>\n",
       "      <td>...</td>\n",
       "      <td>1</td>\n",
       "      <td>8,97</td>\n",
       "      <td>13,8</td>\n",
       "      <td>13,8</td>\n",
       "      <td>0</td>\n",
       "      <td>0</td>\n",
       "      <td>0</td>\n",
       "      <td>30.000</td>\n",
       "      <td>A928</td>\n",
       "      <td>Vencimiento del contrato por edad             ...</td>\n",
       "    </tr>\n",
       "  </tbody>\n",
       "</table>\n",
       "<p>5 rows × 52 columns</p>\n",
       "</div>"
      ],
      "text/plain": [
       "   Fecha Dato Código Producto Técnico  \\\n",
       "0  03/05/2021              ACCI_BBVA    \n",
       "1  03/05/2021              ACCI_BBVA    \n",
       "2  03/05/2021              ACCI_BBVA    \n",
       "3  03/05/2021              ACCI_BBVA    \n",
       "4  03/05/2021              ACCI_CX      \n",
       "\n",
       "                                    Producto Técnico  \\\n",
       "0  SEGURO DE ACCIDENTES                          ...   \n",
       "1  SEGURO DE ACCIDENTES                          ...   \n",
       "2  SEGURO DE ACCIDENTES                          ...   \n",
       "3  SEGURO DE ACCIDENTES                          ...   \n",
       "4  SEGURO ACCIDENTES CX                          ...   \n",
       "\n",
       "   Código Producto Comercial  \\\n",
       "0                       2784   \n",
       "1                       2784   \n",
       "2                       2784   \n",
       "3                       2784   \n",
       "4                       4259   \n",
       "\n",
       "                                  Producto Comercial  Código Póliza AIS  \\\n",
       "0  MINISEGURO ACCIDENTES BBVA ALLIANZ            ...     27840000181560   \n",
       "1  MINISEGURO ACCIDENTES BBVA ALLIANZ            ...     27840000181560   \n",
       "2  MINISEGURO ACCIDENTES BBVA ALLIANZ            ...     27840000181560   \n",
       "3  MINISEGURO ACCIDENTES BBVA ALLIANZ            ...     27840000181560   \n",
       "4  SEGURO ACCIDENTES CX                          ...     42590000008445   \n",
       "\n",
       "  Código Compañía                        Compañía Fecha Inicio Póliza  \\\n",
       "0              JV  BBVA ALLIANZ SEGUROS                    06/08/2012   \n",
       "1              JV  BBVA ALLIANZ SEGUROS                    06/08/2012   \n",
       "2              JV  BBVA ALLIANZ SEGUROS                    06/08/2012   \n",
       "3              JV  BBVA ALLIANZ SEGUROS                    06/08/2012   \n",
       "4              JV  BBVA ALLIANZ SEGUROS                    24/05/2011   \n",
       "\n",
       "  Fecha Efecto Natural  ... Nº Pól Baja Vencimiento Prima Riesgo  \\\n",
       "0             06/08/20  ...                       1           10   \n",
       "1             06/08/20  ...                       1        16,09   \n",
       "2             06/08/20  ...                       1         2,64   \n",
       "3             06/08/20  ...                       1         9,46   \n",
       "4             01/05/20  ...                       1         8,97   \n",
       "\n",
       "  Prima Técnica  Prima Neta Descuento por Campaña.1 Descuento Colectivo.1  \\\n",
       "0         12,74       12,74                       0                     0   \n",
       "1          20,5        20,5                       0                     0   \n",
       "2          3,37        3,37                       0                     0   \n",
       "3         12,05       12,05                       0                     0   \n",
       "4          13,8        13,8                       0                     0   \n",
       "\n",
       "  Capital Recomendado Cap Baja Vencimiento Código Causas de Movimientos  \\\n",
       "0                   0               22.500                         A143   \n",
       "1                   0               22.500                         A143   \n",
       "2                   0               22.500                         A143   \n",
       "3                   0                11,25                         A143   \n",
       "4                   0               30.000                         A928   \n",
       "\n",
       "                               Causas de Movimientos  \n",
       "0  Precio Excesivo                               ...  \n",
       "1  Precio Excesivo                               ...  \n",
       "2  Precio Excesivo                               ...  \n",
       "3  Precio Excesivo                               ...  \n",
       "4  Vencimiento del contrato por edad             ...  \n",
       "\n",
       "[5 rows x 52 columns]"
      ]
     },
     "execution_count": 744,
>>>>>>> 2046b5bd1d466f2a94b436feae043461f68087d1
     "metadata": {},
     "output_type": "execute_result"
    }
   ],
   "source": [
<<<<<<< HEAD
    "file = '/mnt/lnxsasdtcn/sasdata/DISCO_M/ALZSeguros/FtpPCSas/Cierre_perspektive_31032021.csv'\n",
    "df = pd.read_csv(file, sep=';')\n",
=======
    "file = '/mnt/lnxsasdtcn/sasdata/DISCO_M/ALZBBVA/local/FtpsRawdata/backup/PLANTILLA_BBDD_Polizas_Baja_Vto_2021-06-09-15-33-08.txt'\n",
    "df = pd.read_csv(file, sep='\\t', low_memory=False)\n",
>>>>>>> 2046b5bd1d466f2a94b436feae043461f68087d1
    "df.head()"
   ]
  },
  {
   "cell_type": "markdown",
   "id": "c0742f3d-73d1-4a0f-9301-2c83b400b78c",
   "metadata": {},
   "source": [
    "Mas alla de ver el sampleo de datos podemos chequear los tipos de datos con dtypes o con info, vayramos por info:"
   ]
  },
  {
   "cell_type": "code",
<<<<<<< HEAD
   "execution_count": 151,
=======
   "execution_count": 745,
>>>>>>> 2046b5bd1d466f2a94b436feae043461f68087d1
   "id": "feb74dd3-a7e6-410d-84e9-86c484d612ba",
   "metadata": {},
   "outputs": [
    {
     "name": "stdout",
     "output_type": "stream",
     "text": [
      "<class 'pandas.core.frame.DataFrame'>\n",
<<<<<<< HEAD
      "RangeIndex: 43 entries, 0 to 42\n",
      "Data columns (total 40 columns):\n",
      " #   Column                       Non-Null Count  Dtype \n",
      "---  ------                       --------------  ----- \n",
      " 0   Fecha                        43 non-null     int64 \n",
      " 1   Fecha entrega                43 non-null     int64 \n",
      " 2   CIA                          43 non-null     int64 \n",
      " 3   Ramo                         43 non-null     int64 \n",
      " 4   Modalidad                    43 non-null     int64 \n",
      " 5   DC                           43 non-null     int64 \n",
      " 6   SUC                          43 non-null     int64 \n",
      " 7   Agente                       43 non-null     int64 \n",
      " 8   Nº Póliza (esp)              43 non-null     int64 \n",
      " 9   Nº Póliza (ger)              43 non-null     int64 \n",
      " 10  Account Manager              43 non-null     int64 \n",
      " 11  Contract Phase               43 non-null     int64 \n",
      " 12  Estado Póliza                43 non-null     object\n",
      " 13  Motivo Cancelación (abs)     43 non-null     object\n",
      " 14  Fecha Cancelación (abs)      43 non-null     int64 \n",
      " 15  FECHA EFECTO PÓLIZA          43 non-null     int64 \n",
      " 16  FECHA FIN PÓLIZA             43 non-null     int64 \n",
      " 17  FECHA INICIO FASE DE RENTAS  43 non-null     int64 \n",
      " 18  Prima Bruta                  43 non-null     object\n",
      " 19  Prima Neta                   43 non-null     object\n",
      " 20  Net Crediting                43 non-null     object\n",
      " 21  Fecha Net Crediting          43 non-null     int64 \n",
      " 22  RESERVA (€)                  43 non-null     object\n",
      " 23  FECHA RESERVA                43 non-null     int64 \n",
      " 24  TERMINAL BONUS (€)           43 non-null     object\n",
      " 25  P. VALORACION RES. (€)       43 non-null     object\n",
      " 26  CAPITAL TOTAL (€)            43 non-null     object\n",
      " 27  CAPITAL RESCATE BRUTO        43 non-null     object\n",
      " 28  CAPITAL RESCATE NETO         43 non-null     object\n",
      " 29  FECHA CAPITAL RESCATE        43 non-null     int64 \n",
      " 30  MAX RESCATE PARCIAL          43 non-null     int64 \n",
      " 31  SUMA RESCATES                43 non-null     object\n",
      " 32  CAP. FALLECIMIENTO FIN MES   43 non-null     object\n",
      " 33  CAPITAL MÍNIMO GARANTIZADO   43 non-null     object\n",
      " 34  RENTA MÍNIMA GARANTIZADA     43 non-null     object\n",
      " 35  POLIZAS_45                   43 non-null     int64 \n",
      " 36  Motivo Cancelación AZS       43 non-null     int64 \n",
      " 37  IND_NP                       43 non-null     int64 \n",
      " 38  CARTERA_SAP                  43 non-null     int64 \n",
      " 39  IND_DIF                      43 non-null     int64 \n",
      "dtypes: int64(25), object(15)\n",
      "memory usage: 13.6+ KB\n"
=======
      "RangeIndex: 21465 entries, 0 to 21464\n",
      "Data columns (total 52 columns):\n",
      " #   Column                              Non-Null Count  Dtype  \n",
      "---  ------                              --------------  -----  \n",
      " 0   Fecha Dato                          21465 non-null  object \n",
      " 1   Código Producto Técnico             21465 non-null  object \n",
      " 2   Producto Técnico                    21465 non-null  object \n",
      " 3   Código Producto Comercial           21465 non-null  int64  \n",
      " 4   Producto Comercial                  21465 non-null  object \n",
      " 5   Código Póliza AIS                   21465 non-null  int64  \n",
      " 6   Código Compañía                     21465 non-null  object \n",
      " 7   Compañía                            21465 non-null  object \n",
      " 8   Fecha Inicio Póliza                 21465 non-null  object \n",
      " 9   Fecha Efecto Natural                21465 non-null  object \n",
      " 10  Fecha Anulación Póliza              21414 non-null  object \n",
      " 11  Fecha Vencimiento Póliza            21465 non-null  object \n",
      " 12  Fecha Contable                      21465 non-null  object \n",
      " 13  Cód Estructura Comercial            21465 non-null  int64  \n",
      " 14  Estructura Comercial                21465 non-null  object \n",
      " 15  Cód Oficina                         21465 non-null  object \n",
      " 16  Oficina                             21465 non-null  object \n",
      " 17  Campaña                             21465 non-null  object \n",
      " 18  Campaña de Suplemento               21465 non-null  object \n",
      " 19  Colectivo de Clientes               21465 non-null  object \n",
      " 20  Forma de Pago                       21465 non-null  object \n",
      " 21  Cesión de Derechos                  21465 non-null  object \n",
      " 22  Tipo de la Vivienda                 21465 non-null  object \n",
      " 23  Población del Riesgo                21465 non-null  object \n",
      " 24  Provincia del Riesgo                21465 non-null  object \n",
      " 25  Nº Habitantes en Miles              21465 non-null  object \n",
      " 26  Uso de la Vivienda                  21465 non-null  object \n",
      " 27  Superficie Vivienda (m2)            21465 non-null  int64  \n",
      " 28  Superficie Anexos (m2)              21465 non-null  int64  \n",
      " 29  Año de Construcción de la Vivienda  21465 non-null  float64\n",
      " 30  Régimen de Tenencia                 21465 non-null  object \n",
      " 31  Código Postal del Riesgo            21465 non-null  object \n",
      " 32  Descuento Colectivo                 21465 non-null  object \n",
      " 33  Descuento por Campaña               21465 non-null  object \n",
      " 34  Código Garantía                     21465 non-null  int64  \n",
      " 35  Garantía                            21465 non-null  object \n",
      " 36  Código Pól Comunidad BBVA           21465 non-null  object \n",
      " 37  Código Pól Comunidad Otra Cía       21465 non-null  object \n",
      " 38  Nombre Cía Pól Comunidad            21465 non-null  object \n",
      " 39  Reforma de la Cubierta              21465 non-null  object \n",
      " 40  Reforma de la Fontanería            21465 non-null  object \n",
      " 41  Valor Instalaciones                 21465 non-null  float64\n",
      " 42  Nº Pól Baja Vencimiento             21465 non-null  int64  \n",
      " 43  Prima Riesgo                        21465 non-null  object \n",
      " 44  Prima Técnica                       21465 non-null  object \n",
      " 45  Prima Neta                          21465 non-null  object \n",
      " 46  Descuento por Campaña.1             21465 non-null  object \n",
      " 47  Descuento Colectivo.1               21465 non-null  object \n",
      " 48  Capital Recomendado                 21465 non-null  object \n",
      " 49  Cap Baja Vencimiento                21465 non-null  object \n",
      " 50  Código Causas de Movimientos        21465 non-null  object \n",
      " 51  Causas de Movimientos               21465 non-null  object \n",
      "dtypes: float64(2), int64(7), object(43)\n",
      "memory usage: 8.5+ MB\n"
>>>>>>> 2046b5bd1d466f2a94b436feae043461f68087d1
     ]
    }
   ],
   "source": [
    "df.info()"
   ]
  },
  {
   "cell_type": "markdown",
   "id": "af599840-571c-46e8-854c-4df123438837",
   "metadata": {},
   "source": [
<<<<<<< HEAD
    "Segun parece arriba algunas campos no fuero interpretados como float o int segun vemos. Podemos volver a leer el df con el siguiente parametro:\n"
=======
    "Segun parece arriba algunas campos no fuero interpretados como float o int segun vemos (Ej: Prov Pr No Consumidas). Podemos volver a leer el df con el siguiente parametro:\n"
>>>>>>> 2046b5bd1d466f2a94b436feae043461f68087d1
   ]
  },
  {
   "cell_type": "code",
<<<<<<< HEAD
   "execution_count": 199,
=======
   "execution_count": 746,
>>>>>>> 2046b5bd1d466f2a94b436feae043461f68087d1
   "id": "948a18ab-3ea6-48ef-9d51-1898ba9ed335",
   "metadata": {},
   "outputs": [
    {
     "data": {
      "text/html": [
       "<div>\n",
       "<style scoped>\n",
       "    .dataframe tbody tr th:only-of-type {\n",
       "        vertical-align: middle;\n",
       "    }\n",
       "\n",
       "    .dataframe tbody tr th {\n",
       "        vertical-align: top;\n",
       "    }\n",
       "\n",
       "    .dataframe thead th {\n",
       "        text-align: right;\n",
       "    }\n",
       "</style>\n",
       "<table border=\"1\" class=\"dataframe\">\n",
       "  <thead>\n",
       "    <tr style=\"text-align: right;\">\n",
       "      <th></th>\n",
<<<<<<< HEAD
       "      <th>Fecha</th>\n",
       "      <th>Fecha entrega</th>\n",
       "      <th>CIA</th>\n",
       "      <th>Ramo</th>\n",
       "      <th>Modalidad</th>\n",
       "      <th>DC</th>\n",
       "      <th>SUC</th>\n",
       "      <th>Agente</th>\n",
       "      <th>Nº Póliza (esp)</th>\n",
       "      <th>Nº Póliza (ger)</th>\n",
       "      <th>...</th>\n",
       "      <th>MAX RESCATE PARCIAL</th>\n",
       "      <th>SUMA RESCATES</th>\n",
       "      <th>CAP. FALLECIMIENTO FIN MES</th>\n",
       "      <th>CAPITAL MÍNIMO GARANTIZADO</th>\n",
       "      <th>RENTA MÍNIMA GARANTIZADA</th>\n",
       "      <th>POLIZAS_45</th>\n",
       "      <th>Motivo Cancelación AZS</th>\n",
       "      <th>IND_NP</th>\n",
       "      <th>CARTERA_SAP</th>\n",
       "      <th>IND_DIF</th>\n",
=======
       "      <th>Fecha Dato</th>\n",
       "      <th>Código Producto Técnico</th>\n",
       "      <th>Producto Técnico</th>\n",
       "      <th>Código Producto Comercial</th>\n",
       "      <th>Producto Comercial</th>\n",
       "      <th>Código Póliza AIS</th>\n",
       "      <th>Código Compañía</th>\n",
       "      <th>Compañía</th>\n",
       "      <th>Fecha Inicio Póliza</th>\n",
       "      <th>Fecha Efecto Natural</th>\n",
       "      <th>...</th>\n",
       "      <th>Nº Pól Baja Vencimiento</th>\n",
       "      <th>Prima Riesgo</th>\n",
       "      <th>Prima Técnica</th>\n",
       "      <th>Prima Neta</th>\n",
       "      <th>Descuento por Campaña.1</th>\n",
       "      <th>Descuento Colectivo.1</th>\n",
       "      <th>Capital Recomendado</th>\n",
       "      <th>Cap Baja Vencimiento</th>\n",
       "      <th>Código Causas de Movimientos</th>\n",
       "      <th>Causas de Movimientos</th>\n",
>>>>>>> 2046b5bd1d466f2a94b436feae043461f68087d1
       "    </tr>\n",
       "  </thead>\n",
       "  <tbody>\n",
       "    <tr>\n",
       "      <th>0</th>\n",
<<<<<<< HEAD
       "      <td>20210331</td>\n",
       "      <td>20210324</td>\n",
       "      <td>2</td>\n",
       "      <td>2295</td>\n",
       "      <td>166</td>\n",
       "      <td>0</td>\n",
       "      <td>0</td>\n",
       "      <td>9510278</td>\n",
       "      <td>46007338</td>\n",
       "      <td>5224622395</td>\n",
       "      <td>...</td>\n",
       "      <td>0</td>\n",
       "      <td>0.0</td>\n",
       "      <td>0.00</td>\n",
       "      <td>0.0</td>\n",
       "      <td>0.00</td>\n",
       "      <td>0</td>\n",
       "      <td>0</td>\n",
       "      <td>0</td>\n",
       "      <td>640</td>\n",
       "      <td>0</td>\n",
       "    </tr>\n",
       "    <tr>\n",
       "      <th>1</th>\n",
       "      <td>20210331</td>\n",
       "      <td>20210324</td>\n",
       "      <td>2</td>\n",
       "      <td>2295</td>\n",
       "      <td>166</td>\n",
       "      <td>0</td>\n",
       "      <td>0</td>\n",
       "      <td>9510278</td>\n",
       "      <td>46007452</td>\n",
       "      <td>5224632000</td>\n",
       "      <td>...</td>\n",
       "      <td>0</td>\n",
       "      <td>0.0</td>\n",
       "      <td>49030.68</td>\n",
       "      <td>49000.0</td>\n",
       "      <td>144.01</td>\n",
       "      <td>0</td>\n",
       "      <td>0</td>\n",
       "      <td>0</td>\n",
       "      <td>640</td>\n",
       "      <td>0</td>\n",
       "    </tr>\n",
       "    <tr>\n",
       "      <th>2</th>\n",
       "      <td>20210331</td>\n",
       "      <td>20210324</td>\n",
       "      <td>2</td>\n",
       "      <td>2295</td>\n",
       "      <td>166</td>\n",
       "      <td>0</td>\n",
       "      <td>0</td>\n",
       "      <td>9510278</td>\n",
       "      <td>46008015</td>\n",
       "      <td>5224691735</td>\n",
       "      <td>...</td>\n",
       "      <td>0</td>\n",
       "      <td>0.0</td>\n",
       "      <td>0.00</td>\n",
       "      <td>0.0</td>\n",
       "      <td>0.00</td>\n",
       "      <td>0</td>\n",
       "      <td>0</td>\n",
       "      <td>0</td>\n",
       "      <td>640</td>\n",
       "      <td>0</td>\n",
       "    </tr>\n",
       "    <tr>\n",
       "      <th>3</th>\n",
       "      <td>20210331</td>\n",
       "      <td>20210324</td>\n",
       "      <td>2</td>\n",
       "      <td>2295</td>\n",
       "      <td>166</td>\n",
       "      <td>0</td>\n",
       "      <td>0</td>\n",
       "      <td>9510278</td>\n",
       "      <td>46008038</td>\n",
       "      <td>5224691670</td>\n",
       "      <td>...</td>\n",
       "      <td>0</td>\n",
       "      <td>0.0</td>\n",
       "      <td>49030.68</td>\n",
       "      <td>49000.0</td>\n",
       "      <td>100.07</td>\n",
       "      <td>0</td>\n",
       "      <td>0</td>\n",
       "      <td>0</td>\n",
       "      <td>640</td>\n",
       "      <td>0</td>\n",
       "    </tr>\n",
       "    <tr>\n",
       "      <th>4</th>\n",
       "      <td>20210331</td>\n",
       "      <td>20210324</td>\n",
       "      <td>2</td>\n",
       "      <td>2295</td>\n",
       "      <td>166</td>\n",
       "      <td>0</td>\n",
       "      <td>0</td>\n",
       "      <td>9510278</td>\n",
       "      <td>46007160</td>\n",
       "      <td>5224596951</td>\n",
       "      <td>...</td>\n",
       "      <td>0</td>\n",
       "      <td>0.0</td>\n",
       "      <td>24515.34</td>\n",
       "      <td>24500.0</td>\n",
       "      <td>40.53</td>\n",
       "      <td>0</td>\n",
       "      <td>0</td>\n",
       "      <td>0</td>\n",
       "      <td>640</td>\n",
       "      <td>0</td>\n",
       "    </tr>\n",
       "  </tbody>\n",
       "</table>\n",
       "<p>5 rows × 40 columns</p>\n",
       "</div>"
      ],
      "text/plain": [
       "      Fecha  Fecha entrega  CIA  Ramo  Modalidad  DC  SUC   Agente  \\\n",
       "0  20210331       20210324    2  2295        166   0    0  9510278   \n",
       "1  20210331       20210324    2  2295        166   0    0  9510278   \n",
       "2  20210331       20210324    2  2295        166   0    0  9510278   \n",
       "3  20210331       20210324    2  2295        166   0    0  9510278   \n",
       "4  20210331       20210324    2  2295        166   0    0  9510278   \n",
       "\n",
       "   Nº Póliza (esp)  Nº Póliza (ger)  ...  MAX RESCATE PARCIAL  SUMA RESCATES  \\\n",
       "0         46007338       5224622395  ...                    0            0.0   \n",
       "1         46007452       5224632000  ...                    0            0.0   \n",
       "2         46008015       5224691735  ...                    0            0.0   \n",
       "3         46008038       5224691670  ...                    0            0.0   \n",
       "4         46007160       5224596951  ...                    0            0.0   \n",
       "\n",
       "  CAP. FALLECIMIENTO FIN MES CAPITAL MÍNIMO GARANTIZADO  \\\n",
       "0                       0.00                        0.0   \n",
       "1                   49030.68                    49000.0   \n",
       "2                       0.00                        0.0   \n",
       "3                   49030.68                    49000.0   \n",
       "4                   24515.34                    24500.0   \n",
       "\n",
       "   RENTA MÍNIMA GARANTIZADA  POLIZAS_45  Motivo Cancelación AZS  IND_NP  \\\n",
       "0                      0.00           0                       0       0   \n",
       "1                    144.01           0                       0       0   \n",
       "2                      0.00           0                       0       0   \n",
       "3                    100.07           0                       0       0   \n",
       "4                     40.53           0                       0       0   \n",
       "\n",
       "   CARTERA_SAP  IND_DIF  \n",
       "0          640        0  \n",
       "1          640        0  \n",
       "2          640        0  \n",
       "3          640        0  \n",
       "4          640        0  \n",
       "\n",
       "[5 rows x 40 columns]"
      ]
     },
     "execution_count": 199,
=======
       "      <td>03/05/2021</td>\n",
       "      <td>ACCI_BBVA</td>\n",
       "      <td>SEGURO DE ACCIDENTES                          ...</td>\n",
       "      <td>2784</td>\n",
       "      <td>MINISEGURO ACCIDENTES BBVA ALLIANZ            ...</td>\n",
       "      <td>27840000181560</td>\n",
       "      <td>JV</td>\n",
       "      <td>BBVA ALLIANZ SEGUROS</td>\n",
       "      <td>06/08/2012</td>\n",
       "      <td>06/08/20</td>\n",
       "      <td>...</td>\n",
       "      <td>1</td>\n",
       "      <td>10.00</td>\n",
       "      <td>12.74</td>\n",
       "      <td>12.74</td>\n",
       "      <td>0.0</td>\n",
       "      <td>0.0</td>\n",
       "      <td>0.0</td>\n",
       "      <td>22500.00</td>\n",
       "      <td>A143</td>\n",
       "      <td>Precio Excesivo                               ...</td>\n",
       "    </tr>\n",
       "    <tr>\n",
       "      <th>1</th>\n",
       "      <td>03/05/2021</td>\n",
       "      <td>ACCI_BBVA</td>\n",
       "      <td>SEGURO DE ACCIDENTES                          ...</td>\n",
       "      <td>2784</td>\n",
       "      <td>MINISEGURO ACCIDENTES BBVA ALLIANZ            ...</td>\n",
       "      <td>27840000181560</td>\n",
       "      <td>JV</td>\n",
       "      <td>BBVA ALLIANZ SEGUROS</td>\n",
       "      <td>06/08/2012</td>\n",
       "      <td>06/08/20</td>\n",
       "      <td>...</td>\n",
       "      <td>1</td>\n",
       "      <td>16.09</td>\n",
       "      <td>20.50</td>\n",
       "      <td>20.50</td>\n",
       "      <td>0.0</td>\n",
       "      <td>0.0</td>\n",
       "      <td>0.0</td>\n",
       "      <td>22500.00</td>\n",
       "      <td>A143</td>\n",
       "      <td>Precio Excesivo                               ...</td>\n",
       "    </tr>\n",
       "    <tr>\n",
       "      <th>2</th>\n",
       "      <td>03/05/2021</td>\n",
       "      <td>ACCI_BBVA</td>\n",
       "      <td>SEGURO DE ACCIDENTES                          ...</td>\n",
       "      <td>2784</td>\n",
       "      <td>MINISEGURO ACCIDENTES BBVA ALLIANZ            ...</td>\n",
       "      <td>27840000181560</td>\n",
       "      <td>JV</td>\n",
       "      <td>BBVA ALLIANZ SEGUROS</td>\n",
       "      <td>06/08/2012</td>\n",
       "      <td>06/08/20</td>\n",
       "      <td>...</td>\n",
       "      <td>1</td>\n",
       "      <td>2.64</td>\n",
       "      <td>3.37</td>\n",
       "      <td>3.37</td>\n",
       "      <td>0.0</td>\n",
       "      <td>0.0</td>\n",
       "      <td>0.0</td>\n",
       "      <td>22500.00</td>\n",
       "      <td>A143</td>\n",
       "      <td>Precio Excesivo                               ...</td>\n",
       "    </tr>\n",
       "    <tr>\n",
       "      <th>3</th>\n",
       "      <td>03/05/2021</td>\n",
       "      <td>ACCI_BBVA</td>\n",
       "      <td>SEGURO DE ACCIDENTES                          ...</td>\n",
       "      <td>2784</td>\n",
       "      <td>MINISEGURO ACCIDENTES BBVA ALLIANZ            ...</td>\n",
       "      <td>27840000181560</td>\n",
       "      <td>JV</td>\n",
       "      <td>BBVA ALLIANZ SEGUROS</td>\n",
       "      <td>06/08/2012</td>\n",
       "      <td>06/08/20</td>\n",
       "      <td>...</td>\n",
       "      <td>1</td>\n",
       "      <td>9.46</td>\n",
       "      <td>12.05</td>\n",
       "      <td>12.05</td>\n",
       "      <td>0.0</td>\n",
       "      <td>0.0</td>\n",
       "      <td>0.0</td>\n",
       "      <td>11.25</td>\n",
       "      <td>A143</td>\n",
       "      <td>Precio Excesivo                               ...</td>\n",
       "    </tr>\n",
       "    <tr>\n",
       "      <th>4</th>\n",
       "      <td>03/05/2021</td>\n",
       "      <td>ACCI_CX</td>\n",
       "      <td>SEGURO ACCIDENTES CX                          ...</td>\n",
       "      <td>4259</td>\n",
       "      <td>SEGURO ACCIDENTES CX                          ...</td>\n",
       "      <td>42590000008445</td>\n",
       "      <td>JV</td>\n",
       "      <td>BBVA ALLIANZ SEGUROS</td>\n",
       "      <td>24/05/2011</td>\n",
       "      <td>01/05/20</td>\n",
       "      <td>...</td>\n",
       "      <td>1</td>\n",
       "      <td>8.97</td>\n",
       "      <td>13.80</td>\n",
       "      <td>13.80</td>\n",
       "      <td>0.0</td>\n",
       "      <td>0.0</td>\n",
       "      <td>0.0</td>\n",
       "      <td>30000.00</td>\n",
       "      <td>A928</td>\n",
       "      <td>Vencimiento del contrato por edad             ...</td>\n",
       "    </tr>\n",
       "  </tbody>\n",
       "</table>\n",
       "<p>5 rows × 52 columns</p>\n",
       "</div>"
      ],
      "text/plain": [
       "   Fecha Dato Código Producto Técnico  \\\n",
       "0  03/05/2021              ACCI_BBVA    \n",
       "1  03/05/2021              ACCI_BBVA    \n",
       "2  03/05/2021              ACCI_BBVA    \n",
       "3  03/05/2021              ACCI_BBVA    \n",
       "4  03/05/2021              ACCI_CX      \n",
       "\n",
       "                                    Producto Técnico  \\\n",
       "0  SEGURO DE ACCIDENTES                          ...   \n",
       "1  SEGURO DE ACCIDENTES                          ...   \n",
       "2  SEGURO DE ACCIDENTES                          ...   \n",
       "3  SEGURO DE ACCIDENTES                          ...   \n",
       "4  SEGURO ACCIDENTES CX                          ...   \n",
       "\n",
       "   Código Producto Comercial  \\\n",
       "0                       2784   \n",
       "1                       2784   \n",
       "2                       2784   \n",
       "3                       2784   \n",
       "4                       4259   \n",
       "\n",
       "                                  Producto Comercial  Código Póliza AIS  \\\n",
       "0  MINISEGURO ACCIDENTES BBVA ALLIANZ            ...     27840000181560   \n",
       "1  MINISEGURO ACCIDENTES BBVA ALLIANZ            ...     27840000181560   \n",
       "2  MINISEGURO ACCIDENTES BBVA ALLIANZ            ...     27840000181560   \n",
       "3  MINISEGURO ACCIDENTES BBVA ALLIANZ            ...     27840000181560   \n",
       "4  SEGURO ACCIDENTES CX                          ...     42590000008445   \n",
       "\n",
       "  Código Compañía                        Compañía Fecha Inicio Póliza  \\\n",
       "0              JV  BBVA ALLIANZ SEGUROS                    06/08/2012   \n",
       "1              JV  BBVA ALLIANZ SEGUROS                    06/08/2012   \n",
       "2              JV  BBVA ALLIANZ SEGUROS                    06/08/2012   \n",
       "3              JV  BBVA ALLIANZ SEGUROS                    06/08/2012   \n",
       "4              JV  BBVA ALLIANZ SEGUROS                    24/05/2011   \n",
       "\n",
       "  Fecha Efecto Natural  ... Nº Pól Baja Vencimiento Prima Riesgo  \\\n",
       "0             06/08/20  ...                       1        10.00   \n",
       "1             06/08/20  ...                       1        16.09   \n",
       "2             06/08/20  ...                       1         2.64   \n",
       "3             06/08/20  ...                       1         9.46   \n",
       "4             01/05/20  ...                       1         8.97   \n",
       "\n",
       "  Prima Técnica  Prima Neta Descuento por Campaña.1 Descuento Colectivo.1  \\\n",
       "0         12.74       12.74                     0.0                   0.0   \n",
       "1         20.50       20.50                     0.0                   0.0   \n",
       "2          3.37        3.37                     0.0                   0.0   \n",
       "3         12.05       12.05                     0.0                   0.0   \n",
       "4         13.80       13.80                     0.0                   0.0   \n",
       "\n",
       "  Capital Recomendado Cap Baja Vencimiento Código Causas de Movimientos  \\\n",
       "0                 0.0             22500.00                         A143   \n",
       "1                 0.0             22500.00                         A143   \n",
       "2                 0.0             22500.00                         A143   \n",
       "3                 0.0                11.25                         A143   \n",
       "4                 0.0             30000.00                         A928   \n",
       "\n",
       "                               Causas de Movimientos  \n",
       "0  Precio Excesivo                               ...  \n",
       "1  Precio Excesivo                               ...  \n",
       "2  Precio Excesivo                               ...  \n",
       "3  Precio Excesivo                               ...  \n",
       "4  Vencimiento del contrato por edad             ...  \n",
       "\n",
       "[5 rows x 52 columns]"
      ]
     },
     "execution_count": 746,
>>>>>>> 2046b5bd1d466f2a94b436feae043461f68087d1
     "metadata": {},
     "output_type": "execute_result"
    }
   ],
   "source": [
<<<<<<< HEAD
    "df = pd.read_csv(file, sep=';', decimal=',')\n",
=======
    "df = pd.read_csv(file, sep='\\t', decimal=',', thousands='.',low_memory=False)\n",
>>>>>>> 2046b5bd1d466f2a94b436feae043461f68087d1
    "df.head()"
   ]
  },
  {
   "cell_type": "markdown",
   "id": "d790f7a4-ed6e-441e-a3a0-f12b5211eff3",
   "metadata": {},
   "source": [
    "Parece que esta vez ha ido bien, pero validemos:"
   ]
  },
  {
   "cell_type": "code",
<<<<<<< HEAD
   "execution_count": 153,
=======
   "execution_count": 747,
>>>>>>> 2046b5bd1d466f2a94b436feae043461f68087d1
   "id": "a839aa4e-3c28-4204-bb61-6bd3c88a6488",
   "metadata": {},
   "outputs": [
    {
     "name": "stdout",
     "output_type": "stream",
     "text": [
      "<class 'pandas.core.frame.DataFrame'>\n",
<<<<<<< HEAD
      "RangeIndex: 43 entries, 0 to 42\n",
      "Data columns (total 40 columns):\n",
      " #   Column                       Non-Null Count  Dtype  \n",
      "---  ------                       --------------  -----  \n",
      " 0   Fecha                        43 non-null     int64  \n",
      " 1   Fecha entrega                43 non-null     int64  \n",
      " 2   CIA                          43 non-null     int64  \n",
      " 3   Ramo                         43 non-null     int64  \n",
      " 4   Modalidad                    43 non-null     int64  \n",
      " 5   DC                           43 non-null     int64  \n",
      " 6   SUC                          43 non-null     int64  \n",
      " 7   Agente                       43 non-null     int64  \n",
      " 8   Nº Póliza (esp)              43 non-null     int64  \n",
      " 9   Nº Póliza (ger)              43 non-null     int64  \n",
      " 10  Account Manager              43 non-null     int64  \n",
      " 11  Contract Phase               43 non-null     int64  \n",
      " 12  Estado Póliza                43 non-null     object \n",
      " 13  Motivo Cancelación (abs)     43 non-null     object \n",
      " 14  Fecha Cancelación (abs)      43 non-null     int64  \n",
      " 15  FECHA EFECTO PÓLIZA          43 non-null     int64  \n",
      " 16  FECHA FIN PÓLIZA             43 non-null     int64  \n",
      " 17  FECHA INICIO FASE DE RENTAS  43 non-null     int64  \n",
      " 18  Prima Bruta                  43 non-null     float64\n",
      " 19  Prima Neta                   43 non-null     float64\n",
      " 20  Net Crediting                43 non-null     float64\n",
      " 21  Fecha Net Crediting          43 non-null     int64  \n",
      " 22  RESERVA (€)                  43 non-null     float64\n",
      " 23  FECHA RESERVA                43 non-null     int64  \n",
      " 24  TERMINAL BONUS (€)           43 non-null     float64\n",
      " 25  P. VALORACION RES. (€)       43 non-null     float64\n",
      " 26  CAPITAL TOTAL (€)            43 non-null     float64\n",
      " 27  CAPITAL RESCATE BRUTO        43 non-null     float64\n",
      " 28  CAPITAL RESCATE NETO         43 non-null     float64\n",
      " 29  FECHA CAPITAL RESCATE        43 non-null     int64  \n",
      " 30  MAX RESCATE PARCIAL          43 non-null     int64  \n",
      " 31  SUMA RESCATES                43 non-null     float64\n",
      " 32  CAP. FALLECIMIENTO FIN MES   43 non-null     float64\n",
      " 33  CAPITAL MÍNIMO GARANTIZADO   43 non-null     float64\n",
      " 34  RENTA MÍNIMA GARANTIZADA     43 non-null     float64\n",
      " 35  POLIZAS_45                   43 non-null     int64  \n",
      " 36  Motivo Cancelación AZS       43 non-null     int64  \n",
      " 37  IND_NP                       43 non-null     int64  \n",
      " 38  CARTERA_SAP                  43 non-null     int64  \n",
      " 39  IND_DIF                      43 non-null     int64  \n",
      "dtypes: float64(13), int64(25), object(2)\n",
      "memory usage: 13.6+ KB\n"
=======
      "RangeIndex: 21465 entries, 0 to 21464\n",
      "Data columns (total 52 columns):\n",
      " #   Column                              Non-Null Count  Dtype  \n",
      "---  ------                              --------------  -----  \n",
      " 0   Fecha Dato                          21465 non-null  object \n",
      " 1   Código Producto Técnico             21465 non-null  object \n",
      " 2   Producto Técnico                    21465 non-null  object \n",
      " 3   Código Producto Comercial           21465 non-null  int64  \n",
      " 4   Producto Comercial                  21465 non-null  object \n",
      " 5   Código Póliza AIS                   21465 non-null  int64  \n",
      " 6   Código Compañía                     21465 non-null  object \n",
      " 7   Compañía                            21465 non-null  object \n",
      " 8   Fecha Inicio Póliza                 21465 non-null  object \n",
      " 9   Fecha Efecto Natural                21465 non-null  object \n",
      " 10  Fecha Anulación Póliza              21414 non-null  object \n",
      " 11  Fecha Vencimiento Póliza            21465 non-null  object \n",
      " 12  Fecha Contable                      21465 non-null  object \n",
      " 13  Cód Estructura Comercial            21465 non-null  int64  \n",
      " 14  Estructura Comercial                21465 non-null  object \n",
      " 15  Cód Oficina                         21465 non-null  object \n",
      " 16  Oficina                             21465 non-null  object \n",
      " 17  Campaña                             21465 non-null  object \n",
      " 18  Campaña de Suplemento               21465 non-null  object \n",
      " 19  Colectivo de Clientes               21465 non-null  object \n",
      " 20  Forma de Pago                       21465 non-null  object \n",
      " 21  Cesión de Derechos                  21465 non-null  object \n",
      " 22  Tipo de la Vivienda                 21465 non-null  object \n",
      " 23  Población del Riesgo                21465 non-null  object \n",
      " 24  Provincia del Riesgo                21465 non-null  object \n",
      " 25  Nº Habitantes en Miles              21465 non-null  int64  \n",
      " 26  Uso de la Vivienda                  21465 non-null  object \n",
      " 27  Superficie Vivienda (m2)            21465 non-null  int64  \n",
      " 28  Superficie Anexos (m2)              21465 non-null  int64  \n",
      " 29  Año de Construcción de la Vivienda  21465 non-null  int64  \n",
      " 30  Régimen de Tenencia                 21465 non-null  object \n",
      " 31  Código Postal del Riesgo            21465 non-null  object \n",
      " 32  Descuento Colectivo                 21465 non-null  float64\n",
      " 33  Descuento por Campaña               21465 non-null  float64\n",
      " 34  Código Garantía                     21465 non-null  int64  \n",
      " 35  Garantía                            21465 non-null  object \n",
      " 36  Código Pól Comunidad BBVA           21465 non-null  object \n",
      " 37  Código Pól Comunidad Otra Cía       21465 non-null  object \n",
      " 38  Nombre Cía Pól Comunidad            21465 non-null  object \n",
      " 39  Reforma de la Cubierta              21465 non-null  object \n",
      " 40  Reforma de la Fontanería            21465 non-null  object \n",
      " 41  Valor Instalaciones                 21465 non-null  int64  \n",
      " 42  Nº Pól Baja Vencimiento             21465 non-null  int64  \n",
      " 43  Prima Riesgo                        21465 non-null  float64\n",
      " 44  Prima Técnica                       21465 non-null  float64\n",
      " 45  Prima Neta                          21465 non-null  float64\n",
      " 46  Descuento por Campaña.1             21465 non-null  float64\n",
      " 47  Descuento Colectivo.1               21465 non-null  float64\n",
      " 48  Capital Recomendado                 21465 non-null  float64\n",
      " 49  Cap Baja Vencimiento                21465 non-null  float64\n",
      " 50  Código Causas de Movimientos        21465 non-null  object \n",
      " 51  Causas de Movimientos               21465 non-null  object \n",
      "dtypes: float64(9), int64(10), object(33)\n",
      "memory usage: 8.5+ MB\n"
>>>>>>> 2046b5bd1d466f2a94b436feae043461f68087d1
     ]
    }
   ],
   "source": [
    "df.info()"
   ]
  },
  {
   "cell_type": "markdown",
   "id": "78001a11-e677-4728-8244-0fe4f063a623",
   "metadata": {},
   "source": [
    "Se podria en primer instancia dividir las variables en numericas y no numericas"
   ]
  },
  {
   "cell_type": "code",
<<<<<<< HEAD
   "execution_count": 154,
=======
   "execution_count": 748,
>>>>>>> 2046b5bd1d466f2a94b436feae043461f68087d1
   "id": "573029eb-e815-4776-8c53-8f89db412b0b",
   "metadata": {},
   "outputs": [
    {
     "name": "stdout",
     "output_type": "stream",
     "text": [
<<<<<<< HEAD
      "['Fecha', 'Fecha entrega', 'CIA', 'Ramo', 'Modalidad', 'DC', 'SUC', 'Agente', 'Nº Póliza (esp)', 'Nº Póliza (ger)', 'Account Manager', 'Contract Phase', 'Fecha Cancelación (abs)', 'FECHA EFECTO PÓLIZA', 'FECHA FIN PÓLIZA', 'FECHA INICIO FASE DE RENTAS', 'Prima Bruta', 'Prima Neta', 'Net Crediting', 'Fecha Net Crediting', 'RESERVA (€)', 'FECHA RESERVA', 'TERMINAL BONUS (€)', 'P. VALORACION RES. (€)', 'CAPITAL TOTAL (€)', 'CAPITAL RESCATE BRUTO', 'CAPITAL RESCATE NETO', 'FECHA CAPITAL RESCATE', 'MAX RESCATE PARCIAL', 'SUMA RESCATES', 'CAP. FALLECIMIENTO FIN MES', 'CAPITAL MÍNIMO GARANTIZADO', 'RENTA MÍNIMA GARANTIZADA', 'POLIZAS_45', 'Motivo Cancelación AZS', 'IND_NP', 'CARTERA_SAP', 'IND_DIF'] \n",
      "\n",
      "['Estado Póliza', 'Motivo Cancelación (abs)']\n"
=======
      "['Código Producto Comercial', 'Código Póliza AIS', 'Cód Estructura Comercial', 'Nº Habitantes en Miles', 'Superficie Vivienda (m2)', 'Superficie Anexos (m2)', 'Año de Construcción de la Vivienda', 'Descuento Colectivo', 'Descuento por Campaña', 'Código Garantía', 'Valor Instalaciones', 'Nº Pól Baja Vencimiento', 'Prima Riesgo', 'Prima Técnica', 'Prima Neta', 'Descuento por Campaña.1', 'Descuento Colectivo.1', 'Capital Recomendado', 'Cap Baja Vencimiento'] \n",
      "\n",
      "['Fecha Dato', 'Código Producto Técnico', 'Producto Técnico', 'Producto Comercial', 'Código Compañía', 'Compañía', 'Fecha Inicio Póliza', 'Fecha Efecto Natural', 'Fecha Anulación Póliza', 'Fecha Vencimiento Póliza', 'Fecha Contable', 'Estructura Comercial', 'Cód Oficina', 'Oficina', 'Campaña', 'Campaña de Suplemento', 'Colectivo de Clientes', 'Forma de Pago', 'Cesión de Derechos', 'Tipo de la Vivienda', 'Población del Riesgo', 'Provincia del Riesgo', 'Uso de la Vivienda', 'Régimen de Tenencia', 'Código Postal del Riesgo', 'Garantía', 'Código Pól Comunidad BBVA', 'Código Pól Comunidad Otra Cía', 'Nombre Cía Pól Comunidad', 'Reforma de la Cubierta', 'Reforma de la Fontanería', 'Código Causas de Movimientos', 'Causas de Movimientos']\n"
>>>>>>> 2046b5bd1d466f2a94b436feae043461f68087d1
     ]
    }
   ],
   "source": [
    "typos = df.dtypes\n",
<<<<<<< HEAD
    "numerical = [typos.index[i] for i, val in enumerate(typos) if val!='object']\n",
    "no_numerical = [typos.index[i] for i, val in enumerate(typos) if val=='object'] \n",
=======
    "numerical = [typos.index[i] for i, val in enumerate(typos) if val!='object']    \n",
    "no_numerical = [typos.index[i] for i, val in enumerate(typos) if val=='object']  \n",
>>>>>>> 2046b5bd1d466f2a94b436feae043461f68087d1
    "print(numerical,'\\n')\n",
    "print(no_numerical)"
   ]
  },
  {
<<<<<<< HEAD
=======
   "cell_type": "code",
   "execution_count": null,
   "id": "08b0311f-4f7e-4cce-b620-7b04f55f0f5c",
   "metadata": {},
   "outputs": [],
   "source": []
  },
  {
>>>>>>> 2046b5bd1d466f2a94b436feae043461f68087d1
   "cell_type": "markdown",
   "id": "8769a694-a7e4-4e1f-b335-c5d0332ba2ad",
   "metadata": {},
   "source": [
<<<<<<< HEAD
    "Se podria obviamente segmentar de mejor manera las variables,por ej segun el concepto y el tipo de dato exacto. Ya que como sabemos siempre puede haber una variable categorica oculta como cuantitiva (ej: IND_NP, IND_DIG, CARTERA_SAP, Agente, etc..). Pero es una primera aproximacion"
=======
    "Se podria obviamente segmentar de mejor manera las variables,por ej segun el concepto y el tipo de dato exacto. Ya que como sabemos siempre puede haber una variable categorica oculta como cuantitiva (ej: Código Garantía, Código Siniestro, etc..). Pero es una primera aproximacion"
>>>>>>> 2046b5bd1d466f2a94b436feae043461f68087d1
   ]
  },
  {
   "cell_type": "markdown",
   "id": "c2991afe-f9ed-4c10-a05a-aa89bc6bd19a",
   "metadata": {},
   "source": [
    "Comenzamos a analizar visualmente posibles outliers de las variables numericas que querramos"
   ]
  },
  {
   "cell_type": "markdown",
   "id": "9746d083-606f-42e9-90b3-12ae3c34eb78",
   "metadata": {},
   "source": [
    "## Analisis Variables Cuantitativas"
   ]
  },
  {
   "cell_type": "markdown",
<<<<<<< HEAD
   "id": "d2ea08e6-9d14-4964-b089-5ac656009897",
   "metadata": {},
   "source": [
    "Una manera sencilla de ver si hay outliers es realizar un diagrama de caja (box plot). Es un gráfico basado en los valores cuartiles\n",
=======
   "id": "8565fe5e-9a44-4226-9013-ab3a7b606423",
   "metadata": {},
   "source": [
    "La primera y opcion mas simple es obtener estadisticas basica de todo el dataset, para poder visualizar la media, la mediana, cantidad de registros, etc..y en base a eso entender un poco mas el contenido del dataset."
   ]
  },
  {
   "cell_type": "code",
   "execution_count": 612,
   "id": "aa2685e0-a7cf-4a33-a817-e4d4ee37338e",
   "metadata": {},
   "outputs": [
    {
     "data": {
      "text/html": [
       "<div>\n",
       "<style scoped>\n",
       "    .dataframe tbody tr th:only-of-type {\n",
       "        vertical-align: middle;\n",
       "    }\n",
       "\n",
       "    .dataframe tbody tr th {\n",
       "        vertical-align: top;\n",
       "    }\n",
       "\n",
       "    .dataframe thead th {\n",
       "        text-align: right;\n",
       "    }\n",
       "</style>\n",
       "<table border=\"1\" class=\"dataframe\">\n",
       "  <thead>\n",
       "    <tr style=\"text-align: right;\">\n",
       "      <th></th>\n",
       "      <th>Código Producto Comercial</th>\n",
       "      <th>Código Póliza AIS</th>\n",
       "      <th>Cód Estructura Comercial</th>\n",
       "      <th>Provincia del Riesgo</th>\n",
       "      <th>Nº Habitantes en Miles</th>\n",
       "      <th>Superficie Vivienda (m2)</th>\n",
       "      <th>Superficie Anexos (m2)</th>\n",
       "      <th>Año de Construcción de la Vivienda</th>\n",
       "      <th>Código Postal del Riesgo</th>\n",
       "      <th>Descuento Colectivo</th>\n",
       "      <th>Descuento Campaña</th>\n",
       "      <th>Código Garantía</th>\n",
       "      <th>Cap Vigor Total</th>\n",
       "      <th>Capital Recomendado</th>\n",
       "      <th>Prima Riesgo</th>\n",
       "      <th>Prima Técnica</th>\n",
       "      <th>Prima Neta</th>\n",
       "      <th>Bonus/Malus</th>\n",
       "      <th>Valor Instalaciones</th>\n",
       "      <th>Prov Pr No Consumidas</th>\n",
       "    </tr>\n",
       "  </thead>\n",
       "  <tbody>\n",
       "    <tr>\n",
       "      <th>count</th>\n",
       "      <td>280385.0</td>\n",
       "      <td>2.803850e+05</td>\n",
       "      <td>280385.000000</td>\n",
       "      <td>280385.000000</td>\n",
       "      <td>2.803850e+05</td>\n",
       "      <td>280385.000000</td>\n",
       "      <td>280385.000000</td>\n",
       "      <td>280385.0</td>\n",
       "      <td>280385.000000</td>\n",
       "      <td>280385.000000</td>\n",
       "      <td>280385.000000</td>\n",
       "      <td>280385.000000</td>\n",
       "      <td>2.803850e+05</td>\n",
       "      <td>2.803850e+05</td>\n",
       "      <td>280385.000000</td>\n",
       "      <td>280385.000000</td>\n",
       "      <td>280385.000000</td>\n",
       "      <td>280385.0</td>\n",
       "      <td>280385.0</td>\n",
       "      <td>280385.000000</td>\n",
       "    </tr>\n",
       "    <tr>\n",
       "      <th>mean</th>\n",
       "      <td>6218.0</td>\n",
       "      <td>6.218001e+13</td>\n",
       "      <td>182.166682</td>\n",
       "      <td>25.830847</td>\n",
       "      <td>5.461173e+05</td>\n",
       "      <td>91.792050</td>\n",
       "      <td>1.892212</td>\n",
       "      <td>1900.0</td>\n",
       "      <td>26155.027484</td>\n",
       "      <td>-1.380030</td>\n",
       "      <td>-3.055570</td>\n",
       "      <td>398.612041</td>\n",
       "      <td>8.823278e+04</td>\n",
       "      <td>6.989710e+04</td>\n",
       "      <td>77.365816</td>\n",
       "      <td>124.617138</td>\n",
       "      <td>120.180470</td>\n",
       "      <td>0.0</td>\n",
       "      <td>0.0</td>\n",
       "      <td>61.062341</td>\n",
       "    </tr>\n",
       "    <tr>\n",
       "      <th>std</th>\n",
       "      <td>0.0</td>\n",
       "      <td>3.411970e+06</td>\n",
       "      <td>10.946080</td>\n",
       "      <td>14.218909</td>\n",
       "      <td>1.032529e+06</td>\n",
       "      <td>107.861592</td>\n",
       "      <td>15.963913</td>\n",
       "      <td>0.0</td>\n",
       "      <td>14219.543371</td>\n",
       "      <td>9.646328</td>\n",
       "      <td>7.094204</td>\n",
       "      <td>306.905715</td>\n",
       "      <td>7.595824e+04</td>\n",
       "      <td>8.614176e+04</td>\n",
       "      <td>53.877272</td>\n",
       "      <td>82.978771</td>\n",
       "      <td>77.555214</td>\n",
       "      <td>0.0</td>\n",
       "      <td>0.0</td>\n",
       "      <td>54.120634</td>\n",
       "    </tr>\n",
       "    <tr>\n",
       "      <th>min</th>\n",
       "      <td>6218.0</td>\n",
       "      <td>6.218000e+13</td>\n",
       "      <td>182.000000</td>\n",
       "      <td>1.000000</td>\n",
       "      <td>0.000000e+00</td>\n",
       "      <td>0.000000</td>\n",
       "      <td>0.000000</td>\n",
       "      <td>1900.0</td>\n",
       "      <td>1001.000000</td>\n",
       "      <td>-3904.600000</td>\n",
       "      <td>-202.910000</td>\n",
       "      <td>67.000000</td>\n",
       "      <td>0.000000e+00</td>\n",
       "      <td>0.000000e+00</td>\n",
       "      <td>0.000000</td>\n",
       "      <td>0.000000</td>\n",
       "      <td>-7.040000</td>\n",
       "      <td>0.0</td>\n",
       "      <td>0.0</td>\n",
       "      <td>0.000000</td>\n",
       "    </tr>\n",
       "    <tr>\n",
       "      <th>25%</th>\n",
       "      <td>6218.0</td>\n",
       "      <td>6.218000e+13</td>\n",
       "      <td>182.000000</td>\n",
       "      <td>12.000000</td>\n",
       "      <td>1.691200e+04</td>\n",
       "      <td>68.000000</td>\n",
       "      <td>0.000000</td>\n",
       "      <td>1900.0</td>\n",
       "      <td>12002.000000</td>\n",
       "      <td>0.000000</td>\n",
       "      <td>0.000000</td>\n",
       "      <td>67.000000</td>\n",
       "      <td>3.074686e+04</td>\n",
       "      <td>3.485200e+04</td>\n",
       "      <td>49.990000</td>\n",
       "      <td>80.790000</td>\n",
       "      <td>76.750000</td>\n",
       "      <td>0.0</td>\n",
       "      <td>0.0</td>\n",
       "      <td>26.070000</td>\n",
       "    </tr>\n",
       "    <tr>\n",
       "      <th>50%</th>\n",
       "      <td>6218.0</td>\n",
       "      <td>6.218001e+13</td>\n",
       "      <td>182.000000</td>\n",
       "      <td>28.000000</td>\n",
       "      <td>8.119800e+04</td>\n",
       "      <td>85.000000</td>\n",
       "      <td>0.000000</td>\n",
       "      <td>1900.0</td>\n",
       "      <td>28033.000000</td>\n",
       "      <td>0.000000</td>\n",
       "      <td>0.000000</td>\n",
       "      <td>681.000000</td>\n",
       "      <td>7.556660e+04</td>\n",
       "      <td>5.982000e+04</td>\n",
       "      <td>68.330000</td>\n",
       "      <td>110.290000</td>\n",
       "      <td>106.110000</td>\n",
       "      <td>0.0</td>\n",
       "      <td>0.0</td>\n",
       "      <td>49.640000</td>\n",
       "    </tr>\n",
       "    <tr>\n",
       "      <th>75%</th>\n",
       "      <td>6218.0</td>\n",
       "      <td>6.218001e+13</td>\n",
       "      <td>182.000000</td>\n",
       "      <td>38.000000</td>\n",
       "      <td>3.346780e+05</td>\n",
       "      <td>105.000000</td>\n",
       "      <td>0.000000</td>\n",
       "      <td>1900.0</td>\n",
       "      <td>38003.000000</td>\n",
       "      <td>0.000000</td>\n",
       "      <td>0.000000</td>\n",
       "      <td>681.000000</td>\n",
       "      <td>1.228767e+05</td>\n",
       "      <td>8.873300e+04</td>\n",
       "      <td>93.690000</td>\n",
       "      <td>151.030000</td>\n",
       "      <td>146.430000</td>\n",
       "      <td>0.0</td>\n",
       "      <td>0.0</td>\n",
       "      <td>82.380000</td>\n",
       "    </tr>\n",
       "    <tr>\n",
       "      <th>max</th>\n",
       "      <td>6218.0</td>\n",
       "      <td>6.218001e+13</td>\n",
       "      <td>901.000000</td>\n",
       "      <td>52.000000</td>\n",
       "      <td>3.233527e+06</td>\n",
       "      <td>9800.000000</td>\n",
       "      <td>1200.000000</td>\n",
       "      <td>1900.0</td>\n",
       "      <td>52006.000000</td>\n",
       "      <td>0.000000</td>\n",
       "      <td>0.000000</td>\n",
       "      <td>778.000000</td>\n",
       "      <td>6.724415e+06</td>\n",
       "      <td>9.770600e+06</td>\n",
       "      <td>14316.270000</td>\n",
       "      <td>24403.730000</td>\n",
       "      <td>20499.130000</td>\n",
       "      <td>0.0</td>\n",
       "      <td>0.0</td>\n",
       "      <td>9996.840000</td>\n",
       "    </tr>\n",
       "  </tbody>\n",
       "</table>\n",
       "</div>"
      ],
      "text/plain": [
       "       Código Producto Comercial  Código Póliza AIS  Cód Estructura Comercial  \\\n",
       "count                   280385.0       2.803850e+05             280385.000000   \n",
       "mean                      6218.0       6.218001e+13                182.166682   \n",
       "std                          0.0       3.411970e+06                 10.946080   \n",
       "min                       6218.0       6.218000e+13                182.000000   \n",
       "25%                       6218.0       6.218000e+13                182.000000   \n",
       "50%                       6218.0       6.218001e+13                182.000000   \n",
       "75%                       6218.0       6.218001e+13                182.000000   \n",
       "max                       6218.0       6.218001e+13                901.000000   \n",
       "\n",
       "       Provincia del Riesgo  Nº Habitantes en Miles  Superficie Vivienda (m2)  \\\n",
       "count         280385.000000            2.803850e+05             280385.000000   \n",
       "mean              25.830847            5.461173e+05                 91.792050   \n",
       "std               14.218909            1.032529e+06                107.861592   \n",
       "min                1.000000            0.000000e+00                  0.000000   \n",
       "25%               12.000000            1.691200e+04                 68.000000   \n",
       "50%               28.000000            8.119800e+04                 85.000000   \n",
       "75%               38.000000            3.346780e+05                105.000000   \n",
       "max               52.000000            3.233527e+06               9800.000000   \n",
       "\n",
       "       Superficie Anexos (m2)  Año de Construcción de la Vivienda  \\\n",
       "count           280385.000000                            280385.0   \n",
       "mean                 1.892212                              1900.0   \n",
       "std                 15.963913                                 0.0   \n",
       "min                  0.000000                              1900.0   \n",
       "25%                  0.000000                              1900.0   \n",
       "50%                  0.000000                              1900.0   \n",
       "75%                  0.000000                              1900.0   \n",
       "max               1200.000000                              1900.0   \n",
       "\n",
       "       Código Postal del Riesgo  Descuento Colectivo  Descuento Campaña  \\\n",
       "count             280385.000000        280385.000000      280385.000000   \n",
       "mean               26155.027484            -1.380030          -3.055570   \n",
       "std                14219.543371             9.646328           7.094204   \n",
       "min                 1001.000000         -3904.600000        -202.910000   \n",
       "25%                12002.000000             0.000000           0.000000   \n",
       "50%                28033.000000             0.000000           0.000000   \n",
       "75%                38003.000000             0.000000           0.000000   \n",
       "max                52006.000000             0.000000           0.000000   \n",
       "\n",
       "       Código Garantía  Cap Vigor Total  Capital Recomendado   Prima Riesgo  \\\n",
       "count    280385.000000     2.803850e+05         2.803850e+05  280385.000000   \n",
       "mean        398.612041     8.823278e+04         6.989710e+04      77.365816   \n",
       "std         306.905715     7.595824e+04         8.614176e+04      53.877272   \n",
       "min          67.000000     0.000000e+00         0.000000e+00       0.000000   \n",
       "25%          67.000000     3.074686e+04         3.485200e+04      49.990000   \n",
       "50%         681.000000     7.556660e+04         5.982000e+04      68.330000   \n",
       "75%         681.000000     1.228767e+05         8.873300e+04      93.690000   \n",
       "max         778.000000     6.724415e+06         9.770600e+06   14316.270000   \n",
       "\n",
       "       Prima Técnica     Prima Neta  Bonus/Malus  Valor Instalaciones  \\\n",
       "count  280385.000000  280385.000000     280385.0             280385.0   \n",
       "mean      124.617138     120.180470          0.0                  0.0   \n",
       "std        82.978771      77.555214          0.0                  0.0   \n",
       "min         0.000000      -7.040000          0.0                  0.0   \n",
       "25%        80.790000      76.750000          0.0                  0.0   \n",
       "50%       110.290000     106.110000          0.0                  0.0   \n",
       "75%       151.030000     146.430000          0.0                  0.0   \n",
       "max     24403.730000   20499.130000          0.0                  0.0   \n",
       "\n",
       "       Prov Pr No Consumidas  \n",
       "count          280385.000000  \n",
       "mean               61.062341  \n",
       "std                54.120634  \n",
       "min                 0.000000  \n",
       "25%                26.070000  \n",
       "50%                49.640000  \n",
       "75%                82.380000  \n",
       "max              9996.840000  "
      ]
     },
     "execution_count": 612,
     "metadata": {},
     "output_type": "execute_result"
    }
   ],
   "source": [
    "df.describe()"
   ]
  },
  {
   "cell_type": "markdown",
   "id": "e5b618b6-0fac-4d9f-b32e-6d55e2a6d88d",
   "metadata": {},
   "source": [
    "o de la variable que estamos analizando en este caso:"
   ]
  },
  {
   "cell_type": "code",
   "execution_count": 751,
   "id": "075e26df-b0e8-4140-b15c-5cfe90cfb62e",
   "metadata": {},
   "outputs": [
    {
     "data": {
      "text/plain": [
       "count    21465.000000\n",
       "mean        73.405465\n",
       "std         90.165847\n",
       "min         -0.290000\n",
       "25%         16.430000\n",
       "50%         42.880000\n",
       "75%        105.730000\n",
       "max       1765.310000\n",
       "Name: Prima_Neta, dtype: float64"
      ]
     },
     "execution_count": 751,
     "metadata": {},
     "output_type": "execute_result"
    }
   ],
   "source": [
    "df.rename({'Prima Neta': 'Prima_Neta'}, inplace=True, axis=1 )\n",
    "df['Prima_Neta'].describe()"
   ]
  },
  {
   "cell_type": "markdown",
   "id": "e4794be1-7eba-43be-bb7e-cbb559ad9364",
   "metadata": {},
   "source": [
    "#### Box-Plot"
   ]
  },
  {
   "cell_type": "markdown",
   "id": "d2ea08e6-9d14-4964-b089-5ac656009897",
   "metadata": {},
   "source": [
    "Una manera sencilla y mas eficaz de ver si hay outliers es realizar un diagrama de caja (box plot). Es un gráfico basado en los valores cuartiles\n",
>>>>>>> 2046b5bd1d466f2a94b436feae043461f68087d1
    "donde aparece una cajita central y dos segmentos llamados «bigotes» (whiskers).\n",
    "\n",
    "![boxplot](images/boxplot.PNG)\n",
    "\n",
    "La caja central se extiende del cuartil 1 (Q1), que corresponde al percentil 25 %, hasta el cuartil 3 (Q3), que corresponde al percentil 75 %. La diferencia\n",
    "entre Q3 y Q1 se denomina rango intercuartílico (RIC). \n",
    "\n",
    "Los outliers se representan como puntos extremos alejados de los «bigotes» o segmentos exteriores a la caja. Los «bigotes» se extienden hasta los valores mínimo y máximo de la serie de datos o hasta 1,5 veces el RIC. Por tanto, son valores inferiores a Q1 – 1,5 * RIC o superiores a Q3 + 1,5*RIC. "
   ]
  },
  {
   "cell_type": "code",
<<<<<<< HEAD
   "execution_count": 191,
   "id": "97aa8b1a-c75e-49a5-9aba-916533c6d55f",
=======
   "execution_count": 752,
   "id": "772fe8e5-d9e8-4513-84cd-b57859440294",
>>>>>>> 2046b5bd1d466f2a94b436feae043461f68087d1
   "metadata": {},
   "outputs": [
    {
     "data": {
<<<<<<< HEAD
      "image/png": "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\n",
=======
      "image/png": "iVBORw0KGgoAAAANSUhEUgAAAZEAAAD4CAYAAAAtrdtxAAAAOXRFWHRTb2Z0d2FyZQBNYXRwbG90bGliIHZlcnNpb24zLjQuMiwgaHR0cHM6Ly9tYXRwbG90bGliLm9yZy8rg+JYAAAACXBIWXMAAAsTAAALEwEAmpwYAAAZiklEQVR4nO3df5BV9X3/8ecrEM0vrRC3lAIW9LvaL7Ep4kaZSUzTGgFJI5q2FiYNxDoSR52Jk3YaTDrVSerUtDW2tCkpxh0hXyOaGCPfBEtWJtXpTFEWpfxQCQti3c0KW7DBRkeLffeP87l6XO8ul8Oec/dmX4+ZM/ec9/n1Pmfxvj2f87nnKCIwMzMr4m3NTsDMzFqXi4iZmRXmImJmZoW5iJiZWWEuImZmVtj4ZidQtVNPPTWmT5/e7DTMzFrKli1b/iMi2gbHx1wRmT59Ot3d3c1Ow8yspUh6tl7czVlmZlaYi4iZmRVWWhGRNE3SjyQ9KWmnpM+m+ERJXZJ2p88JKS5JKyT1SNomaXZuW0vT8rslLc3Fz5W0Pa2zQpLKOh4zM3urMq9EjgB/FBEzgTnAtZJmAsuBjRHRDmxM0wAXA+1pWAashKzoADcC5wPnATfWCk9a5qrcevNLPB4zMxuktCISEf0R8XgafxF4CpgCLARWp8VWA5em8YXAmshsAk6RNBmYB3RFxKGIeAHoAuaneSdHxKbIHgC2JrctMzOrQCX3RCRNB84BHgUmRUR/mvU8MCmNTwGey63Wm2LDxXvrxOvtf5mkbkndAwMDx3cwZmb2utKLiKT3APcB10fE4fy8dAVR+mOEI2JVRHREREdb21u6OZuZWUGlFhFJbycrIHdFxHdTeH9qiiJ9HkjxPmBabvWpKTZcfGqduJmZVaTM3lkC7gCeioiv5matA2o9rJYCD+TiS1IvrTnAT1Oz1wZgrqQJ6Yb6XGBDmndY0py0ryW5bZmZWQXK/MX6B4FPAdslbU2xLwC3APdKuhJ4Frg8zVsPLAB6gJeAKwAi4pCkLwOb03JfiohDafwa4E7gncCDaSjN9OU/KHPzQ9p3y8easl8zs6MprYhExL8AQ/1u48I6ywdw7RDb6gQ668S7gbOPI00zMzsO/sW6mZkV5iJiZmaFuYiYmVlhLiJmZlaYi4iZmRXmImJmZoW5iJiZWWEuImZmVpiLiJmZFeYiYmZmhbmImJlZYS4iZmZWmIuImZkV5iJiZmaFuYiYmVlhLiJmZlaYi4iZmRVW5jvWOyUdkLQjF7tH0tY07Ku9NlfSdEkv5+Z9PbfOuZK2S+qRtCK9Tx1JEyV1SdqdPieUdSxmZlZfmVcidwLz84GI+P2ImBURs4D7gO/mZu+pzYuIq3PxlcBVQHsaattcDmyMiHZgY5o2M7MKlVZEIuIR4FC9eelq4nLg7uG2IWkycHJEbErvYF8DXJpmLwRWp/HVubiZmVWkWfdELgD2R8TuXGyGpCckPSzpghSbAvTmlulNMYBJEdGfxp8HJpWasZmZvcX4Ju13MW++CukHTouIg5LOBb4n6X2NbiwiQlIMNV/SMmAZwGmnnVYwZTMzG6zyKxFJ44FPAPfUYhHxSkQcTONbgD3AmUAfMDW3+tQUA9ifmrtqzV4HhtpnRKyKiI6I6GhraxvJwzEzG9Oa0Zz1UeDpiHi9mUpSm6Rxafx0shvoe1Nz1WFJc9J9lCXAA2m1dcDSNL40Fzczs4qU2cX3buBfgbMk9Uq6Ms1axFtvqH8Y2Ja6/H4HuDoiajflrwG+AfSQXaE8mOK3ABdJ2k1WmG4p61jMzKy+0u6JRMTiIeKfrhO7j6zLb73lu4Gz68QPAhceX5ZmZnY8/It1MzMrzEXEzMwKcxExM7PCXETMzKwwFxEzMyvMRcTMzApzETEzs8JcRMzMrDAXETMzK8xFxMzMCnMRMTOzwlxEzMysMBcRMzMrzEXEzMwKcxExM7PCXETMzKwwFxEzMyvMRcTMzAor8x3rnZIOSNqRi90kqU/S1jQsyM27QVKPpF2S5uXi81OsR9LyXHyGpEdT/B5JJ5R1LGZmVl+ZVyJ3AvPrxG+LiFlpWA8gaSawCHhfWucfJI2TNA74GnAxMBNYnJYF+Era1v8BXgCuLPFYzMysjtKKSEQ8AhxqcPGFwNqIeCUingF6gPPS0BMReyPiVWAtsFCSgN8CvpPWXw1cOpL5m5nZ0TXjnsh1kral5q4JKTYFeC63TG+KDRV/L/CfEXFkULwuScskdUvqHhgYGKnjMDMb86ouIiuBM4BZQD9waxU7jYhVEdERER1tbW1V7NLMbEwYX+XOImJ/bVzS7cD302QfMC236NQUY4j4QeAUSePT1Uh+eTMzq0ilVyKSJucmLwNqPbfWAYsknShpBtAOPAZsBtpTT6wTyG6+r4uIAH4E/G5afynwQBXHYGZmbyjtSkTS3cBHgFMl9QI3Ah+RNAsIYB/wGYCI2CnpXuBJ4AhwbUS8lrZzHbABGAd0RsTOtIvPA2sl/TnwBHBHWcdiZmb1lVZEImJxnfCQX/QRcTNwc534emB9nfhest5bZmbWJP7FupmZFeYiYmZmhbmImJlZYS4iZmZWmIuImZkV5iJiZmaFuYiYmVlhLiJmZlaYi4iZmRXmImJmZoW5iJiZWWEuImZmVpiLiJmZFeYiYmZmhbmImJlZYS4iZmZWmIuImZkVVloRkdQp6YCkHbnYX0l6WtI2SfdLOiXFp0t6WdLWNHw9t865krZL6pG0QpJSfKKkLkm70+eEso7FzMzqK/NK5E5g/qBYF3B2RLwf+DFwQ27enoiYlYarc/GVwFVAexpq21wObIyIdmBjmjYzswqVVkQi4hHg0KDYDyPiSJrcBEwdbhuSJgMnR8SmiAhgDXBpmr0QWJ3GV+fiZmZWkYaKiKRfK2Hffwg8mJueIekJSQ9LuiDFpgC9uWV6UwxgUkT0p/HngUlD7UjSMkndkroHBgZGKH0zM2v0SuQfJD0m6RpJv3C8O5X0ReAIcFcK9QOnRcQ5wOeAb0k6udHtpauUGGb+qojoiIiOtra248jczMzyGioiEXEB8ElgGrBF0rckXVRkh5I+Dfw28Mn05U9EvBIRB9P4FmAPcCbQx5ubvKamGMD+1NxVa/Y6UCQfMzMrruF7IhGxG/hT4PPAbwArUk+rTzS6DUnzgT8BLomIl3LxNknj0vjpZDfQ96bmqsOS5qReWUuAB9Jq64ClaXxpLm5mZhVp9J7I+yXdBjwF/Bbw8Yj4v2n8tiHWuRv4V+AsSb2SrgT+HjgJ6BrUlffDwDZJW4HvAFdHRO2m/DXAN4AesiuU2n2UW4CLJO0GPpqmzcysQuMbXO7vyL7IvxARL9eCEfETSX9ab4WIWFwnfMcQy94H3DfEvG7g7Drxg8CFR0/dzMzK0mgR+RjwckS8BiDpbcA7IuKliPhmadmZmdmo1ug9kYeAd+am35ViZmY2hjVaRN4REf9Vm0jj7yonJTMzaxWNFpGfSZpdm5B0LvDyMMubmdkY0Og9keuBb0v6CSDgl4DfLyspMzNrDQ0VkYjYLOlXgbNSaFdE/Hd5aZmZWSto9EoE4APA9LTObElExJpSsjIzs5bQUBGR9E3gDGAr8FoK156qa2ZmY1SjVyIdwMzas67MzMyg8d5ZO8huppuZmb2u0SuRU4EnJT0GvFILRsQlpWRlZmYtodEiclOZSZiZWWtqtIvvw5J+BWiPiIckvQsYV25qZmY22jX6KPiryB7R/o8pNAX4Xkk5mZlZi2j0xvq1wAeBw/D6C6p+saykzMysNTRaRF6JiFdrE5LGM8w7zc3MbGxotIg8LOkLwDvTu9W/Dfz/8tIyM7NW0GgRWQ4MANuBzwDryd63PixJnZIOSNqRi02U1CVpd/qckOKStEJSj6Rtg54avDQtv1vS0lz8XEnb0zor0nvYzcysIg0VkYj4n4i4PSJ+LyJ+N4030px1JzB/UGw5sDEi2oGNaRrgYqA9DcuAlZAVHeBG4HzgPODGWuFJy1yVW2/wvszMrESN9s56RtLewcPR1ouIR4BDg8ILgdVpfDVwaS6+JjKbgFMkTQbmAV0RcSgiXgC6gPlp3skRsSkVtDW5bZmZWQWO5dlZNe8Afg+YWHCfkyKiP40/D0xK41OA53LL9abYcPHeOnEzM6tIo81ZB3NDX0T8DfCx4915uoIovZeXpGWSuiV1DwwMlL07M7Mxo9FHwc/OTb6N7MrkWN5Fkrdf0uSI6E9NUgdSvA+Ylltuaor1AR8ZFP/nFJ9aZ/m3iIhVwCqAjo4Od002MxshjfbOujU3/AVwLnB5wX2uA2o9rJYCD+TiS1IvrTnAT1Oz1wZgrqQJ6Yb6XGBDmndY0pzUK2tJbltmZlaBRp+d9ZtFNi7pbrKriFMl9ZL1sroFuFfSlcCzvFGM1gMLgB7gJeCKtO9Dkr4MbE7LfSkiajfrryHrAfZO4ME0mJlZRRptzvrccPMj4qtDxBcPscqFdZYNsser1NtOJ9BZJ94NnD1cbmZmVp5j6Z31AbImJ4CPA48Bu8tIyszMWkOjRWQqMDsiXgSQdBPwg4j4g7ISMzOz0a/RG+uTgFdz06/yxu87zMxsjGr0SmQN8Jik+9P0pbzxq3MzMxujGu2ddbOkB4ELUuiKiHiivLTMzKwVNNqcBfAu4HBE/C3QK2lGSTmZmVmLaPQBjDcCnwduSKG3A/+vrKTMzKw1NHolchlwCfAzgIj4CXBSWUmZmVlraLSIvJp/WKKkd5eXkpmZtYpGi8i9kv6R7B0fVwEPAbeXl5aZmbWCo/bOSg83vAf4VeAwcBbwZxHRVXJuZmY2yh21iERESFofEb9G9lZBMzMzoPHmrMclfaDUTMzMrOU0+ov184E/kLSPrIeWyC5S3l9WYmZmNvoNW0QknRYR/w7MqygfMzNrIUe7Evke2dN7n5V0X0T8TgU5mZlZizjaPRHlxk8vMxEzM2s9RysiMcS4mZnZUYvIr0s6LOlF4P1p/LCkFyUdLrJDSWdJ2pobDku6XtJNkvpy8QW5dW6Q1CNpl6R5ufj8FOuRtLxIPmZmVtyw90QiYtxI7zAidgGzACSNA/qA+4ErgNsi4q/zy0uaCSwC3gf8MvCQpDPT7K8BFwG9wGZJ6yLiyZHO2czM6mu0i29ZLgT2pBv3Qy2zEFgbEa8Az0jqAc5L83oiYi+ApLVpWRcRM7OKHMv7RMqwCLg7N32dpG2SOiVNSLEpwHO5ZXpTbKj4W0haJqlbUvfAwMDIZW9mNsY1rYhIOoHs8fLfTqGVwBlkTV39wK0jta+IWBURHRHR0dbWNlKbNTMb85rZnHUx8HhE7AeofQJIuh34fprsA6bl1puaYgwTNzOzCjSzOWsxuaYsSZNz8y4DdqTxdcAiSSemV/K2A48Bm4F2STPSVc2itKyZmVWkKVci6aVWFwGfyYX/UtIsst+j7KvNi4idku4lu2F+BLg2Il5L27kO2ACMAzojYmdVx2BmZk0qIhHxM+C9g2KfGmb5m4Gb68TXA+tHPEEzM2tIs3tnmZlZC3MRMTOzwlxEzMysMBcRMzMrzEXEzMwKcxExM7PCXETMzKwwFxEzMyvMRcTMzApzETEzs8JcRMzMrDAXETMzK8xFxMzMCnMRMTOzwlxEzMysMBcRMzMrzEXEzMwKa1oRkbRP0nZJWyV1p9hESV2SdqfPCSkuSSsk9UjaJml2bjtL0/K7JS1t1vGYmY1Fzb4S+c2ImBURHWl6ObAxItqBjWka4GKgPQ3LgJWQFR3gRuB84DzgxlrhMTOz8jW7iAy2EFidxlcDl+biayKzCThF0mRgHtAVEYci4gWgC5hfcc5mZmNWM4tIAD+UtEXSshSbFBH9afx5YFIanwI8l1u3N8WGir+JpGWSuiV1DwwMjOQxmJmNaeObuO8PRUSfpF8EuiQ9nZ8ZESEpRmJHEbEKWAXQ0dExIts0M7MmXolERF/6PADcT3ZPY39qpiJ9HkiL9wHTcqtPTbGh4mZmVoGmFBFJ75Z0Um0cmAvsANYBtR5WS4EH0vg6YEnqpTUH+Glq9toAzJU0Id1Qn5tiZmZWgWY1Z00C7pdUy+FbEfFPkjYD90q6EngWuDwtvx5YAPQALwFXAETEIUlfBjan5b4UEYeqOwwzs7GtKUUkIvYCv14nfhC4sE48gGuH2FYn0DnSOZqZ2dGNti6+ZmbWQlxEzMysMBcRMzMrzEXEzMwKcxExM7PCXETMzKwwFxEzMyvMRcTMzApzETEzs8JcRMzMrDAXETMzK8xFxMzMCnMRMTOzwlxEzMysMBcRMzMrzEXEzMwKcxExM7PCKi8ikqZJ+pGkJyXtlPTZFL9JUp+krWlYkFvnBkk9knZJmpeLz0+xHknLqz4WM7Oxrhmvxz0C/FFEPC7pJGCLpK4077aI+Ov8wpJmAouA9wG/DDwk6cw0+2vARUAvsFnSuoh4spKjMDOz6otIRPQD/Wn8RUlPAVOGWWUhsDYiXgGekdQDnJfm9aT3tSNpbVrWRcTMrCJNvSciaTpwDvBoCl0naZukTkkTUmwK8Fxutd4UGypebz/LJHVL6h4YGBjJQzAzG9OaVkQkvQe4D7g+Ig4DK4EzgFlkVyq3jtS+ImJVRHREREdbW9tIbdbMbMxrxj0RJL2drIDcFRHfBYiI/bn5twPfT5N9wLTc6lNTjGHiZmZWgWb0zhJwB/BURHw1F5+cW+wyYEcaXwcsknSipBlAO/AYsBlolzRD0glkN9/XVXEMZmaWacaVyAeBTwHbJW1NsS8AiyXNAgLYB3wGICJ2SrqX7Ib5EeDaiHgNQNJ1wAZgHNAZETurOwwzM2tG76x/AVRn1vph1rkZuLlOfP1w65mZWbn8i3UzMyvMRcTMzApzETEzs8JcRMzMrDAXETMzK8xFxMzMCmvKL9bt2Exf/oOm7XvfLR9r2r7NbPTzlYiZmRXmImJmZoW5iJiZWWEuImZmVpiLiJmZFeYiYmZmhbmImJlZYS4iZmZWmIuImZkV5iJiZmaFuYiYmVlhLf/sLEnzgb8le8/6NyLilian9HOlWc/t8jO7zFpDS1+JSBoHfA24GJgJLJY0s7lZmZmNHa1+JXIe0BMRewEkrQUWAk82NSs7bn5ysVlraPUiMgV4LjfdC5w/eCFJy4BlafK/JO0quL9Tgf8ouG7VnGtB+sqws0dVrkfRSrlCa+U7FnP9lXrBVi8iDYmIVcCq492OpO6I6BiBlErnXMvhXMvTSvk61ze09D0RoA+YlpuemmJmZlaBVi8im4F2STMknQAsAtY1OSczszGjpZuzIuKIpOuADWRdfDsjYmeJuzzuJrEKOddyONfytFK+zjVRRJS5fTMz+znW6s1ZZmbWRC4iZmZWmItIgyTNl7RLUo+k5U3OZZqkH0l6UtJOSZ9N8Zsk9UnamoYFuXVuSLnvkjSvCTnvk7Q95dWdYhMldUnanT4npLgkrUj5bpM0u8I8z8qdv62SDku6frScW0mdkg5I2pGLHfN5lLQ0Lb9b0tIKc/0rSU+nfO6XdEqKT5f0cu78fj23zrnp305POh5VlOsx/82r+J4YItd7cnnuk7Q1xcs/rxHh4SgD2U37PcDpwAnAvwEzm5jPZGB2Gj8J+DHZY19uAv64zvIzU84nAjPSsYyrOOd9wKmDYn8JLE/jy4GvpPEFwIOAgDnAo038uz9P9iOrUXFugQ8Ds4EdRc8jMBHYmz4npPEJFeU6Fxifxr+Sy3V6frlB23ks5a90PBdXlOsx/c2r+p6ol+ug+bcCf1bVefWVSGNef7xKRLwK1B6v0hQR0R8Rj6fxF4GnyH69P5SFwNqIeCUingF6yI6p2RYCq9P4auDSXHxNZDYBp0ia3IT8LgT2RMSzwyxT6bmNiEeAQ3VyOJbzOA/oiohDEfEC0AXMryLXiPhhRBxJk5vIfts1pJTvyRGxKbJvvjW8cXyl5jqMof7mlXxPDJdrupq4HLh7uG2M5Hl1EWlMvcerDPelXRlJ04FzgEdT6LrUVNBZa9ZgdOQfwA8lbVH2GBqASRHRn8afByal8dGQL2S/O8r/xzhaz+2xnsfRkDPAH5L9H3DNDElPSHpY0gUpNoUsv5qqcz2Wv/loOK8XAPsjYncuVup5dRFpYZLeA9wHXB8Rh4GVwBnALKCf7LJ2tPhQRMwme+LytZI+nJ+Z/m9o1PQ3V/bj1UuAb6fQaD63rxtt53Eokr4IHAHuSqF+4LSIOAf4HPAtSSc3K7+kJf7mgyzmzf/jU/p5dRFpzKh7vIqkt5MVkLsi4rsAEbE/Il6LiP8BbueNZpWm5x8RfenzAHB/ym1/rZkqfR5Iizc9X7Ji93hE7IfRfW459vPY1JwlfRr4beCTqeiRmoYOpvEtZPcWzkx55Zu8Ksu1wN+82ed1PPAJ4J5arIrz6iLSmFH1eJXU7nkH8FREfDUXz983uAyo9d5YByySdKKkGUA72U21qvJ9t6STauNkN1d3pLxqPYOWAg/k8l2SehfNAX6aa66pypv+j260nttcDsdyHjcAcyVNSE00c1OsdMpeIvcnwCUR8VIu3qbs/UBIOp3sPO5N+R6WNCf9u1+SO76ycz3Wv3mzvyc+CjwdEa83U1VyXke658DP60DW0+XHZJX8i03O5UNkTRbbgK1pWAB8E9ie4uuAybl1vphy30UJvVuOku/pZD1V/g3YWTt/wHuBjcBu4CFgYoqL7GVje9LxdFSc77uBg8Av5GKj4tySFbZ+4L/J2rGvLHIeye5H9KThigpz7SG7b1D7d/v1tOzvpH8bW4HHgY/nttNB9gW+B/h70pM2Ksj1mP/mVXxP1Ms1xe8Erh60bOnn1Y89MTOzwtycZWZmhbmImJlZYS4iZmZWmIuImZkV5iJiZmaFuYiYmVlhLiJmZlbY/wL4enbQrIhRWQAAAABJRU5ErkJggg==\n",
>>>>>>> 2046b5bd1d466f2a94b436feae043461f68087d1
      "text/plain": [
       "<Figure size 432x288 with 1 Axes>"
      ]
     },
     "metadata": {
      "needs_background": "light"
     },
     "output_type": "display_data"
    }
   ],
   "source": [
<<<<<<< HEAD
    "df.boxplot(column='RENTA MÍNIMA GARANTIZADA');    "
=======
    "df.Prima_Neta.plot(kind='hist');    "
>>>>>>> 2046b5bd1d466f2a94b436feae043461f68087d1
   ]
  },
  {
   "cell_type": "code",
<<<<<<< HEAD
   "execution_count": 192,
   "id": "82c90366-a752-4937-ac31-546748704b1c",
=======
   "execution_count": 753,
   "id": "97aa8b1a-c75e-49a5-9aba-916533c6d55f",
>>>>>>> 2046b5bd1d466f2a94b436feae043461f68087d1
   "metadata": {},
   "outputs": [
    {
     "data": {
<<<<<<< HEAD
      "image/png": "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\n",
=======
      "image/png": "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\n",
>>>>>>> 2046b5bd1d466f2a94b436feae043461f68087d1
      "text/plain": [
       "<Figure size 432x288 with 1 Axes>"
      ]
     },
     "metadata": {
      "needs_background": "light"
     },
     "output_type": "display_data"
    }
   ],
   "source": [
<<<<<<< HEAD
    "df['RENTA MÍNIMA GARANTIZADA'].plot(kind='hist');"
=======
    "df.boxplot(column='Prima_Neta');    "
>>>>>>> 2046b5bd1d466f2a94b436feae043461f68087d1
   ]
  },
  {
   "cell_type": "markdown",
   "id": "12d856df-64cc-45c7-add4-e2c52c9a5cc0",
   "metadata": {},
   "source": [
    "Ahora veamos exclusivamente esos filas con esos posibles outliers para determinar si realmente lo son"
   ]
  },
  {
   "cell_type": "markdown",
   "id": "e957cc06-446f-4fb6-aa02-c0d70c5cd879",
   "metadata": {},
   "source": [
    "Para eso primero calculamos los quantiles que nos mostro el boxplot"
   ]
  },
  {
   "cell_type": "code",
<<<<<<< HEAD
   "execution_count": 194,
=======
   "execution_count": 754,
>>>>>>> 2046b5bd1d466f2a94b436feae043461f68087d1
   "id": "2699d259-cef3-416e-b5e5-fd7300df324d",
   "metadata": {},
   "outputs": [],
   "source": [
<<<<<<< HEAD
    "Q1 = df['RENTA MÍNIMA GARANTIZADA'].quantile(0.25)\n",
    "Q3 = df['RENTA MÍNIMA GARANTIZADA'].quantile(0.75)\n",
=======
    "Q1 = df['Prima_Neta'].quantile(0.25)\n",
    "Q3 = df['Prima_Neta'].quantile(0.75)\n",
>>>>>>> 2046b5bd1d466f2a94b436feae043461f68087d1
    "IQR = Q3 - Q1"
   ]
  },
  {
   "cell_type": "markdown",
   "id": "887b0662-ebfd-4f67-aa41-46ab5cd8e007",
   "metadata": {},
   "source": [
    "Para luego filtrar el df y visualizar cuales son esas filas y a partir de una inspeccion visual, confirmar nosotros mismos si se trata de un outlier o no. "
   ]
  },
  {
   "cell_type": "code",
<<<<<<< HEAD
   "execution_count": 195,
=======
   "execution_count": 755,
>>>>>>> 2046b5bd1d466f2a94b436feae043461f68087d1
   "id": "d89ec0ef-c415-4556-ad05-5dbfdc0a6c9f",
   "metadata": {},
   "outputs": [
    {
     "name": "stdout",
     "output_type": "stream",
     "text": [
<<<<<<< HEAD
      "13     671.16\n",
      "23    2049.01\n",
      "37    1768.48\n",
      "39    1444.32\n",
      "41    1904.50\n",
      "Name: RENTA MÍNIMA GARANTIZADA, dtype: float64\n"
=======
      "28       275.36\n",
      "57       273.20\n",
      "58       403.97\n",
      "70       289.86\n",
      "142      393.68\n",
      "          ...  \n",
      "21197    340.59\n",
      "21273    306.47\n",
      "21281    290.17\n",
      "21329    280.33\n",
      "21451    295.44\n",
      "Name: Prima_Neta, Length: 854, dtype: float64\n"
>>>>>>> 2046b5bd1d466f2a94b436feae043461f68087d1
     ]
    }
   ],
   "source": [
<<<<<<< HEAD
    "likely_outliers = df[(df['RENTA MÍNIMA GARANTIZADA'] < Q1-1.5*IQR ) | (df['RENTA MÍNIMA GARANTIZADA'] > Q3+1.5*IQR)]\n",
    "print(likely_outliers['RENTA MÍNIMA GARANTIZADA'])"
=======
    "likely_outliers = df[(df['Prima_Neta'] < Q1-1.5*IQR ) | (df['Prima_Neta'] > Q3+1.5*IQR)]\n",
    "print(likely_outliers['Prima_Neta'])"
>>>>>>> 2046b5bd1d466f2a94b436feae043461f68087d1
   ]
  },
  {
   "cell_type": "code",
<<<<<<< HEAD
   "execution_count": 196,
=======
   "execution_count": 760,
>>>>>>> 2046b5bd1d466f2a94b436feae043461f68087d1
   "id": "35a1fd98-2c3a-4864-be39-225674586b5a",
   "metadata": {},
   "outputs": [
    {
     "data": {
      "text/html": [
       "<div>\n",
       "<style scoped>\n",
       "    .dataframe tbody tr th:only-of-type {\n",
       "        vertical-align: middle;\n",
       "    }\n",
       "\n",
       "    .dataframe tbody tr th {\n",
       "        vertical-align: top;\n",
       "    }\n",
       "\n",
       "    .dataframe thead th {\n",
       "        text-align: right;\n",
       "    }\n",
       "</style>\n",
       "<table border=\"1\" class=\"dataframe\">\n",
       "  <thead>\n",
       "    <tr style=\"text-align: right;\">\n",
       "      <th></th>\n",
<<<<<<< HEAD
       "      <th>Fecha</th>\n",
       "      <th>Fecha entrega</th>\n",
       "      <th>CIA</th>\n",
       "      <th>Ramo</th>\n",
       "      <th>Modalidad</th>\n",
       "      <th>DC</th>\n",
       "      <th>SUC</th>\n",
       "      <th>Agente</th>\n",
       "      <th>Nº Póliza (esp)</th>\n",
       "      <th>Nº Póliza (ger)</th>\n",
       "      <th>...</th>\n",
       "      <th>MAX RESCATE PARCIAL</th>\n",
       "      <th>SUMA RESCATES</th>\n",
       "      <th>CAP. FALLECIMIENTO FIN MES</th>\n",
       "      <th>CAPITAL MÍNIMO GARANTIZADO</th>\n",
       "      <th>RENTA MÍNIMA GARANTIZADA</th>\n",
       "      <th>POLIZAS_45</th>\n",
       "      <th>Motivo Cancelación AZS</th>\n",
       "      <th>IND_NP</th>\n",
       "      <th>CARTERA_SAP</th>\n",
       "      <th>IND_DIF</th>\n",
=======
       "      <th>Fecha Dato</th>\n",
       "      <th>Código Producto Técnico</th>\n",
       "      <th>Producto Técnico</th>\n",
       "      <th>Código Producto Comercial</th>\n",
       "      <th>Producto Comercial</th>\n",
       "      <th>Código Póliza AIS</th>\n",
       "      <th>Código Compañía</th>\n",
       "      <th>Compañía</th>\n",
       "      <th>Fecha Inicio Póliza</th>\n",
       "      <th>Fecha Efecto Natural</th>\n",
       "      <th>...</th>\n",
       "      <th>Nº Pól Baja Vencimiento</th>\n",
       "      <th>Prima Riesgo</th>\n",
       "      <th>Prima Técnica</th>\n",
       "      <th>Prima_Neta</th>\n",
       "      <th>Descuento por Campaña.1</th>\n",
       "      <th>Descuento Colectivo.1</th>\n",
       "      <th>Capital Recomendado</th>\n",
       "      <th>Cap Baja Vencimiento</th>\n",
       "      <th>Código Causas de Movimientos</th>\n",
       "      <th>Causas de Movimientos</th>\n",
>>>>>>> 2046b5bd1d466f2a94b436feae043461f68087d1
       "    </tr>\n",
       "  </thead>\n",
       "  <tbody>\n",
       "    <tr>\n",
<<<<<<< HEAD
       "      <th>13</th>\n",
       "      <td>20210331</td>\n",
       "      <td>20210324</td>\n",
       "      <td>2</td>\n",
       "      <td>2295</td>\n",
       "      <td>166</td>\n",
       "      <td>0</td>\n",
       "      <td>0</td>\n",
       "      <td>9510278</td>\n",
       "      <td>46008040</td>\n",
       "      <td>5224691687</td>\n",
       "      <td>...</td>\n",
       "      <td>0</td>\n",
       "      <td>0.0</td>\n",
       "      <td>49030.68</td>\n",
       "      <td>49000.0</td>\n",
       "      <td>671.16</td>\n",
       "      <td>0</td>\n",
       "      <td>0</td>\n",
       "      <td>0</td>\n",
       "      <td>640</td>\n",
       "      <td>0</td>\n",
       "    </tr>\n",
       "    <tr>\n",
       "      <th>23</th>\n",
       "      <td>20210331</td>\n",
       "      <td>20210324</td>\n",
       "      <td>2</td>\n",
       "      <td>2295</td>\n",
       "      <td>166</td>\n",
       "      <td>0</td>\n",
       "      <td>0</td>\n",
       "      <td>9510278</td>\n",
       "      <td>46007577</td>\n",
       "      <td>5224659045</td>\n",
       "      <td>...</td>\n",
       "      <td>0</td>\n",
       "      <td>0.0</td>\n",
       "      <td>98061.37</td>\n",
       "      <td>98000.0</td>\n",
       "      <td>2049.01</td>\n",
       "      <td>0</td>\n",
       "      <td>0</td>\n",
       "      <td>0</td>\n",
       "      <td>640</td>\n",
       "      <td>0</td>\n",
       "    </tr>\n",
       "    <tr>\n",
       "      <th>37</th>\n",
       "      <td>20210331</td>\n",
       "      <td>20210324</td>\n",
       "      <td>2</td>\n",
       "      <td>2295</td>\n",
       "      <td>166</td>\n",
       "      <td>0</td>\n",
       "      <td>0</td>\n",
       "      <td>9510278</td>\n",
       "      <td>46007610</td>\n",
       "      <td>5224659090</td>\n",
       "      <td>...</td>\n",
       "      <td>0</td>\n",
       "      <td>0.0</td>\n",
       "      <td>98061.37</td>\n",
       "      <td>98000.0</td>\n",
       "      <td>1768.48</td>\n",
       "      <td>0</td>\n",
       "      <td>0</td>\n",
       "      <td>0</td>\n",
       "      <td>640</td>\n",
       "      <td>0</td>\n",
       "    </tr>\n",
       "    <tr>\n",
       "      <th>39</th>\n",
       "      <td>20210331</td>\n",
       "      <td>20210324</td>\n",
       "      <td>2</td>\n",
       "      <td>2295</td>\n",
       "      <td>166</td>\n",
       "      <td>0</td>\n",
       "      <td>0</td>\n",
       "      <td>9510278</td>\n",
       "      <td>46007614</td>\n",
       "      <td>5224662111</td>\n",
       "      <td>...</td>\n",
       "      <td>0</td>\n",
       "      <td>0.0</td>\n",
       "      <td>49030.68</td>\n",
       "      <td>49000.0</td>\n",
       "      <td>1444.32</td>\n",
       "      <td>0</td>\n",
       "      <td>0</td>\n",
       "      <td>0</td>\n",
       "      <td>640</td>\n",
       "      <td>0</td>\n",
       "    </tr>\n",
       "    <tr>\n",
       "      <th>41</th>\n",
       "      <td>20210331</td>\n",
       "      <td>20210324</td>\n",
       "      <td>2</td>\n",
       "      <td>2295</td>\n",
       "      <td>166</td>\n",
       "      <td>0</td>\n",
       "      <td>0</td>\n",
       "      <td>9510278</td>\n",
       "      <td>46011147</td>\n",
       "      <td>5224702297</td>\n",
       "      <td>...</td>\n",
       "      <td>0</td>\n",
       "      <td>0.0</td>\n",
       "      <td>98065.38</td>\n",
       "      <td>98000.0</td>\n",
       "      <td>1904.50</td>\n",
       "      <td>0</td>\n",
       "      <td>0</td>\n",
       "      <td>0</td>\n",
       "      <td>640</td>\n",
       "      <td>0</td>\n",
       "    </tr>\n",
       "  </tbody>\n",
       "</table>\n",
       "<p>5 rows × 40 columns</p>\n",
       "</div>"
      ],
      "text/plain": [
       "       Fecha  Fecha entrega  CIA  Ramo  Modalidad  DC  SUC   Agente  \\\n",
       "13  20210331       20210324    2  2295        166   0    0  9510278   \n",
       "23  20210331       20210324    2  2295        166   0    0  9510278   \n",
       "37  20210331       20210324    2  2295        166   0    0  9510278   \n",
       "39  20210331       20210324    2  2295        166   0    0  9510278   \n",
       "41  20210331       20210324    2  2295        166   0    0  9510278   \n",
       "\n",
       "    Nº Póliza (esp)  Nº Póliza (ger)  ...  MAX RESCATE PARCIAL  SUMA RESCATES  \\\n",
       "13         46008040       5224691687  ...                    0            0.0   \n",
       "23         46007577       5224659045  ...                    0            0.0   \n",
       "37         46007610       5224659090  ...                    0            0.0   \n",
       "39         46007614       5224662111  ...                    0            0.0   \n",
       "41         46011147       5224702297  ...                    0            0.0   \n",
       "\n",
       "   CAP. FALLECIMIENTO FIN MES CAPITAL MÍNIMO GARANTIZADO  \\\n",
       "13                   49030.68                    49000.0   \n",
       "23                   98061.37                    98000.0   \n",
       "37                   98061.37                    98000.0   \n",
       "39                   49030.68                    49000.0   \n",
       "41                   98065.38                    98000.0   \n",
       "\n",
       "    RENTA MÍNIMA GARANTIZADA  POLIZAS_45  Motivo Cancelación AZS  IND_NP  \\\n",
       "13                    671.16           0                       0       0   \n",
       "23                   2049.01           0                       0       0   \n",
       "37                   1768.48           0                       0       0   \n",
       "39                   1444.32           0                       0       0   \n",
       "41                   1904.50           0                       0       0   \n",
       "\n",
       "    CARTERA_SAP  IND_DIF  \n",
       "13          640        0  \n",
       "23          640        0  \n",
       "37          640        0  \n",
       "39          640        0  \n",
       "41          640        0  \n",
       "\n",
       "[5 rows x 40 columns]"
      ]
     },
     "execution_count": 196,
     "metadata": {},
     "output_type": "execute_result"
    }
   ],
   "source": [
    "likely_outliers"
   ]
  },
  {
   "cell_type": "markdown",
   "id": "3ebfb2a7-6466-45ed-933f-91d10f813974",
   "metadata": {},
   "source": [
    "Otra alternativa es realizar obtener estadisticas basica de todo el dataset, para poder visualizar la media, la mediana, cantidad de registros, etc..y en base a eso entender un poco mas el contenido del dataset."
   ]
  },
  {
   "cell_type": "code",
   "execution_count": 205,
   "id": "03e11c7c-3395-432e-97e9-bd8b7f9311d2",
   "metadata": {},
   "outputs": [
    {
     "data": {
      "text/html": [
       "<div>\n",
       "<style scoped>\n",
       "    .dataframe tbody tr th:only-of-type {\n",
       "        vertical-align: middle;\n",
       "    }\n",
       "\n",
       "    .dataframe tbody tr th {\n",
       "        vertical-align: top;\n",
       "    }\n",
       "\n",
       "    .dataframe thead th {\n",
       "        text-align: right;\n",
       "    }\n",
       "</style>\n",
       "<table border=\"1\" class=\"dataframe\">\n",
       "  <thead>\n",
       "    <tr style=\"text-align: right;\">\n",
       "      <th></th>\n",
       "      <th>Fecha</th>\n",
       "      <th>Fecha entrega</th>\n",
       "      <th>CIA</th>\n",
       "      <th>Ramo</th>\n",
       "      <th>Modalidad</th>\n",
       "      <th>DC</th>\n",
       "      <th>SUC</th>\n",
       "      <th>Agente</th>\n",
       "      <th>Nº Póliza (esp)</th>\n",
       "      <th>Nº Póliza (ger)</th>\n",
       "      <th>...</th>\n",
       "      <th>MAX RESCATE PARCIAL</th>\n",
       "      <th>SUMA RESCATES</th>\n",
       "      <th>CAP. FALLECIMIENTO FIN MES</th>\n",
       "      <th>CAPITAL MÍNIMO GARANTIZADO</th>\n",
       "      <th>RENTA MÍNIMA GARANTIZADA</th>\n",
       "      <th>POLIZAS_45</th>\n",
       "      <th>Motivo Cancelación AZS</th>\n",
       "      <th>IND_NP</th>\n",
       "      <th>CARTERA_SAP</th>\n",
       "      <th>IND_DIF</th>\n",
       "    </tr>\n",
       "  </thead>\n",
       "  <tbody>\n",
       "    <tr>\n",
       "      <th>count</th>\n",
       "      <td>43.0</td>\n",
       "      <td>43.0</td>\n",
       "      <td>43.0</td>\n",
       "      <td>43.0</td>\n",
       "      <td>43.0</td>\n",
       "      <td>43.0</td>\n",
       "      <td>43.0</td>\n",
       "      <td>4.300000e+01</td>\n",
       "      <td>4.300000e+01</td>\n",
       "      <td>4.300000e+01</td>\n",
       "      <td>...</td>\n",
       "      <td>43.0</td>\n",
       "      <td>43.0</td>\n",
       "      <td>43.000000</td>\n",
       "      <td>43.000000</td>\n",
       "      <td>43.000000</td>\n",
       "      <td>43.0</td>\n",
       "      <td>43.0</td>\n",
       "      <td>43.0</td>\n",
       "      <td>43.0</td>\n",
       "      <td>43.0</td>\n",
       "    </tr>\n",
       "    <tr>\n",
       "      <th>mean</th>\n",
       "      <td>20210331.0</td>\n",
       "      <td>20210324.0</td>\n",
       "      <td>2.0</td>\n",
       "      <td>2295.0</td>\n",
       "      <td>166.0</td>\n",
       "      <td>0.0</td>\n",
       "      <td>0.0</td>\n",
       "      <td>8.449552e+06</td>\n",
       "      <td>4.600785e+07</td>\n",
       "      <td>5.224664e+09</td>\n",
       "      <td>...</td>\n",
       "      <td>0.0</td>\n",
       "      <td>0.0</td>\n",
       "      <td>38084.635581</td>\n",
       "      <td>38060.465116</td>\n",
       "      <td>286.123256</td>\n",
       "      <td>0.0</td>\n",
       "      <td>0.0</td>\n",
       "      <td>0.0</td>\n",
       "      <td>640.0</td>\n",
       "      <td>0.0</td>\n",
       "    </tr>\n",
       "    <tr>\n",
       "      <th>std</th>\n",
       "      <td>0.0</td>\n",
       "      <td>0.0</td>\n",
       "      <td>0.0</td>\n",
       "      <td>0.0</td>\n",
       "      <td>0.0</td>\n",
       "      <td>0.0</td>\n",
       "      <td>0.0</td>\n",
       "      <td>2.853769e+06</td>\n",
       "      <td>2.454242e+03</td>\n",
       "      <td>3.941838e+04</td>\n",
       "      <td>...</td>\n",
       "      <td>0.0</td>\n",
       "      <td>0.0</td>\n",
       "      <td>32660.873161</td>\n",
       "      <td>32640.473995</td>\n",
       "      <td>514.976223</td>\n",
       "      <td>0.0</td>\n",
       "      <td>0.0</td>\n",
       "      <td>0.0</td>\n",
       "      <td>0.0</td>\n",
       "      <td>0.0</td>\n",
       "    </tr>\n",
       "    <tr>\n",
       "      <th>min</th>\n",
       "      <td>20210331.0</td>\n",
       "      <td>20210324.0</td>\n",
       "      <td>2.0</td>\n",
       "      <td>2295.0</td>\n",
       "      <td>166.0</td>\n",
       "      <td>0.0</td>\n",
       "      <td>0.0</td>\n",
       "      <td>1.000200e+04</td>\n",
       "      <td>4.599856e+07</td>\n",
       "      <td>5.224578e+09</td>\n",
       "      <td>...</td>\n",
       "      <td>0.0</td>\n",
       "      <td>0.0</td>\n",
       "      <td>0.000000</td>\n",
       "      <td>0.000000</td>\n",
       "      <td>0.000000</td>\n",
       "      <td>0.0</td>\n",
       "      <td>0.0</td>\n",
       "      <td>0.0</td>\n",
       "      <td>640.0</td>\n",
       "      <td>0.0</td>\n",
       "    </tr>\n",
       "    <tr>\n",
       "      <th>25%</th>\n",
       "      <td>20210331.0</td>\n",
       "      <td>20210324.0</td>\n",
       "      <td>2.0</td>\n",
       "      <td>2295.0</td>\n",
       "      <td>166.0</td>\n",
       "      <td>0.0</td>\n",
       "      <td>0.0</td>\n",
       "      <td>9.510278e+06</td>\n",
       "      <td>4.600741e+07</td>\n",
       "      <td>5.224628e+09</td>\n",
       "      <td>...</td>\n",
       "      <td>0.0</td>\n",
       "      <td>0.0</td>\n",
       "      <td>24513.850000</td>\n",
       "      <td>24500.000000</td>\n",
       "      <td>40.530000</td>\n",
       "      <td>0.0</td>\n",
       "      <td>0.0</td>\n",
       "      <td>0.0</td>\n",
       "      <td>640.0</td>\n",
       "      <td>0.0</td>\n",
       "    </tr>\n",
       "    <tr>\n",
       "      <th>50%</th>\n",
       "      <td>20210331.0</td>\n",
       "      <td>20210324.0</td>\n",
       "      <td>2.0</td>\n",
       "      <td>2295.0</td>\n",
       "      <td>166.0</td>\n",
       "      <td>0.0</td>\n",
       "      <td>0.0</td>\n",
       "      <td>9.510278e+06</td>\n",
       "      <td>4.600798e+07</td>\n",
       "      <td>5.224691e+09</td>\n",
       "      <td>...</td>\n",
       "      <td>0.0</td>\n",
       "      <td>0.0</td>\n",
       "      <td>24515.340000</td>\n",
       "      <td>24500.000000</td>\n",
       "      <td>100.070000</td>\n",
       "      <td>0.0</td>\n",
       "      <td>0.0</td>\n",
       "      <td>0.0</td>\n",
       "      <td>640.0</td>\n",
       "      <td>0.0</td>\n",
       "    </tr>\n",
       "    <tr>\n",
       "      <th>75%</th>\n",
       "      <td>20210331.0</td>\n",
       "      <td>20210324.0</td>\n",
       "      <td>2.0</td>\n",
       "      <td>2295.0</td>\n",
       "      <td>166.0</td>\n",
       "      <td>0.0</td>\n",
       "      <td>0.0</td>\n",
       "      <td>9.510278e+06</td>\n",
       "      <td>4.600806e+07</td>\n",
       "      <td>5.224693e+09</td>\n",
       "      <td>...</td>\n",
       "      <td>0.0</td>\n",
       "      <td>0.0</td>\n",
       "      <td>49030.680000</td>\n",
       "      <td>49000.000000</td>\n",
       "      <td>234.430000</td>\n",
       "      <td>0.0</td>\n",
       "      <td>0.0</td>\n",
       "      <td>0.0</td>\n",
       "      <td>640.0</td>\n",
       "      <td>0.0</td>\n",
       "    </tr>\n",
       "    <tr>\n",
       "      <th>max</th>\n",
       "      <td>20210331.0</td>\n",
       "      <td>20210324.0</td>\n",
       "      <td>2.0</td>\n",
       "      <td>2295.0</td>\n",
       "      <td>166.0</td>\n",
       "      <td>0.0</td>\n",
       "      <td>0.0</td>\n",
       "      <td>9.510278e+06</td>\n",
       "      <td>4.601118e+07</td>\n",
       "      <td>5.224704e+09</td>\n",
       "      <td>...</td>\n",
       "      <td>0.0</td>\n",
       "      <td>0.0</td>\n",
       "      <td>98065.380000</td>\n",
       "      <td>98000.000000</td>\n",
       "      <td>2049.010000</td>\n",
       "      <td>0.0</td>\n",
       "      <td>0.0</td>\n",
       "      <td>0.0</td>\n",
       "      <td>640.0</td>\n",
       "      <td>0.0</td>\n",
       "    </tr>\n",
       "  </tbody>\n",
       "</table>\n",
       "<p>8 rows × 38 columns</p>\n",
       "</div>"
      ],
      "text/plain": [
       "            Fecha  Fecha entrega   CIA    Ramo  Modalidad    DC   SUC  \\\n",
       "count        43.0           43.0  43.0    43.0       43.0  43.0  43.0   \n",
       "mean   20210331.0     20210324.0   2.0  2295.0      166.0   0.0   0.0   \n",
       "std           0.0            0.0   0.0     0.0        0.0   0.0   0.0   \n",
       "min    20210331.0     20210324.0   2.0  2295.0      166.0   0.0   0.0   \n",
       "25%    20210331.0     20210324.0   2.0  2295.0      166.0   0.0   0.0   \n",
       "50%    20210331.0     20210324.0   2.0  2295.0      166.0   0.0   0.0   \n",
       "75%    20210331.0     20210324.0   2.0  2295.0      166.0   0.0   0.0   \n",
       "max    20210331.0     20210324.0   2.0  2295.0      166.0   0.0   0.0   \n",
       "\n",
       "             Agente  Nº Póliza (esp)  Nº Póliza (ger)  ...  \\\n",
       "count  4.300000e+01     4.300000e+01     4.300000e+01  ...   \n",
       "mean   8.449552e+06     4.600785e+07     5.224664e+09  ...   \n",
       "std    2.853769e+06     2.454242e+03     3.941838e+04  ...   \n",
       "min    1.000200e+04     4.599856e+07     5.224578e+09  ...   \n",
       "25%    9.510278e+06     4.600741e+07     5.224628e+09  ...   \n",
       "50%    9.510278e+06     4.600798e+07     5.224691e+09  ...   \n",
       "75%    9.510278e+06     4.600806e+07     5.224693e+09  ...   \n",
       "max    9.510278e+06     4.601118e+07     5.224704e+09  ...   \n",
       "\n",
       "       MAX RESCATE PARCIAL  SUMA RESCATES  CAP. FALLECIMIENTO FIN MES  \\\n",
       "count                 43.0           43.0                   43.000000   \n",
       "mean                   0.0            0.0                38084.635581   \n",
       "std                    0.0            0.0                32660.873161   \n",
       "min                    0.0            0.0                    0.000000   \n",
       "25%                    0.0            0.0                24513.850000   \n",
       "50%                    0.0            0.0                24515.340000   \n",
       "75%                    0.0            0.0                49030.680000   \n",
       "max                    0.0            0.0                98065.380000   \n",
       "\n",
       "       CAPITAL MÍNIMO GARANTIZADO  RENTA MÍNIMA GARANTIZADA  POLIZAS_45  \\\n",
       "count                   43.000000                 43.000000        43.0   \n",
       "mean                 38060.465116                286.123256         0.0   \n",
       "std                  32640.473995                514.976223         0.0   \n",
       "min                      0.000000                  0.000000         0.0   \n",
       "25%                  24500.000000                 40.530000         0.0   \n",
       "50%                  24500.000000                100.070000         0.0   \n",
       "75%                  49000.000000                234.430000         0.0   \n",
       "max                  98000.000000               2049.010000         0.0   \n",
       "\n",
       "       Motivo Cancelación AZS  IND_NP  CARTERA_SAP  IND_DIF  \n",
       "count                    43.0    43.0         43.0     43.0  \n",
       "mean                      0.0     0.0        640.0      0.0  \n",
       "std                       0.0     0.0          0.0      0.0  \n",
       "min                       0.0     0.0        640.0      0.0  \n",
       "25%                       0.0     0.0        640.0      0.0  \n",
       "50%                       0.0     0.0        640.0      0.0  \n",
       "75%                       0.0     0.0        640.0      0.0  \n",
       "max                       0.0     0.0        640.0      0.0  \n",
       "\n",
       "[8 rows x 38 columns]"
      ]
     },
     "execution_count": 205,
=======
       "      <th>28</th>\n",
       "      <td>03/05/2021</td>\n",
       "      <td>ACCV_BBVA</td>\n",
       "      <td>SEGURO ILT AUTÓNOMO BBVA                      ...</td>\n",
       "      <td>100</td>\n",
       "      <td>SEGURO ILT AUTONOMOS BBVA ALLIANZ             ...</td>\n",
       "      <td>1000000525477</td>\n",
       "      <td>JV</td>\n",
       "      <td>BBVA ALLIANZ SEGUROS</td>\n",
       "      <td>13/02/2017</td>\n",
       "      <td>13/02/21</td>\n",
       "      <td>...</td>\n",
       "      <td>1</td>\n",
       "      <td>92.87</td>\n",
       "      <td>275.36</td>\n",
       "      <td>275.36</td>\n",
       "      <td>0.0</td>\n",
       "      <td>0.0</td>\n",
       "      <td>0.00</td>\n",
       "      <td>30.00</td>\n",
       "      <td>A143</td>\n",
       "      <td>Precio Excesivo                               ...</td>\n",
       "    </tr>\n",
       "    <tr>\n",
       "      <th>57</th>\n",
       "      <td>03/05/2021</td>\n",
       "      <td>ACCV_BBVA</td>\n",
       "      <td>SEGURO ILT AUTÓNOMO BBVA                      ...</td>\n",
       "      <td>100</td>\n",
       "      <td>SEGURO ILT AUTONOMOS BBVA ALLIANZ             ...</td>\n",
       "      <td>1000001056548</td>\n",
       "      <td>JV</td>\n",
       "      <td>BBVA ALLIANZ SEGUROS</td>\n",
       "      <td>13/07/2018</td>\n",
       "      <td>13/07/20</td>\n",
       "      <td>...</td>\n",
       "      <td>1</td>\n",
       "      <td>180.48</td>\n",
       "      <td>271.40</td>\n",
       "      <td>273.20</td>\n",
       "      <td>0.0</td>\n",
       "      <td>0.0</td>\n",
       "      <td>0.00</td>\n",
       "      <td>90.00</td>\n",
       "      <td>A143</td>\n",
       "      <td>Precio Excesivo                               ...</td>\n",
       "    </tr>\n",
       "    <tr>\n",
       "      <th>58</th>\n",
       "      <td>03/05/2021</td>\n",
       "      <td>ACCV_BBVA</td>\n",
       "      <td>SEGURO ILT AUTÓNOMO BBVA                      ...</td>\n",
       "      <td>100</td>\n",
       "      <td>SEGURO ILT AUTONOMOS BBVA ALLIANZ             ...</td>\n",
       "      <td>1000001056548</td>\n",
       "      <td>JV</td>\n",
       "      <td>BBVA ALLIANZ SEGUROS</td>\n",
       "      <td>13/07/2018</td>\n",
       "      <td>13/07/20</td>\n",
       "      <td>...</td>\n",
       "      <td>1</td>\n",
       "      <td>268.64</td>\n",
       "      <td>403.97</td>\n",
       "      <td>403.97</td>\n",
       "      <td>0.0</td>\n",
       "      <td>0.0</td>\n",
       "      <td>0.00</td>\n",
       "      <td>90.00</td>\n",
       "      <td>A143</td>\n",
       "      <td>Precio Excesivo                               ...</td>\n",
       "    </tr>\n",
       "    <tr>\n",
       "      <th>70</th>\n",
       "      <td>03/05/2021</td>\n",
       "      <td>ACCV_BBVA</td>\n",
       "      <td>SEGURO ILT AUTÓNOMO BBVA                      ...</td>\n",
       "      <td>100</td>\n",
       "      <td>SEGURO ILT AUTONOMOS BBVA ALLIANZ             ...</td>\n",
       "      <td>1000001233824</td>\n",
       "      <td>JV</td>\n",
       "      <td>BBVA ALLIANZ SEGUROS</td>\n",
       "      <td>05/02/2019</td>\n",
       "      <td>05/02/21</td>\n",
       "      <td>...</td>\n",
       "      <td>1</td>\n",
       "      <td>92.87</td>\n",
       "      <td>289.86</td>\n",
       "      <td>289.86</td>\n",
       "      <td>0.0</td>\n",
       "      <td>0.0</td>\n",
       "      <td>0.00</td>\n",
       "      <td>30.00</td>\n",
       "      <td>A143</td>\n",
       "      <td>Precio Excesivo                               ...</td>\n",
       "    </tr>\n",
       "    <tr>\n",
       "      <th>142</th>\n",
       "      <td>03/05/2021</td>\n",
       "      <td>HG_ESP</td>\n",
       "      <td>HOGAR ESPAÑA TE                               ...</td>\n",
       "      <td>6218</td>\n",
       "      <td>SEGURO BBVA HOGAR.                            ...</td>\n",
       "      <td>62180000722422</td>\n",
       "      <td>JV</td>\n",
       "      <td>BBVA ALLIANZ SEGUROS</td>\n",
       "      <td>01/08/2001</td>\n",
       "      <td>01/08/20</td>\n",
       "      <td>...</td>\n",
       "      <td>1</td>\n",
       "      <td>219.53</td>\n",
       "      <td>393.68</td>\n",
       "      <td>393.68</td>\n",
       "      <td>0.0</td>\n",
       "      <td>0.0</td>\n",
       "      <td>262211.00</td>\n",
       "      <td>418157.12</td>\n",
       "      <td>A110</td>\n",
       "      <td>DECISIÓN DE LA COMPAÑÍA                       ...</td>\n",
       "    </tr>\n",
       "    <tr>\n",
       "      <th>...</th>\n",
       "      <td>...</td>\n",
       "      <td>...</td>\n",
       "      <td>...</td>\n",
       "      <td>...</td>\n",
       "      <td>...</td>\n",
       "      <td>...</td>\n",
       "      <td>...</td>\n",
       "      <td>...</td>\n",
       "      <td>...</td>\n",
       "      <td>...</td>\n",
       "      <td>...</td>\n",
       "      <td>...</td>\n",
       "      <td>...</td>\n",
       "      <td>...</td>\n",
       "      <td>...</td>\n",
       "      <td>...</td>\n",
       "      <td>...</td>\n",
       "      <td>...</td>\n",
       "      <td>...</td>\n",
       "      <td>...</td>\n",
       "      <td>...</td>\n",
       "    </tr>\n",
       "    <tr>\n",
       "      <th>21197</th>\n",
       "      <td>31/05/2021</td>\n",
       "      <td>HG_VIVI</td>\n",
       "      <td>SEGUROS VIVIENDA BBVA                         ...</td>\n",
       "      <td>5937</td>\n",
       "      <td>SEGURO VIVIENDA BBVA ALLIANZ                  ...</td>\n",
       "      <td>59370005269642</td>\n",
       "      <td>JV</td>\n",
       "      <td>BBVA ALLIANZ SEGUROS</td>\n",
       "      <td>01/06/2019</td>\n",
       "      <td>01/06/20</td>\n",
       "      <td>...</td>\n",
       "      <td>1</td>\n",
       "      <td>211.86</td>\n",
       "      <td>340.59</td>\n",
       "      <td>340.59</td>\n",
       "      <td>0.0</td>\n",
       "      <td>0.0</td>\n",
       "      <td>389338.04</td>\n",
       "      <td>413473.80</td>\n",
       "      <td>A145</td>\n",
       "      <td>No Puede Hacer Frente a las Primas            ...</td>\n",
       "    </tr>\n",
       "    <tr>\n",
       "      <th>21273</th>\n",
       "      <td>31/05/2021</td>\n",
       "      <td>HG_VIVI</td>\n",
       "      <td>SEGUROS VIVIENDA BBVA                         ...</td>\n",
       "      <td>5937</td>\n",
       "      <td>SEGURO VIVIENDA BBVA ALLIANZ                  ...</td>\n",
       "      <td>59370005661715</td>\n",
       "      <td>JV</td>\n",
       "      <td>BBVA ALLIANZ SEGUROS</td>\n",
       "      <td>08/07/2019</td>\n",
       "      <td>08/07/20</td>\n",
       "      <td>...</td>\n",
       "      <td>1</td>\n",
       "      <td>212.02</td>\n",
       "      <td>306.47</td>\n",
       "      <td>306.47</td>\n",
       "      <td>0.0</td>\n",
       "      <td>0.0</td>\n",
       "      <td>370735.00</td>\n",
       "      <td>374442.35</td>\n",
       "      <td>A141</td>\n",
       "      <td>Suscripcion Producto Otra Cía                 ...</td>\n",
       "    </tr>\n",
       "    <tr>\n",
       "      <th>21281</th>\n",
       "      <td>31/05/2021</td>\n",
       "      <td>HG_VIVI</td>\n",
       "      <td>SEGUROS VIVIENDA BBVA                         ...</td>\n",
       "      <td>5937</td>\n",
       "      <td>SEGURO VIVIENDA BBVA ALLIANZ                  ...</td>\n",
       "      <td>59370005748934</td>\n",
       "      <td>JV</td>\n",
       "      <td>BBVA ALLIANZ SEGUROS</td>\n",
       "      <td>31/05/2019</td>\n",
       "      <td>31/05/20</td>\n",
       "      <td>...</td>\n",
       "      <td>1</td>\n",
       "      <td>156.72</td>\n",
       "      <td>290.17</td>\n",
       "      <td>290.17</td>\n",
       "      <td>0.0</td>\n",
       "      <td>0.0</td>\n",
       "      <td>280030.73</td>\n",
       "      <td>213107.98</td>\n",
       "      <td>A145</td>\n",
       "      <td>No Puede Hacer Frente a las Primas            ...</td>\n",
       "    </tr>\n",
       "    <tr>\n",
       "      <th>21329</th>\n",
       "      <td>31/05/2021</td>\n",
       "      <td>HG_VIVI</td>\n",
       "      <td>SEGUROS VIVIENDA BBVA                         ...</td>\n",
       "      <td>5937</td>\n",
       "      <td>SEGURO VIVIENDA BBVA ALLIANZ                  ...</td>\n",
       "      <td>59370006500755</td>\n",
       "      <td>JV</td>\n",
       "      <td>BBVA ALLIANZ SEGUROS</td>\n",
       "      <td>29/06/2020</td>\n",
       "      <td>29/06/20</td>\n",
       "      <td>...</td>\n",
       "      <td>1</td>\n",
       "      <td>158.02</td>\n",
       "      <td>280.33</td>\n",
       "      <td>280.33</td>\n",
       "      <td>0.0</td>\n",
       "      <td>0.0</td>\n",
       "      <td>336313.26</td>\n",
       "      <td>336313.26</td>\n",
       "      <td>A143</td>\n",
       "      <td>Precio Excesivo                               ...</td>\n",
       "    </tr>\n",
       "    <tr>\n",
       "      <th>21451</th>\n",
       "      <td>31/05/2021</td>\n",
       "      <td>HG_VIVI</td>\n",
       "      <td>SEGUROS VIVIENDA BBVA                         ...</td>\n",
       "      <td>7061</td>\n",
       "      <td>SEGUROS VIVIENDA BBVA ALLIANZ II              ...</td>\n",
       "      <td>70610000195313</td>\n",
       "      <td>JV</td>\n",
       "      <td>BBVA ALLIANZ SEGUROS</td>\n",
       "      <td>03/08/2016</td>\n",
       "      <td>03/08/20</td>\n",
       "      <td>...</td>\n",
       "      <td>1</td>\n",
       "      <td>165.23</td>\n",
       "      <td>295.44</td>\n",
       "      <td>295.44</td>\n",
       "      <td>0.0</td>\n",
       "      <td>0.0</td>\n",
       "      <td>208295.01</td>\n",
       "      <td>247148.05</td>\n",
       "      <td>A141</td>\n",
       "      <td>Suscripcion Producto Otra Cía                 ...</td>\n",
       "    </tr>\n",
       "  </tbody>\n",
       "</table>\n",
       "<p>854 rows × 52 columns</p>\n",
       "</div>"
      ],
      "text/plain": [
       "       Fecha Dato Código Producto Técnico  \\\n",
       "28     03/05/2021              ACCV_BBVA    \n",
       "57     03/05/2021              ACCV_BBVA    \n",
       "58     03/05/2021              ACCV_BBVA    \n",
       "70     03/05/2021              ACCV_BBVA    \n",
       "142    03/05/2021              HG_ESP       \n",
       "...           ...                     ...   \n",
       "21197  31/05/2021              HG_VIVI      \n",
       "21273  31/05/2021              HG_VIVI      \n",
       "21281  31/05/2021              HG_VIVI      \n",
       "21329  31/05/2021              HG_VIVI      \n",
       "21451  31/05/2021              HG_VIVI      \n",
       "\n",
       "                                        Producto Técnico  \\\n",
       "28     SEGURO ILT AUTÓNOMO BBVA                      ...   \n",
       "57     SEGURO ILT AUTÓNOMO BBVA                      ...   \n",
       "58     SEGURO ILT AUTÓNOMO BBVA                      ...   \n",
       "70     SEGURO ILT AUTÓNOMO BBVA                      ...   \n",
       "142    HOGAR ESPAÑA TE                               ...   \n",
       "...                                                  ...   \n",
       "21197  SEGUROS VIVIENDA BBVA                         ...   \n",
       "21273  SEGUROS VIVIENDA BBVA                         ...   \n",
       "21281  SEGUROS VIVIENDA BBVA                         ...   \n",
       "21329  SEGUROS VIVIENDA BBVA                         ...   \n",
       "21451  SEGUROS VIVIENDA BBVA                         ...   \n",
       "\n",
       "       Código Producto Comercial  \\\n",
       "28                           100   \n",
       "57                           100   \n",
       "58                           100   \n",
       "70                           100   \n",
       "142                         6218   \n",
       "...                          ...   \n",
       "21197                       5937   \n",
       "21273                       5937   \n",
       "21281                       5937   \n",
       "21329                       5937   \n",
       "21451                       7061   \n",
       "\n",
       "                                      Producto Comercial  Código Póliza AIS  \\\n",
       "28     SEGURO ILT AUTONOMOS BBVA ALLIANZ             ...      1000000525477   \n",
       "57     SEGURO ILT AUTONOMOS BBVA ALLIANZ             ...      1000001056548   \n",
       "58     SEGURO ILT AUTONOMOS BBVA ALLIANZ             ...      1000001056548   \n",
       "70     SEGURO ILT AUTONOMOS BBVA ALLIANZ             ...      1000001233824   \n",
       "142    SEGURO BBVA HOGAR.                            ...     62180000722422   \n",
       "...                                                  ...                ...   \n",
       "21197  SEGURO VIVIENDA BBVA ALLIANZ                  ...     59370005269642   \n",
       "21273  SEGURO VIVIENDA BBVA ALLIANZ                  ...     59370005661715   \n",
       "21281  SEGURO VIVIENDA BBVA ALLIANZ                  ...     59370005748934   \n",
       "21329  SEGURO VIVIENDA BBVA ALLIANZ                  ...     59370006500755   \n",
       "21451  SEGUROS VIVIENDA BBVA ALLIANZ II              ...     70610000195313   \n",
       "\n",
       "      Código Compañía                        Compañía Fecha Inicio Póliza  \\\n",
       "28                 JV  BBVA ALLIANZ SEGUROS                    13/02/2017   \n",
       "57                 JV  BBVA ALLIANZ SEGUROS                    13/07/2018   \n",
       "58                 JV  BBVA ALLIANZ SEGUROS                    13/07/2018   \n",
       "70                 JV  BBVA ALLIANZ SEGUROS                    05/02/2019   \n",
       "142                JV  BBVA ALLIANZ SEGUROS                    01/08/2001   \n",
       "...               ...                             ...                 ...   \n",
       "21197              JV  BBVA ALLIANZ SEGUROS                    01/06/2019   \n",
       "21273              JV  BBVA ALLIANZ SEGUROS                    08/07/2019   \n",
       "21281              JV  BBVA ALLIANZ SEGUROS                    31/05/2019   \n",
       "21329              JV  BBVA ALLIANZ SEGUROS                    29/06/2020   \n",
       "21451              JV  BBVA ALLIANZ SEGUROS                    03/08/2016   \n",
       "\n",
       "      Fecha Efecto Natural  ... Nº Pól Baja Vencimiento Prima Riesgo  \\\n",
       "28                13/02/21  ...                       1        92.87   \n",
       "57                13/07/20  ...                       1       180.48   \n",
       "58                13/07/20  ...                       1       268.64   \n",
       "70                05/02/21  ...                       1        92.87   \n",
       "142               01/08/20  ...                       1       219.53   \n",
       "...                    ...  ...                     ...          ...   \n",
       "21197             01/06/20  ...                       1       211.86   \n",
       "21273             08/07/20  ...                       1       212.02   \n",
       "21281             31/05/20  ...                       1       156.72   \n",
       "21329             29/06/20  ...                       1       158.02   \n",
       "21451             03/08/20  ...                       1       165.23   \n",
       "\n",
       "      Prima Técnica  Prima_Neta Descuento por Campaña.1 Descuento Colectivo.1  \\\n",
       "28           275.36      275.36                     0.0                   0.0   \n",
       "57           271.40      273.20                     0.0                   0.0   \n",
       "58           403.97      403.97                     0.0                   0.0   \n",
       "70           289.86      289.86                     0.0                   0.0   \n",
       "142          393.68      393.68                     0.0                   0.0   \n",
       "...             ...         ...                     ...                   ...   \n",
       "21197        340.59      340.59                     0.0                   0.0   \n",
       "21273        306.47      306.47                     0.0                   0.0   \n",
       "21281        290.17      290.17                     0.0                   0.0   \n",
       "21329        280.33      280.33                     0.0                   0.0   \n",
       "21451        295.44      295.44                     0.0                   0.0   \n",
       "\n",
       "      Capital Recomendado Cap Baja Vencimiento Código Causas de Movimientos  \\\n",
       "28                   0.00                30.00                         A143   \n",
       "57                   0.00                90.00                         A143   \n",
       "58                   0.00                90.00                         A143   \n",
       "70                   0.00                30.00                         A143   \n",
       "142             262211.00            418157.12                         A110   \n",
       "...                   ...                  ...                          ...   \n",
       "21197           389338.04            413473.80                         A145   \n",
       "21273           370735.00            374442.35                         A141   \n",
       "21281           280030.73            213107.98                         A145   \n",
       "21329           336313.26            336313.26                         A143   \n",
       "21451           208295.01            247148.05                         A141   \n",
       "\n",
       "                                   Causas de Movimientos  \n",
       "28     Precio Excesivo                               ...  \n",
       "57     Precio Excesivo                               ...  \n",
       "58     Precio Excesivo                               ...  \n",
       "70     Precio Excesivo                               ...  \n",
       "142    DECISIÓN DE LA COMPAÑÍA                       ...  \n",
       "...                                                  ...  \n",
       "21197  No Puede Hacer Frente a las Primas            ...  \n",
       "21273  Suscripcion Producto Otra Cía                 ...  \n",
       "21281  No Puede Hacer Frente a las Primas            ...  \n",
       "21329  Precio Excesivo                               ...  \n",
       "21451  Suscripcion Producto Otra Cía                 ...  \n",
       "\n",
       "[854 rows x 52 columns]"
      ]
     },
     "execution_count": 760,
>>>>>>> 2046b5bd1d466f2a94b436feae043461f68087d1
     "metadata": {},
     "output_type": "execute_result"
    }
   ],
   "source": [
<<<<<<< HEAD
    "df.describe()"
=======
    "likely_outliers"
>>>>>>> 2046b5bd1d466f2a94b436feae043461f68087d1
   ]
  },
  {
   "cell_type": "markdown",
<<<<<<< HEAD
   "id": "6c0a340a-5204-4281-a45f-160c413718f0",
   "metadata": {},
   "source": [
    "o de la variable que estamos analizando en este caso:"
=======
   "id": "b0131289-3258-4d89-bed2-285663207242",
   "metadata": {},
   "source": [
    "#### Z-Square"
   ]
  },
  {
   "cell_type": "markdown",
   "id": "26438f58-9809-4b71-b84e-462c4cf3bf3f",
   "metadata": {},
   "source": [
    "Otro metodo es el Z-Square, el cual nos indica aqui abajo que las filas 23 y 41 son las que contienen el outlier para la variable analizada."
>>>>>>> 2046b5bd1d466f2a94b436feae043461f68087d1
   ]
  },
  {
   "cell_type": "code",
<<<<<<< HEAD
   "execution_count": 204,
   "id": "fc6da0cd-0492-438a-aa04-2397c95b0e98",
   "metadata": {},
   "outputs": [
    {
     "data": {
      "text/plain": [
       "count      43.000000\n",
       "mean      286.123256\n",
       "std       514.976223\n",
       "min         0.000000\n",
       "25%        40.530000\n",
       "50%       100.070000\n",
       "75%       234.430000\n",
       "max      2049.010000\n",
       "Name: RENTA MÍNIMA GARANTIZADA, dtype: float64"
      ]
     },
     "execution_count": 204,
     "metadata": {},
     "output_type": "execute_result"
    }
   ],
   "source": [
    "df['RENTA MÍNIMA GARANTIZADA'].describe()"
=======
   "execution_count": 757,
   "id": "6ba5b49a-8beb-4caf-863e-42441b7bfdc7",
   "metadata": {},
   "outputs": [
    {
     "name": "stdout",
     "output_type": "stream",
     "text": [
      "(array([   58,   142,   146,   148,   281,   282,   339,   378,   423,\n",
      "         459,   585,   667,   736,  1057,  1075,  1317,  1386,  1534,\n",
      "        1535,  1537,  1538,  1540,  1541,  1543,  1544,  1546,  1547,\n",
      "        1549,  1550,  1552,  1553,  1555,  1558,  1559,  1561,  1564,\n",
      "        1565,  1567,  1570,  1571,  1573,  1574,  1576,  1579,  1715,\n",
      "        1718,  1721,  2248,  2350,  2380,  2407,  2408,  2511,  2512,\n",
      "        2514,  2515,  2517,  2518,  2520,  2523,  2526,  2527,  2529,\n",
      "        2665,  2725,  2851,  3068,  3494,  3501,  3502,  3504,  3506,\n",
      "        3507,  3509,  3510,  3661,  3781,  3804,  4303,  4350,  4404,\n",
      "        4527,  4554,  4557,  4558,  4560,  4561,  4632,  4750,  5235,\n",
      "        5391,  5415,  5445,  5468,  5669,  5916,  5932,  6250,  6434,\n",
      "        6451,  6452,  6673,  6788,  6789,  6791,  6792,  6794,  6795,\n",
      "        6797,  6800,  6803,  6804,  6806,  6809,  6810,  6812,  6821,\n",
      "        6824,  6827,  6830,  6833,  6834,  6836,  6838,  6841,  6842,\n",
      "        6844,  6845,  6847,  6848,  6850,  6853,  6856,  6858,  6861,\n",
      "        6864,  6865,  7018,  7719,  7808,  7948,  7949,  7951,  7952,\n",
      "        7954,  7957,  7958,  7960,  7961,  7963,  8114,  8206,  8548,\n",
      "        8549,  8637,  8638,  8841,  8924,  8925,  8927,  8928,  8930,\n",
      "        8931,  8933,  8934,  8936,  8937,  9648,  9649,  9666,  9900,\n",
      "        9923, 10163, 10278, 10534, 10600, 10617, 10718, 10719, 10775,\n",
      "       10923, 10924, 11351, 11372, 11784, 11960, 12056, 12057, 12059,\n",
      "       12062, 12063, 12065, 12066, 12068, 12072, 12074, 12075, 12077,\n",
      "       12079, 12080, 12082, 12083, 12085, 12086, 12088, 12089, 12092,\n",
      "       12094, 12097, 12098, 12100, 12101, 12292, 12335, 12482, 12835,\n",
      "       12907, 12929, 12930, 13170, 13173, 13174, 13176, 13177, 13179,\n",
      "       13182, 13198, 13747, 13753, 13782, 13783, 13795, 13825, 14082,\n",
      "       14083, 14085, 14086, 14088, 14089, 14091, 14093, 14096, 14099,\n",
      "       14100, 14102, 14103, 14106, 14108, 14109, 14111, 14112, 14705,\n",
      "       14711, 14764, 14775, 14781, 15002, 15064, 15067, 15234, 15541,\n",
      "       15694, 15695, 15723, 15746, 15747, 15765, 15789, 15819, 15874,\n",
      "       15887, 15994, 16056, 16057, 16062, 16071, 16283, 16347, 16701,\n",
      "       16737, 16763, 16856, 16857, 16952, 16953, 16955, 16958, 16961,\n",
      "       16963, 16966, 16969, 16970, 16972, 16973, 16975, 16978, 16980,\n",
      "       16981, 16983, 16984, 16986, 16989, 16992, 16993, 16995, 16996,\n",
      "       17001, 17002, 17004, 17005, 17007, 17008, 17010, 17011, 17013,\n",
      "       17016, 17018, 17019, 17021, 17022, 17027, 17028, 17181, 17489,\n",
      "       17501, 17578, 17638, 17774, 17775, 17777, 17778, 17780, 17781,\n",
      "       17783, 17784, 17786, 17846, 17991, 18343, 18379, 18519, 18606,\n",
      "       18607, 18692, 18704, 18705, 18707, 18708, 18710, 18711, 18713,\n",
      "       18714, 18778, 18821, 18911, 19058, 19310, 19340, 19427, 19641,\n",
      "       19642, 19897, 19917, 20233, 20287, 20388, 20389, 20485, 20559,\n",
      "       20824, 20966]),)\n"
     ]
    }
   ],
   "source": [
    "from scipy import stats\n",
    "z = np.abs(stats.zscore(df['Prima_Neta']))\n",
    "threshold = 3\n",
    "print(np.where(z > threshold))"
>>>>>>> 2046b5bd1d466f2a94b436feae043461f68087d1
   ]
  },
  {
   "cell_type": "markdown",
<<<<<<< HEAD
   "id": "bbd5317e-5140-4bb0-bd7b-dc57c01e696e",
   "metadata": {},
   "source": [
    "o incluso si queremos ver a la vez todas las variables numericas(o un subconjunto de ellas) con boxplots o histograms, con pandas podemos hacer lo siguiente (Pero luego recomendaria analizar cada variable en particular)"
=======
   "id": "3ebfb2a7-6466-45ed-933f-91d10f813974",
   "metadata": {},
   "source": [
    "Lo cual coincide, con un poco mas de precision, lo que obtuvimos a traves del Rango Intercuartilico"
   ]
  },
  {
   "cell_type": "markdown",
   "id": "cbfaef3f-4797-4444-b9ad-e02bec460cdf",
   "metadata": {},
   "source": [
    "#### Visualizations Libraries"
   ]
  },
  {
   "cell_type": "markdown",
   "id": "3b6a36de-71fb-4e29-ad6e-3f0c53e5521d",
   "metadata": {},
   "source": [
    "Tambien esta la alternativa de analizar visualmente todas las variables numericas a la vez(o un subconjunto de ellas) con boxplots o histograms, con pandas podemos hacer lo siguiente (Pero luego recomendaria analizar cada variable en particular)"
>>>>>>> 2046b5bd1d466f2a94b436feae043461f68087d1
   ]
  },
  {
   "cell_type": "code",
<<<<<<< HEAD
   "execution_count": 239,
=======
   "execution_count": 764,
>>>>>>> 2046b5bd1d466f2a94b436feae043461f68087d1
   "id": "b3a6a977-66af-4f4e-8909-e3d418047267",
   "metadata": {},
   "outputs": [
    {
     "data": {
<<<<<<< HEAD
      "image/png": "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\n",
      "text/plain": [
       "<Figure size 1440x576 with 4 Axes>"
=======
      "image/png": "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\n",
      "text/plain": [
       "<Figure size 1440x720 with 12 Axes>"
>>>>>>> 2046b5bd1d466f2a94b436feae043461f68087d1
      ]
     },
     "metadata": {
      "needs_background": "light"
     },
     "output_type": "display_data"
    }
   ],
   "source": [
<<<<<<< HEAD
    "df[['CAPITAL TOTAL (€)', 'CAPITAL RESCATE BRUTO', 'CAPITAL RESCATE NETO']].hist(bins=15, figsize=(20,8));"
=======
    "columns = ['Nº Habitantes en Miles', 'Superficie Vivienda (m2)', 'Superficie Anexos (m2)',  'Descuento Colectivo', 'Descuento por Campaña', \\\n",
    "          'Prima Riesgo', 'Prima Técnica', 'Prima_Neta', 'Capital Recomendado', 'Cap Baja Vencimiento'] \n",
    "df[columns].hist(bins=15, figsize=(20,10), layout=(4,3));"
>>>>>>> 2046b5bd1d466f2a94b436feae043461f68087d1
   ]
  },
  {
   "cell_type": "code",
<<<<<<< HEAD
   "execution_count": 250,
=======
   "execution_count": 768,
>>>>>>> 2046b5bd1d466f2a94b436feae043461f68087d1
   "id": "4e1da078-a8ea-43cc-9516-78a91cdaa1d7",
   "metadata": {},
   "outputs": [
    {
     "data": {
<<<<<<< HEAD
      "image/png": "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\n",
      "text/plain": [
       "<Figure size 1440x576 with 1 Axes>"
=======
      "image/png": "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\n",
      "text/plain": [
       "<Figure size 1440x432 with 1 Axes>"
>>>>>>> 2046b5bd1d466f2a94b436feae043461f68087d1
      ]
     },
     "metadata": {
      "needs_background": "light"
     },
     "output_type": "display_data"
    }
   ],
   "source": [
<<<<<<< HEAD
    "box= df[['CAPITAL TOTAL (€)', 'CAPITAL RESCATE BRUTO', 'CAPITAL RESCATE NETO']].boxplot(grid=True, rot=0, fontsize=10,  figsize=(20,8))"
=======
    "box= df[columns].boxplot(grid=True, rot=45, fontsize=10,  figsize=(20,6))"
   ]
  },
  {
   "cell_type": "markdown",
   "id": "fe7416ee-fd50-4a24-8135-877a195d8ec6",
   "metadata": {},
   "source": [
    "Otra alternativa a pandas es usar seaborn, la sintaxis es muy similar y es mas flexible para tener graficas mas avanzadas."
>>>>>>> 2046b5bd1d466f2a94b436feae043461f68087d1
   ]
  },
  {
   "cell_type": "code",
<<<<<<< HEAD
   "execution_count": null,
   "id": "7c17a318-f45b-415f-a35b-7e9437aabe12",
   "metadata": {},
   "outputs": [],
   "source": []
=======
   "execution_count": 774,
   "id": "7c17a318-f45b-415f-a35b-7e9437aabe12",
   "metadata": {},
   "outputs": [
    {
     "data": {
      "image/png": "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\n",
      "text/plain": [
       "<Figure size 1080x432 with 1 Axes>"
      ]
     },
     "metadata": {
      "needs_background": "light"
     },
     "output_type": "display_data"
    }
   ],
   "source": [
    "plt.figure(figsize=(15,6))\n",
    "sns.boxplot(data=df[columns], orient='h');"
   ]
>>>>>>> 2046b5bd1d466f2a94b436feae043461f68087d1
  },
  {
   "cell_type": "code",
   "execution_count": null,
   "id": "d950a7ae-5bfc-4193-9cfa-3eb9f38ca560",
   "metadata": {},
   "outputs": [],
   "source": []
  },
  {
   "cell_type": "code",
   "execution_count": null,
   "id": "f7fbe06f-f63e-46e7-b2ed-6659914e3d06",
   "metadata": {},
   "outputs": [],
<<<<<<< HEAD
   "source": []
=======
   "source": [
    "\n"
   ]
>>>>>>> 2046b5bd1d466f2a94b436feae043461f68087d1
  },
  {
   "cell_type": "markdown",
   "id": "1e34ac1a-c23a-45ef-8a20-815bc00a31ce",
   "metadata": {},
   "source": [
    "## Analisis Variables Cualitativas (o Categoricas)"
   ]
  },
  {
   "cell_type": "markdown",
   "id": "8d91f467-0dab-4409-a98e-5dd6f9c7f392",
   "metadata": {},
   "source": [
    "Dado que para variables categoricas no podemos usar boxplot, ya que no es posible distribuir categorias, lo que debemos hacer como alternativa es contabilizar registros por cada valor de la categoria y analizar los valores mas frecuentos o menos frecuentes para entender si se tratan de valores missing, erroneos o outliers.\n",
    "\n",
    "Podemos visualizar la distribucion de los datos de cada categoria con un simple pie como vemos aqui:"
   ]
  },
  {
   "cell_type": "code",
<<<<<<< HEAD
   "execution_count": 181,
=======
   "execution_count": 793,
>>>>>>> 2046b5bd1d466f2a94b436feae043461f68087d1
   "id": "5c38303a-a4a9-445e-b2a5-2309e9fb3f53",
   "metadata": {},
   "outputs": [
    {
     "data": {
<<<<<<< HEAD
      "image/png": "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\n",
=======
      "image/png": "iVBORw0KGgoAAAANSUhEUgAAAVMAAADnCAYAAACjZ7WjAAAAOXRFWHRTb2Z0d2FyZQBNYXRwbG90bGliIHZlcnNpb24zLjQuMiwgaHR0cHM6Ly9tYXRwbG90bGliLm9yZy8rg+JYAAAACXBIWXMAAAsTAAALEwEAmpwYAAAm3UlEQVR4nO3deXicdbn/8fedPW3apumatMJQqFBa2iJlp7ZsAg6gAqIIUhAP6gE9wkEdL1CCooy/43KUxQPn4IYKHDYpDAdBoBWLFAq0DYVSaDvd9ybpln3u3x/PExpKm/WZ+T4zuV/XNVcmycw8n7TJZ571+xVVxRhjTN/kuQ5gjDG5wMrUGGMCYGVqjDEBsDI1xpgAWJkaY0wArEyNMSYAVqbGGBMAK1NjjAmAlakxxgTAytQYYwJgZWqMMQGwMjXGmABYmRpjTACsTI0xJgBWpsYYEwArU2OMCYCVqTHGBMDK1BhjAmBlaowxAbAyNcaYAFiZGmNMAKxMjTEmAFamxhgTACtTY4wJgJWpMcYEwMrUGGMCYGVqjDEBKHAdwGSfSCyRDxwKjANGASP3uY0AioF8/5bX4WMK2OnfdgDbga3AFmAV8B7wXjIe3Zq5n8iYvhNVdZ3BhFQklhDgcGAyMAE40r+NxyvLdKoDluOV6xLgFWB+Mh6tS/NyjekVK1PzvkgsUQAcC8wETgFOACpcZtqHAu8AL/u3l5LxaI3bSMZ4rEz7uUgsMQr4DHA+MB0oc5uox9YCCeAJ4LlkPNroOI/pp6xM+6FILHEwcIF/O4ncORC5B3gOr1gfs/2uJpOsTPuJSCwxGLgcmAVMcxwnE1qAp4DfA08m49EWx3lMjrMyzXGRWOJjwNeAS4CBjuO4shmvVP87GY++6zqMyU1WpjkoEksUA1/AK9FjHccJEwWeBm5LxqMvug5jcouVaQ6JxBIlwNXAd4Aqx3HCbh5eqSZcBzG5wco0B/gl+hW8Eq10HCfbLAbiwIPJeDTlOozJXlamWSwSSxThbcpbifbdIuC6ZDz6gusgJjtZmWapSCzxKeCnwGGus+SYx4EbkvHoe66DmOxiZZplIrHEeOAO4BOus+SwZrx/4x8k49F612FMdrAyzRL+ftHv4m3Sp/u6eOPZDPxrMh59xHUQE35WplkgEktMA/6IN+iIybwHgGuS8eh210FMeFmZhpg/1N13gZux4RJd2wh8JRmPznYdxISTlWlIRWKJQ4D7gJNdZzEf8EfgWtuXavZlZRpCkVhiFnA7MMh1FrNfy4GLkvHoQtdBTHhYmYZIJJYoBH4FfNV1FtOlRrw11HtdBzHh0K0yFZFPA48BE1R1aeAhRGYCN6jquUG/draIxBLDgIfxBmY22ePXwL/ZqFSmu+NYXgL8w/9oAhaJJY4CXsWKNBt9DXguEkuMcB3EuNVlmYpIGd4UFlcBn+/w9ZkiMkdEHhaRpSLyJxER/3tJERnu358mInP8+8eJyD9F5A0ReUlE+v2pPv6VTC8Bh7jOYnptOjAvEktEXAcx7nRnzfRTwNOqugzYJiLHdPje0cA38SZZG0fXR56XAtNV9Wjg+8CPe5w4h0RiiauBR8m+qULMh43HK9RJroMYN7pTppfgnbSM/7Hjpv4rqrpWVVPAQiDSxWsNAR4SkTeBXwATe5Q2h0RiiW8Cd5M7U4YYb9jDv0diCTudrR/q9A9ZRCqA04D/EZEk8C3g4vbNeaCpw8Pb2HtieWuH1y7p8JgfAi+o6iTgvH2+129EYokb8d5MTO4ZCjwbiSU+6TqIyayu1oouAu5T1YNVNaKqHwFW4u0j6kwSaN8dcGGHrw8B1vn3r+hZ1NwQiSV+DNzqOodJq1Lg8Ugs8RnXQUzmdFWml+CdEtXRI3R9VP8W4JcisgBvjbXd/wNuE5E36IeXR0ZiiZ/jXR5qcl8BcH8kljjDdRCTGXbSfoZEYonv473JmP5lN3BmMh79p+sgJr2sTDMgEkt8DbjLdQ7jTB0wIxmPLnYdxKSPlWmaRWKJC4CHsKP2/d0mYLpNNZ27rEzTKBJLnAg8Tz89a8F8yHLg2GQ8Wus6iAmerS2liX81zGysSM1eh+IdlLK/uxxk/6lpEIklivEGLRnuOosJnbOA21yHMMGzMk2PX7H3PFtj9vXtSCzxOdchTLBsn2nAIrHE5cDvXecwobcHOCkZjy5yHcQEw8o0QP5QevPxroAxpivLganJeHSX6yCm72wzPyCRWKIM7+owK1LTXYfi7RIyOcDKNDhxvGHYjOmJKyOxxIVdP8yEnW3mByASS0wH5gLS1WON2Y+twMRkPLrZdRDTe7Zm2keRWKIU+A1WpKb3hmOXG2c9K9O+uxU4zHUIk/UujMQSn3UdwvSebeb3QSSWOB5v/iZ7UzJBWAscnoxH97gOYnrOSqCX/EsC/wv7NzTBGQvEXIcwvWNF0HuXA1NdhzA551s2y2l2sjLtBf+gk009YtKhBPip6xCm56xMe+d6YIzrECZnXRiJJU51HcL0jJVpD0ViiZHAd1znMDnP1k6zjJVpz1UDg1yHMDnvYzZddHaxMu2BSCwxFviy6xym3/ie6wCm+6xMe+YGoNB1CNNvnBCJJU53HcJ0j5VpN0ViiWHAv7jOYfqdm1wHMN1jZdp9/woMcB3C9DszI7HEya5DmK6FokxFZJSInOvfRrrOsy9/TqdrXOcw/db1rgOYrjkvUxG5GHgF+CxwMTBfRC5ym+pDPg+Mch3C9FvnRWIJ+/0LuQLXAYAbgWNVdTOAiIwA/oY3u2dY2L5S41IhcCXeAOQmpJyvmQJ57UXq20Y4cgEQiSUOA2yflXHty5FYwsbMDbEwrJk+LSJ/Be73P/8c8JTDPPua5TqAMXjzRZ0KPO86iNk/52Wqqt8SkQvZu/Z3j6o+5jJTO39N4Iuucxjjuxor09CywaE74Q82Yb+8JiyagJHJeHSH6yDmw5zvmxSRnSKyY5/bGhF5TETGOY5nm/gmTIqBc12HMPvnfDMf+E+86Rr+jDcp3efx9g+9jjdR3UwXoSKxRD7wKRfLNqYTF+L9rZiQcb5mCpyvqner6k5V3aGq9wBnqeqDwFCHuU4Eyh0u35j9OTsSS5S4DmE+LAxlukdELhaRPP92MdDof8/lDl0b/syE0QDgNNchzIeFoUwvxTtivhnY5N+/TERKgWsd5jrH4bKN6YztNw0h5/tMVXUFcN4Bvv2PTGZpF4klqrDJ8kx42Rt9CDkvUxEpAa4CJuJNJgaAqn7JWSj7ZTXhFonEEmOS8eg610HMXmHYzL8PGA2cBczFmzt8p9NEtk/KhJ9d4hwyYSjTw1T1e8BuVf09EAWOd5zpOMfLN6YrVqYhE4YybfE/1onIJGAI4GxM00gsMRQ4zNXyjekmK9OQCUOZ3iMiQ/EmD5sNvAX8xGGeaQ6XbUx3TYnEEgNdhzB7OT0AJSKfxjsx/jhV/Svg+vJRsE18kx0K8H5XX3AdxHicrZmKyF3AdcAw4IciEpZpbY91HcCYbjrKdQCzl8s1048DU1S1TUQGAC8CP3SYp90xrgMY002Huw5g9nK5z7RZVdsAVHUP3iAnTkViiTK8U7OMyQZWpiHics30CBFZ7N8X4FD/cwFUVSc7yGRH8U02sTINEZdlOsHhsg/EytRkkzGRWGJgMh7d7TqIcVimqrrK1bI7cYjrAMb0gAAfBd5wHcSE4zzTMDnIdQBjeigMpxMarEz3ZWVqss1w1wGMJxRlKiKlIhKGnemjXAcwpoeGuQ5gPM7LVETOAxYCT/ufTxWR2Y7iDHG0XGN6y8o0JJyXKVCNd1lcHYCqLsTdgaBBjpZrTG/ZZn5IhKFMW1S1fp+vuZr7abCj5RrTW7ZmGhLOR9oHlojIF4B8ERkPfAN4KdMhIrGEAGWZXq4xfWRlGhJhWDP9Ot6UJU3A/cAO4JsOcgwiBJe0GtNDNu1zSDhfM/Wvy7/Rv7lka6UmG+W7DmA8zspURJ6gk32jqnp+BuOAu/20xvSFlWlIuFwz/an/8QK8CfX+6H9+CbDJQZ5mB8vsFwazs/Zqif991/qqgiPXDSks1MHFjSUVrY3FFamm4vK8lqJBha0FA0pS+cVlKvmDESnFdrl0Swp2dedxIqLAn1T1Mv/zAmADMF9Vz01jxK5yRYAnVXWSqwxBcXlt/lwAEfmZqnacKuQJEVngIFJL1w8xvbGDsvJrilae8+NpdS/feGrZyQdtYdU5C1JrjntHy8samST7rF215RU2NBcN2d5YXF7fVDJ0T2NxRWNjSUVbY/FQmosG57cUlhW1FpQMTOUVDlLJH4pIvz2lLb/7u6d2A5NEpFRVG4AzAZsqOkDO95kCA0VknKquABCRQwAXc9tYmaaNSCv5m2/cVvvxKY1NC747YthH7/5k/ri7PwllDVp36iJ967TFKaq2caRAeX6qpbS0ceuY0satY9j3pLn9aMsraGwuGry9qai8vqlk6O7G4oqmhpJhrU0l5dpcNCS/ubCsuK2gpLQtr2iwX765dApcT7aonsKb/fdhvC3A+4HpACIyELgdmAQUAtWq+riIXAGcDwwADgUeU9Vvi0g+cC/enGkK/EZVfyEic4AbVHWBiAwHFqhqxF8DvY+9f9vXqmrGz9pJpzCU6XXAHBFZgbdpdzBwtYMctpmfRrsp2V7O7rHn7t4z7dCWluVfqBpd1ypy0K5SKX/iBDnpiRPyyEtp69HLddHZr2ndkav1oMK27l28kZ9qLSlt3F5V2ri9ih1dPz4l+c3NRYO3NRWX72gsHrqrsaSiqbGkoqWpeKg2FQ3x13xLS9vy3y/fMF8Z19CDxz4AfF9EngQmA7/BL1O8A8DPq+qXRKQceEVE/uZ/bypwNN4ZN++IyO14MwiPad8895/Tmc3Amara6J8CeT85Nnml8zJV1af9f9wj/C8tVdWmTOdIxqNtkVgiRThOF8s523Tw7nLxht2c0Nxy6POr120/b2zlovr8/Cntj0nlScFr42XKa+O9z8ds1VVnvZZKnrhUBw/ewyTx1pj6LE/bikqaaitLmmorh7Cyy8enJK+luXDw9ubiIfWNJRW7G4srGhpLKloai8u1uXhIXnPhoKLWgtIBbflFg1QKyoFyRDK1z7db+0wBVHWxv4Z4Cd5aakefAM4XkRv8z0vYO/DPc+0X1ojIW3grPEuAcX6xJoBnulh8IXCHiEwF2vCGDswpzssUwC/PRa5z4P1i5tImYGis1+HNh7Lh/c+HplIVL6xeN+jSqtEvvl1cNH1/z1k3XA7+zVn5B//mLCht1B0z3tQFZyxMpcZu4Yi8DJ6snqepwpLmulElzXWjBu/sehjelOS1thSW1TYVl9f5a74NTcUVLY0lQ7WpaEheS9GgopaCAaWp/KKylOSXgwxFpLdv4jt7+PjZeAd/Z/LBf0MBLlTVdzo+WESOx1sjbdcGFKhqrYhMAc4CvgpcDHwJaGXvCknHc2CvwzuwPMX/fmMPc4deKMo0RDZhZZoWSR3FdGo+8LVCKPzf9Run/2DY0LkPDSqb3lmhNJTI4KenyYlPT8tDVFNHrdSac17T7ZOSWlXcyvi0/wA9kKepguLmHSOKm3eMGLxzdZePV6StubBsa/P75Tu0wd/tkGoqLs9rLhxU2FowoLQtv6gslVcwBKQCb58lwLYexvsNUKeqNSIys8PX/wp8XUS+rqoqIker6gEHnfb3hzar6iMi8g57z8ZJ4k1K+QpwUYenDAHWqmpKRGaRg6d0WZl+0AYI1x9mrnhPq4oO9L3vb6udMaWp+dWbhlcc0Z0j8yqSt3icHLXYHxZ51HZde9brqRUnv6UDy3czSaA4uOTpJ2h+ccvO4cUtO4cP2rWmy8crkmopHLitqWhIXUtR2Qo4rdvLUtW1wK/2860fAv8JLBbvTW0l0NkpU2OA38reN8Dv+h9/CvyviFyNt/nf7i7gERG5HG+EuJybakVU3Z+rLiJD8Urs/c0CVf17pnNEYokHgM9lern9wfS8xW/eVxTv9FzCJUVF715aNaq0TaTXM8SWNOuuU5bokjPeSDVHNnNEnjKit6+VJb4+Yenbd7gOYUKwZioiXwb+DW+K5YXACcA/6cnbbXA2dP0Q0xtJHT20q8dMbG4e/9zqdVvPH1u5eEd+fq9mp20skrK/HS3H/+3oPFDViav1rbNf0y1TVuiokpb3D3LmEvudDQnnZYpXpMcCL6vqqSJyBPBjR1k2OlpuztugFSNVSYl0frbEsFRq+Aur1w2+pGr0P5YVF53Sp4WKyJKD5cglB/uvXa8bzno99e70JVpasZNJAqV9ev1wWO86gPGEoUwb/XPPEJFiVV3qcAoT+8VMk1YKClPI5nx0ZFePLYKiR9ZvPOX7wyvmPlY2sNMDUz2xbYhU/vnU/Mo/nwpFLdpw0tv6ypmvp5rGbeSwfKUyiGU4YL+zIRGGMl3rn/D7F+BZEakFXE0D/a6j5fYLDRRvK6OxyzJt94Ot22dMbWx65ebhFUciEuioXs2FUjpnshw3Z7LX0x9dq0vPWZDadPRyHVHazATJjrEB9gBdH7HyichVwChVdbXll9Ocl6mqfsa/Wy0iL+CdQvG0ozhvO1puv1BH2Y6yHp5eeMGu3ceNb25Z9sWqUQP6cmCqK8vGyhHLxuYfATB0p24+843Uso+/qYUj6pkkbi5v7o63Jyx9O9WDx6eA29IVpr8L09H8j9Ch3FX1dRdZIrHEesjaTb5Qe7io+u/T8pZ9vDfP3Zqft+X8MVUbd+bnHRV0rs4UtGrT8e/om594PbX7o+sZl58ibYXeC3+YsPTtWZ09YH+jMolINbBLVX/ayfOmAZer6jcCyprznK+ZisgPgSuAFXjvnOANnODiaD7Am1iZpsVqHanTWNar5w5vS42Ys3rt4M+NGT3vvaKikwOOdkCtBVI8b6IcM2+itztg3AZ995wFqfXT3tWKAU1MFLeXH7+ZrhdW1QWAi9HbspbzMsW7DO1QVQ3LQCML8YYnMwFbnqrK78t1L0VQ/Ni6jSffOLxi7uyygR/P4PXv71tRKePvPC9/PMDg3brt9EW6dObiVN7oWiZK5q+e6/Ml2P4oT/OBU4Fy4CpVfdG/OuoGVT1XvP3Vt7N3hKhb/Cuffo13Jk4p8LCq3tzXPNksDGX6Jt5/4mbHOdotdB0gVy3XqkD2Pf5o6/YZU5ua5v9gWMUkvKHjnNgxUIY9dpKc/NhJeeS3acu0d/WNs17XHUes0UhBioMzECGoNccCVT1ORD4J3Aycsc/3vwfUq+pR8P5uOYAbVXW7PxzfcyIyWVUXB5Qp64ShTG8D3hCRN+kwoIKDaUvaveJouTlvpY4uD+q1Prtz9/EfbW55Z1blqEFtIlVBvW5vteVL4fwj5Oj5/mUBB23WlWcvSK0+3hsAe6IE/7e2YsLSt7d343EHOijS8euP+h9fAyL7eewZwOfff6JqrX/3Yv+y0QK8XWNHAlamDv0e+AlQw959ps4k49H3IrHEOrxrj02A1uqIQC/tnNLUfPiza9ZtOX9s1Zu78vJCNe3F6pFyyD2fzD/kHn8A7JmL9a3TFqUY4w+AHcAiXu3m47YB+159VgEfGHuwfSWmjW52gj+I+w3Asf4IUr+jn8+UGoYy3aOq+xt4waUXgMtch8g1uyktU6VehMAGWx7hHZgadHFV5bwVRYUZOzDVE7tKpfzJ4+WkJ4/fOwD2Wd4A2B8pamNcL1+2W1tQqrpLRDaIyGmq+ryIVABnA7/swbKeBa7Bn4Ld38wfjDdYSb2IjALOAeb04DVzThjK9EURuQ1vnMWOm/lOTo3yzcHKNC2aKNxaQkugI9cXKyWPr9twcmzEsLmJgQOcHJjqrn0HwK7apqvOXpBadeJSLRu8h6N6MAD2sz1Y7OXAnSLyc//zW1R1eQ+ef6v//Dfx1l5vUdVHReQNYCnehQPzevB6Ocn5eab+ifr7UlV1dWoUkVhiHNCTXzbTTa8Uf+21kVJ/TLpe/8FBZS/fOmzoZEQGpGsZ6eIPgP3W6QtTbR/pfADs9ROWvm27oULGaZn6RwG/oaq/cBbiACKxxCr2TttgApIo+u4/Juat6tsAJl1YWFy0dFblqCEpkaw9X9gfAPuts1/TrUcldcw+A2D/dsLSt7/kLJzZL6eb+araJiKXAKErU+A54ErXIXLNGh3ZOjHNQy9MbWo+4pk16zd9amzlkt15eRPTurA08QfAnvT+ANi1uvas17wBsAc0fWj+JhMCYdhnOk9E7gAepMPo2473mYJ3uoiVacBWaGVGpqsY1dY2au7qtUMuqqp8KVlUeFImlplOm4bK2D+ckT/2D2fQAjxb0+UzTKaFoUyn+h9/0OFrLi8nbfcMUA/BHXk2sDxVlbHTZ4qVkifWbTjpWyOGzXl64IAZYT4w1QPP18yqqXcdwnyY82mNVfXU/dxcFynJeLQZeNx1jlyzQisz/ub0H1u2zYxtr30Z1Z7MMR9Wj7kOYPbPeZmKyBAR+bmILPBvPxORsKwNPuQ6QK5ZpSMzNkVzR5fu2HXibzduXpmnms2zKaSwN/jQcl6meFPP7sQb8ORiYAfwW6eJ9mrf1DcB2c6QYaofmIc9Y6Y1Nh351zXrGZBKZeu4tS/UzKrJ5jeDnBaGMj1UVW9W1RX+7Rbo9VUhgfI39f/iOkeuaSV/k6tlj25rGz139brIQS0t/3SVoQ9+7TqAObAwlGmDiLx/3qGInAyEad/WPa4D5JpdlNS5XH6JaumTazeccObuPXNd5uih9dgmfqiFoUy/inepWlJEksAdwFfcRtorGY++BLzhOkcu2aZDdrnOICA/37x1xre21b6Eas/mUnHjv2tm1bS6DmEOzFmZishBAKq6SFWnAJOByap6dAjHRLzTdYBcsl6HtbjO0O7yHTtPunfj5uV5qs52PXRDK7aFFHou10z/0n5HRB5R1R2qusNhns78Gajt8lGmW1bq6FCd73lcY9PE/1u7PlWaSi11neUAHq+ZVWNTOoecyzLt+AcVigNOB5KMRxvwzjowAViuVd0dGSljqlrbKueuXnfQ2JaWl11n2Q878JQFXJapHuB+WN1FCAavzgUrtGqQ6wz7U6o64Km1G44/NVwHppbWzKp5znUI0zWXZTpFRHaIyE5gsn9/h4jsFJHQbe4n49EVeOMHmD5K6ugK1xkOREB+tXnrjOu3184LyYGpsA2cbg7AWZmqar6qDlbVQapa4N9v/zzTszx2163Y2mmfbdCKkarh/ne8sn7nyf/jHZhyOdFjErjX4fJND4Th1KiskYxH38IuMe2zNvILUsgW1zm6cnxj08Sn1q5vLUml3nEU4Yc1s2rCMgW66YKVac/djDd1g+mDBoq3uc7QHWNa26rmrl43tqqldX6GF/0u3mSTJktYmfZQMh59B/id6xzZrlbLdrrO0F0DVAc+vXb9cTP27JmTwcV+r2ZWTadv2iJyo4gsEZHFIrJQRI7PVLgOGa6QXky1LSLVInJDOjK5YmXaO7cQrktes85GhjkZ7KS3BOSOTVtnfnN73TxU05395ZpZNZ0e7BSRE4FzgY+p6mS8ue3XpDnX/lwB7LdM/WmJ+g0r015IxqNrgB+5zpHNVumoUB+AOpCr6necfPfGLctENZ37fK/vxmMqga3qF7uqblXV9QAicoyIzBWR10Tkr+LPhSUic0TkF/5Ql2+LyLEi8qiIvCsit7a/sIhcJiKv+Gu7d4tIvn/7nYi8KSI1InKdiFwETAP+5D+21L8s/Cci8jrwWRH5FxF5VUQWicgjkoUTHXaXlWnv/QfeNLemF5anKkN34n53ndTYeNRTa9c3l6RSy9Lw8g/VzKrpzohWzwAfEZFlInKXiMwAEJFC4HbgIlU9Bu9ik45v/M2qOg34L7yBU64BJgFXiMgwEZkAfA44WVWn4h0fuBRvRowxqjpJVY8CfquqDwMLgEtVdaruHXx7m6p+TFUfAB5V1WP9S8bfBq7q9b9MyFmZ9pI/PN81rnNkq+ValdVrKGNb28bMWb2uqrK19ZUAX3YH0K39iKq6CzgGuBrYAjwoIlcAh+OV47MishC4CRjb4amz/Y81wBJV3eCv3a4APgKc7r/uq/7zT8e7QnEFME5EbheRs/2sB9JxF8UkEXlRRGrwSjkrJzjsDivTPkjGo88D97vOkY2SOnqo6wx9NVC17Ok166edsqdhTkAveV3NrJrV3X2wqrap6hxVvRm4FrgQ7zLtJf6a4lRVPUpVP9Hhae37e1Md7rd/XuA///cdnn+4qlarai0wBZiDN9Lb/3QSbXeH+78DrvXXZm8BMjYHWKZZmfbd9dho/D22RkeOdJ0hCHmQ9+tNW2ZeW1v3D1T7ck5oomZWTbfHfxCRw0VkfIcvTQVWAe8AI/wDVIhIoYj0ZG3wOeAiERnpP79CRA4WkeFAnqo+gre2+zH/8TuBzi4PHgRs8Hc/XNqDHFnHyrSPkvHoRuDfXefINg0UD0hp7rwJfaVuxyl3bdryjqhu7cXTa4F/6eFzyoDfi8hbIrIYOBKoVq/QLwJ+IiKLgIVAt6e6VtW38MryGf91n8U72DUGmONv+v8R+K7/lN8B/9V+AGo/L/k9YD4wjxw/xiCq2TDGSPhFYomH8H6JTTctLZ71bom0jO/6kdljdUHB2gvGjG5oysvryc91Wc2smj+lLZTJCFszDc7VuDnPL2vVMzB0A9r01UGtrWPnrF43elRr66vdfMpjVqS5wco0IMl4tBa4DBsIpds2a/ke1xnSoUx10DNr1h9zYkNDV0P5bcU7mGNygJVpgJLx6N+B21znyBZrdGTOjnGQB3n3bNwy46u19S+iur9pWhT4cs2sGpejUpkAWZkGrxr4h+sQ2WClVub85YbX1NVPv2PTlrdEdd+BXW6tmVVjs43mECvTgCXj0VbgAmCl6yxh916qKmfPOexoRkPjlNlrN+wuSuly/0uz8UYfMznEyjQNkvHoFuA8Or9KpN9bqZVDXGfIlEhr60FzVq8dEWlu+Qve0Xs7jSbH2KlRaRSJJc4BngByfnO2N4ayY/sbJV8N7RQmabAFOIHq+hWug5jg2ZppGiXj0f/DTug/oFoGV6gShnmWMqERON+KNHdZmaZZMh79JXCn6xxh1Ur+JtcZMkCBL1JdH8ZppE1ArEwz4+vAfa5DhNEuSutcZ0gzBa6muv5h10FMelmZZkAyHlXgSuAR11nCZqsO3uU6QxqlgKuoru9shCWTI6xMMyQZj7YBlwB/cRwlVNbp8FbXGdIkBVxJdf1vXQcxmWFlmkHJeLQFuBh4zHWWsFipla4jpEMbcDnV9X9wHcRkjpVphvmF+jm8Ycz6vRVaVew6Q8DagMuorrfBS/oZK1MHkvFoSzIe/SLwY9dZXFuulZ0NLJxtWoEvUF3/gOsgJvOsTB1KxqM3Al/BW5vpl1alRg1znSEgW4EzqK7/X9dBjBtWpo4l49F7gE/xwXlz+o0NDBuhmvVvJouAaVTXdzXknslhVqYhkIxHE8BMYK3jKBmXIi8/RV4656BPt4eAk6iuX+U6iHHLyjQkkvHoAuBo4P9cZ8m0PRTvOzxdNlDgJqrrL6a6PicHuTY9Y2UaIsl4dCsQxZusLNs3fbutVsuy7cT9ncCnqa7/kesgJjysTEMmGY9qMh6NA6cC613nyYQNDMumwU7mAcdQXT/bdRATLlamIZWMR1/Emws950djX5Ua5TpCdzQA1wMfp7r+XddhTPgUuA5gDswfZPrTkVjis8DtQFa0Tk8t16qw/x7Ow7s01ErUHJCtmWaBZDz6EDAByMnrvFdo5UDXGQ6gAbgOWxs13WAj7WeZSCxxOnAPMM51lqAcJmtX/a342we7zrGPv+ON+PSe6yAmO1iZZqFILFGCt8YUAwY7jtNnJTQ1LC25stR1Dt+7QIzq+kddBzHZxco0i0ViiRF4s1xeDRQ6jtMnK4q/UJcnlDuMsBW4FbiL6vr9zXNvTKesTHNAJJY4BLgFuJQs3Q/+dvEV75ZK83gHi64Dfgb8kur6nQ6Wb3KElWkOicQSR+Bt/l8OZNWc9POL/3XBKKmblsFFbgfuAn5GdX1dBpdrcpSVaQ7yN/+/BlwDjHQcp1tmF9344uS8ldMzsKjX8CY4fIDq+oYMLM/0E1amOSwSSxQDlwHfACY7jtOpOwt/OTeaP39Gml6+CXgQb3/o/O4+SUSGAc/5n47Gu8S3fVCW41S1WUTOB45U1XiQgTtk+DSwTFXf6uHzrgCmqeq16chlPizsJ0ubPkjGo03AvcC9kVhiCl6xXgKMcRpsP1ZoZTr29a4E7gbupbp+a0+frKrb8K5CQ0SqgV2q+tP274tIgarOBtJ5aemngSeBD5Wpv/xcnUMr61iZ9hPJeHQRsCgSS3wH77r/y4ALCMmpVctTVUGdGrUI7xLcx6mufz2g13yfiPwOaMQb4WueiCzGXwP0v9fgf28k8CW8/dcnAvNV9Qr/NT6Bd8CwGFgOXKmqu0QkDpyPN2L/M8Cj/uczROQm4EK8N8eFwCnA/SKyDLgJKAK2AZeq6qagf27TNSvTfiYZj6bwNl2fi8QSX8H7ozzLv00GxEWuFVo5pJdPbQXm4hXo7AyNKzoWOElV2/zN6Y6G4pXn+XhrrCcDXwZeFZGpeGPW3gScoaq7ReQ7wPUicifwGeAIVVURKVfVOhGZDTypqg8DiAhAkapO8z8fCpzgP+fLwLeBf0/nD2/2z8q0H0vGo83A8/7tO5FYYjRwJl6xngJk7Kqk1TpyRDcfugdvzexV4GXgaQdH4x9S1QMNkfiEX2w1wCZVrQEQkSVABK+Ij8RbqwVvjfKfQD3eGu+9IvIk3qb9gTzY4f5Y4EERqfRfa2WvfyrTJ1am5n3JeHQjcJ9/IxJLjASOBY4Bpvi3caRh7bWOQeWqNIjQcXO/BViMV5wL/I9LqK53PdZrZ1PMNPkfUx3ut39egHcQ61lVvWTfJ4rIccDpwEXAtcBp3Vj+7cDPVXW2iMwEqruOb9LBytQcUDIe3Qwk/BsAkViiFDjIvx3s39rvDwUG7nPb98BSM94aWCPe/sVaYAOwsZay5RXs2gQkgVXAKqrrm9P047nyMnCniBymqu+JyEC8A4LrgQGq+pSIzANW+I/fCXQ2g+sQYJ1/f1a6QpuuWZmaHknGow3AO/6tS375FuOtpTUm49FOzsVbd+Bv5QhV3eLvZ71fRIr9L9+EV5qPi0gJ3pr/9f73HgD+W0S+gbfGuq9q4CERqcXbXXNIGuObTth5psYYE4CsvI7bGGPCxsrUGGMCYGVqjDEBsDI1xpgAWJkaY0wArEyNMSYAVqbGGBMAK1NjjAmAlakxxgTAytQYYwJgZWqMMQGwMjXGmABYmRpjTACsTI0xJgBWpsYYEwArU2OMCYCVqTHGBMDK1BhjAmBlaowxAbAyNcaYAFiZGmNMAKxMjTEmAFamxhgTACtTY4wJgJWpMcYEwMrUGGMCYGVqjDEB+P/Cw10x4Rb+kwAAAABJRU5ErkJggg==\n",
>>>>>>> 2046b5bd1d466f2a94b436feae043461f68087d1
      "text/plain": [
       "<Figure size 432x288 with 1 Axes>"
      ]
     },
     "metadata": {},
     "output_type": "display_data"
    }
   ],
   "source": [
<<<<<<< HEAD
    "df['Estado Póliza'].value_counts().plot(kind='pie');"
=======
    "df['Forma de Pago'].value_counts(dropna=False).plot(kind='pie');"
   ]
  },
  {
   "cell_type": "markdown",
   "id": "fa62ada9-31de-490b-bc0f-081201307423",
   "metadata": {},
   "source": [
    "O podemos incluso mostrar los porcentajes"
>>>>>>> 2046b5bd1d466f2a94b436feae043461f68087d1
   ]
  },
  {
   "cell_type": "code",
<<<<<<< HEAD
   "execution_count": 182,
=======
   "execution_count": 794,
>>>>>>> 2046b5bd1d466f2a94b436feae043461f68087d1
   "id": "f6d0edee-b1ca-46d1-9dac-27137ed82658",
   "metadata": {},
   "outputs": [
    {
     "data": {
<<<<<<< HEAD
      "image/png": "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\n",
=======
      "image/png": "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\n",
>>>>>>> 2046b5bd1d466f2a94b436feae043461f68087d1
      "text/plain": [
       "<Figure size 432x288 with 1 Axes>"
      ]
     },
     "metadata": {},
     "output_type": "display_data"
    }
   ],
   "source": [
<<<<<<< HEAD
    "df['Motivo Cancelación (abs)'].value_counts().plot(kind='pie');"
=======
    "var = df['Forma de Pago'].value_counts(dropna=False, normalize=True).mul(100)\n",
    "var.plot.pie(autopct=lambda x: '{}'.format(x.round(2).astype(str) + '%'));"
>>>>>>> 2046b5bd1d466f2a94b436feae043461f68087d1
   ]
  },
  {
   "cell_type": "markdown",
   "id": "ff84aa88-42fb-467e-9c10-1649502f1c22",
   "metadata": {},
   "source": [
    "O en graficos de barras clasicos"
   ]
  },
  {
   "cell_type": "code",
<<<<<<< HEAD
   "execution_count": 292,
   "id": "4d4735be-74f1-4f0c-b24b-cc95c5876911",
=======
   "execution_count": 868,
   "id": "781fe929-fc7e-41cf-aa55-9ca63d396a61",
   "metadata": {},
   "outputs": [
    {
     "data": {
      "image/png": "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\n",
      "text/plain": [
       "<Figure size 2160x1440 with 6 Axes>"
      ]
     },
     "metadata": {
      "needs_background": "light"
     },
     "output_type": "display_data"
    }
   ],
   "source": [
    "categorical = ['Año de Construcción de la Vivienda', 'Forma de Pago', 'Código Garantía', 'Código Causas de Movimientos', 'Código Producto Técnico', 'Uso de la Vivienda']\n",
    "rows=3\n",
    "columns=2\n",
    "fig, ax = plt.subplots(rows, columns, figsize=(30, 20), gridspec_kw={\"hspace\":0.4,\"wspace\":0.2})\n",
    "for variable, subplot in zip(categorical, ax.flatten()):\n",
    "    sns.countplot(x=df[variable], ax=subplot)\n",
    "    for label in subplot.get_xticklabels():\n",
    "        label.set_rotation(45)\n",
    "        label.set_size(10)"
   ]
  },
  {
   "cell_type": "markdown",
   "id": "77c9bf50-e205-4729-b94f-4e90a1b7474d",
   "metadata": {},
   "source": [
    "O focalizando nuevamente en la variable que querramos:"
   ]
  },
  {
   "cell_type": "code",
   "execution_count": 894,
   "id": "60b43859-aba1-4825-8f6e-9e95b380ea83",
   "metadata": {},
   "outputs": [
    {
     "data": {
      "image/png": "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\n",
      "text/plain": [
       "<Figure size 1800x432 with 1 Axes>"
      ]
     },
     "metadata": {},
     "output_type": "display_data"
    }
   ],
   "source": [
    "sns.set(rc={'figure.figsize':(25,6)})\n",
    "g=sns.countplot(x=df['Año de Construcción de la Vivienda']);\n",
    "plt.setp(g.get_xticklabels(), rotation=90, size=10);"
   ]
  },
  {
   "cell_type": "markdown",
   "id": "4fe5a11b-7f57-46e2-b3af-ad5d5e01ad56",
   "metadata": {},
   "source": [
    "O directamente realizar un conteo de cada registros de cada variable y quedarnos con el head y tail para entender si realmente se trata de un valor atipico"
   ]
  },
  {
   "cell_type": "code",
   "execution_count": 848,
   "id": "4648f6ef-65e3-4b81-8b27-a26492142ff8",
>>>>>>> 2046b5bd1d466f2a94b436feae043461f68087d1
   "metadata": {},
   "outputs": [
    {
     "name": "stdout",
     "output_type": "stream",
     "text": [
<<<<<<< HEAD
      "AxesSubplot(0.125,0.125;0.775x0.755)\n",
      "AxesSubplot(0.125,0.125;0.775x0.755)\n"
     ]
    },
    {
     "data": {
      "image/png": "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\n",
      "text/plain": [
       "<Figure size 432x288 with 1 Axes>"
=======
      "1900    7665\n",
      "1990     849\n",
      "2000     795\n",
      "1980     719\n",
      "1970     677\n",
      "1975     492\n",
      "2007     420\n",
      "2005     363\n",
      "2006     354\n",
      "2008     351\n",
      "Name: Año de Construcción de la Vivienda, dtype: int64\n",
      "1888    2\n",
      "1937    3\n",
      "1924    3\n",
      "1918    3\n",
      "1903    3\n",
      "1881    3\n",
      "1800    3\n",
      "1943    3\n",
      "1813    3\n",
      "1500    3\n",
      "Name: Año de Construcción de la Vivienda, dtype: int64\n",
      "1500     3\n",
      "1790     4\n",
      "1800     3\n",
      "1813     3\n",
      "1850     4\n",
      "1867     4\n",
      "1875     6\n",
      "1880    21\n",
      "1881     3\n",
      "1888     2\n",
      "Name: Año de Construcción de la Vivienda, dtype: int64\n",
      "2021      8\n",
      "2020     45\n",
      "2019     57\n",
      "2018     44\n",
      "2017     17\n",
      "2016     34\n",
      "2015     62\n",
      "2014     62\n",
      "2013     50\n",
      "2012    162\n",
      "Name: Año de Construcción de la Vivienda, dtype: int64\n"
     ]
    }
   ],
   "source": [
    "print(df['Año de Construcción de la Vivienda'].value_counts(ascending=False, dropna=False).head(10))\n",
    "print(df['Año de Construcción de la Vivienda'].value_counts(ascending=True, dropna=False).head(10))\n",
    "print(df['Año de Construcción de la Vivienda'].value_counts(dropna=False).sort_index().head(10))\n",
    "print(df['Año de Construcción de la Vivienda'].value_counts(dropna=False).sort_index(ascending=False).head(10))"
   ]
  },
  {
   "cell_type": "markdown",
   "id": "6e7c7e5b-335a-462d-ad88-ad147017905a",
   "metadata": {},
   "source": [
    "### Variables de Fecha"
   ]
  },
  {
   "cell_type": "markdown",
   "id": "3a0a4004-86b0-4610-81a9-eb594dd7fd8e",
   "metadata": {},
   "source": [
    "Analizemos una de las variables fecha, y veamos como fue importada"
   ]
  },
  {
   "cell_type": "code",
   "execution_count": 849,
   "id": "1b71d6a5-a94e-4daa-8ff5-54d3d8e5680e",
   "metadata": {},
   "outputs": [
    {
     "data": {
      "text/plain": [
       "0    06/08/20\n",
       "1    06/08/20\n",
       "2    06/08/20\n",
       "3    06/08/20\n",
       "4    01/05/20\n",
       "Name: Fecha Efecto Natural, dtype: object"
      ]
     },
     "execution_count": 849,
     "metadata": {},
     "output_type": "execute_result"
    }
   ],
   "source": [
    "df['Fecha Efecto Natural'].head()"
   ]
  },
  {
   "cell_type": "markdown",
   "id": "8f6ad95e-5386-449f-9477-748162c1af80",
   "metadata": {},
   "source": [
    "Dado que es del tipo object debemos convertirla a fecha para poder operar con todas las funciones correspondientes"
   ]
  },
  {
   "cell_type": "code",
   "execution_count": 850,
   "id": "54a3edca-3012-4256-9016-f7b51c4790a8",
   "metadata": {},
   "outputs": [
    {
     "data": {
      "text/plain": [
       "0       2020-08-06\n",
       "1       2020-08-06\n",
       "2       2020-08-06\n",
       "3       2020-08-06\n",
       "4       2020-05-01\n",
       "           ...    \n",
       "21460   2020-05-30\n",
       "21461   2020-05-30\n",
       "21462   2020-05-31\n",
       "21463   2020-05-31\n",
       "21464   2020-05-31\n",
       "Name: Fecha Efecto Natural, Length: 21465, dtype: datetime64[ns]"
      ]
     },
     "execution_count": 850,
     "metadata": {},
     "output_type": "execute_result"
    }
   ],
   "source": [
    "df['Fecha Efecto Natural'] = pd.to_datetime(df['Fecha Efecto Natural'], format='%d/%m/%y')\n",
    "df['Fecha Efecto Natural']"
   ]
  },
  {
   "cell_type": "code",
   "execution_count": 851,
   "id": "654b686c-06cd-481d-be4a-02eeecc4b7e9",
   "metadata": {},
   "outputs": [
    {
     "data": {
      "image/png": "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\n",
      "text/plain": [
       "<Figure size 1152x432 with 1 Axes>"
>>>>>>> 2046b5bd1d466f2a94b436feae043461f68087d1
      ]
     },
     "metadata": {
      "needs_background": "light"
     },
     "output_type": "display_data"
    }
   ],
   "source": [
<<<<<<< HEAD
    "import seaborn as sns\n",
    "import matplotlib as plt\n",
    "\n",
    "df.rename(columns={'Estado Póliza': 'Estado_Poliza',  'Motivo Cancelación (abs)': 'Motivo_Cancelacion'}, inplace=True)\n",
    "categorical= ['Estado_Poliza','Motivo_Cancelacion']\n",
    "for i in a:\n",
    "    print(sns.countplot(x=df[i]));"
=======
    "plt.figure(figsize=(16,6))\n",
    "df['Fecha Efecto Natural'].value_counts().sort_index(ascending=True).plot(kind='line');"
>>>>>>> 2046b5bd1d466f2a94b436feae043461f68087d1
   ]
  },
  {
   "cell_type": "code",
<<<<<<< HEAD
   "execution_count": 293,
   "id": "781fe929-fc7e-41cf-aa55-9ca63d396a61",
   "metadata": {},
   "outputs": [
    {
     "ename": "AttributeError",
     "evalue": "module 'matplotlib' has no attribute 'subplots'",
     "output_type": "error",
     "traceback": [
      "\u001b[0;31m---------------------------------------------------------------------------\u001b[0m",
      "\u001b[0;31mAttributeError\u001b[0m                            Traceback (most recent call last)",
      "\u001b[0;32m<ipython-input-293-52dab415e9f6>\u001b[0m in \u001b[0;36m<module>\u001b[0;34m\u001b[0m\n\u001b[0;32m----> 1\u001b[0;31m \u001b[0mfig\u001b[0m\u001b[0;34m,\u001b[0m \u001b[0max\u001b[0m \u001b[0;34m=\u001b[0m \u001b[0mplt\u001b[0m\u001b[0;34m.\u001b[0m\u001b[0msubplots\u001b[0m\u001b[0;34m(\u001b[0m\u001b[0;36m2\u001b[0m\u001b[0;34m,\u001b[0m \u001b[0;36m4\u001b[0m\u001b[0;34m,\u001b[0m \u001b[0mfigsize\u001b[0m\u001b[0;34m=\u001b[0m\u001b[0;34m(\u001b[0m\u001b[0;36m20\u001b[0m\u001b[0;34m,\u001b[0m \u001b[0;36m10\u001b[0m\u001b[0;34m)\u001b[0m\u001b[0;34m)\u001b[0m\u001b[0;34m\u001b[0m\u001b[0;34m\u001b[0m\u001b[0m\n\u001b[0m\u001b[1;32m      2\u001b[0m \u001b[0;32mfor\u001b[0m \u001b[0mvariable\u001b[0m\u001b[0;34m,\u001b[0m \u001b[0msubplot\u001b[0m \u001b[0;32min\u001b[0m \u001b[0mzip\u001b[0m\u001b[0;34m(\u001b[0m\u001b[0mcategorical\u001b[0m\u001b[0;34m,\u001b[0m \u001b[0max\u001b[0m\u001b[0;34m.\u001b[0m\u001b[0mflatten\u001b[0m\u001b[0;34m(\u001b[0m\u001b[0;34m)\u001b[0m\u001b[0;34m)\u001b[0m\u001b[0;34m:\u001b[0m\u001b[0;34m\u001b[0m\u001b[0;34m\u001b[0m\u001b[0m\n\u001b[1;32m      3\u001b[0m     \u001b[0msns\u001b[0m\u001b[0;34m.\u001b[0m\u001b[0mcountplot\u001b[0m\u001b[0;34m(\u001b[0m\u001b[0mdf\u001b[0m\u001b[0;34m[\u001b[0m\u001b[0mvariable\u001b[0m\u001b[0;34m]\u001b[0m\u001b[0;34m,\u001b[0m \u001b[0max\u001b[0m\u001b[0;34m=\u001b[0m\u001b[0msubplot\u001b[0m\u001b[0;34m)\u001b[0m\u001b[0;34m\u001b[0m\u001b[0;34m\u001b[0m\u001b[0m\n\u001b[1;32m      4\u001b[0m     \u001b[0;32mfor\u001b[0m \u001b[0mlabel\u001b[0m \u001b[0;32min\u001b[0m \u001b[0msubplot\u001b[0m\u001b[0;34m.\u001b[0m\u001b[0mget_xticklabels\u001b[0m\u001b[0;34m(\u001b[0m\u001b[0;34m)\u001b[0m\u001b[0;34m:\u001b[0m\u001b[0;34m\u001b[0m\u001b[0;34m\u001b[0m\u001b[0m\n\u001b[1;32m      5\u001b[0m         \u001b[0mlabel\u001b[0m\u001b[0;34m.\u001b[0m\u001b[0mset_rotation\u001b[0m\u001b[0;34m(\u001b[0m\u001b[0;36m90\u001b[0m\u001b[0;34m)\u001b[0m\u001b[0;34m\u001b[0m\u001b[0;34m\u001b[0m\u001b[0m\n",
      "\u001b[0;31mAttributeError\u001b[0m: module 'matplotlib' has no attribute 'subplots'"
=======
   "execution_count": 852,
   "id": "ecf0a8c3-bc29-4cb1-baca-e42c37a08dd6",
   "metadata": {},
   "outputs": [
    {
     "data": {
      "text/plain": [
       "count                            21465\n",
       "mean     2020-06-26 09:35:35.849056512\n",
       "min                2016-05-09 00:00:00\n",
       "25%                2020-06-01 00:00:00\n",
       "50%                2020-06-25 00:00:00\n",
       "75%                2020-08-02 00:00:00\n",
       "max                2021-10-27 00:00:00\n",
       "Name: Fecha Efecto Natural, dtype: object"
      ]
     },
     "execution_count": 852,
     "metadata": {},
     "output_type": "execute_result"
    }
   ],
   "source": [
    "df['Fecha Efecto Natural'].describe(datetime_is_numeric=True)"
   ]
  },
  {
   "cell_type": "code",
   "execution_count": 853,
   "id": "63e20f44-a4d5-442c-9a89-adaa9b650789",
   "metadata": {},
   "outputs": [
    {
     "data": {
      "text/plain": [
       "2020-06-01    1069\n",
       "2020-07-01    1056\n",
       "2020-05-31     324\n",
       "2020-08-01     310\n",
       "2020-05-30     272\n",
       "2020-06-15     271\n",
       "2020-05-29     256\n",
       "2020-06-25     242\n",
       "2020-06-30     242\n",
       "2020-06-16     235\n",
       "Name: Fecha Efecto Natural, dtype: int64"
      ]
     },
     "execution_count": 853,
     "metadata": {},
     "output_type": "execute_result"
    }
   ],
   "source": [
    "df['Fecha Efecto Natural'].value_counts(ascending=False, dropna=False).head(10)"
   ]
  },
  {
   "cell_type": "code",
   "execution_count": 854,
   "id": "4e1e4e8f-3d6a-4540-816f-72531f21a22d",
   "metadata": {},
   "outputs": [
    {
     "data": {
      "text/plain": [
       "2021-03-29    1\n",
       "2021-05-04    1\n",
       "2021-04-06    1\n",
       "2021-04-11    1\n",
       "2017-05-31    2\n",
       "2021-09-25    2\n",
       "2021-05-19    2\n",
       "2021-06-19    2\n",
       "2021-05-27    2\n",
       "2021-04-20    2\n",
       "Name: Fecha Efecto Natural, dtype: int64"
      ]
     },
     "execution_count": 854,
     "metadata": {},
     "output_type": "execute_result"
    }
   ],
   "source": [
    "df['Fecha Efecto Natural'].value_counts(ascending=True, dropna=False).head(10)"
   ]
  },
  {
   "cell_type": "markdown",
   "id": "f167054d-3fad-4db5-a2a5-397bccecf120",
   "metadata": {},
   "source": [
    "O tambien es posible en porcentajes si quisieramos:"
   ]
  },
  {
   "cell_type": "code",
   "execution_count": 858,
   "id": "ccc46bd7-363a-4fd6-b80c-da3d026e80e2",
   "metadata": {},
   "outputs": [
    {
     "name": "stdout",
     "output_type": "stream",
     "text": [
      "2021-03-29     0.0%\n",
      "2021-05-04     0.0%\n",
      "2021-04-06     0.0%\n",
      "2021-04-11     0.0%\n",
      "2017-05-31    0.01%\n",
      "2021-09-25    0.01%\n",
      "2021-05-19    0.01%\n",
      "2021-06-19    0.01%\n",
      "2021-05-27    0.01%\n",
      "2021-04-20    0.01%\n",
      "Name: Fecha Efecto Natural, dtype: object\n",
      "2020-06-01    4.98%\n",
      "2020-07-01    4.92%\n",
      "2020-05-31    1.51%\n",
      "2020-08-01    1.44%\n",
      "2020-05-30    1.27%\n",
      "2020-06-15    1.26%\n",
      "2020-05-29    1.19%\n",
      "2020-06-25    1.13%\n",
      "2020-06-30    1.13%\n",
      "2020-06-16    1.09%\n",
      "Name: Fecha Efecto Natural, dtype: object\n"
>>>>>>> 2046b5bd1d466f2a94b436feae043461f68087d1
     ]
    }
   ],
   "source": [
<<<<<<< HEAD
    "fig, ax = plt.subplots(2, 4, figsize=(20, 10))\n",
    "for variable, subplot in zip(categorical, ax.flatten()):\n",
    "    sns.countplot(df[variable], ax=subplot)\n",
    "    for label in subplot.get_xticklabels():\n",
    "        label.set_rotation(90)"
=======
    "print(df['Fecha Efecto Natural'].value_counts(ascending=True, dropna=False, normalize=True).head(10).mul(100).round(2).astype(str) + '%')\n",
    "print(df['Fecha Efecto Natural'].value_counts(ascending=False, dropna=False, normalize=True).head(10).mul(100).round(2).astype(str) + '%')"
   ]
  },
  {
   "cell_type": "markdown",
   "id": "9a7eb1fb-4511-41ed-a8f2-04e338a33e8b",
   "metadata": {},
   "source": [
    "### Valores Duplicados"
   ]
  },
  {
   "cell_type": "markdown",
   "id": "114404c8-6b84-46c2-97a1-e3a0d05a191f",
   "metadata": {},
   "source": [
    "Opcion 1"
>>>>>>> 2046b5bd1d466f2a94b436feae043461f68087d1
   ]
  },
  {
   "cell_type": "code",
<<<<<<< HEAD
   "execution_count": null,
   "id": "c1d33d42-35be-4576-84e4-bd736f49b353",
   "metadata": {},
   "outputs": [],
   "source": []
=======
   "execution_count": 859,
   "id": "317ccf0a-01d7-4133-9876-f9a1733370a9",
   "metadata": {},
   "outputs": [
    {
     "data": {
      "text/html": [
       "<div>\n",
       "<style scoped>\n",
       "    .dataframe tbody tr th:only-of-type {\n",
       "        vertical-align: middle;\n",
       "    }\n",
       "\n",
       "    .dataframe tbody tr th {\n",
       "        vertical-align: top;\n",
       "    }\n",
       "\n",
       "    .dataframe thead th {\n",
       "        text-align: right;\n",
       "    }\n",
       "</style>\n",
       "<table border=\"1\" class=\"dataframe\">\n",
       "  <thead>\n",
       "    <tr style=\"text-align: right;\">\n",
       "      <th></th>\n",
       "      <th>Fecha Dato</th>\n",
       "      <th>Código Producto Técnico</th>\n",
       "      <th>Producto Técnico</th>\n",
       "      <th>Código Producto Comercial</th>\n",
       "      <th>Producto Comercial</th>\n",
       "      <th>Código Póliza AIS</th>\n",
       "      <th>Código Compañía</th>\n",
       "      <th>Compañía</th>\n",
       "      <th>Fecha Inicio Póliza</th>\n",
       "      <th>Fecha Efecto Natural</th>\n",
       "      <th>...</th>\n",
       "      <th>Nº Pól Baja Vencimiento</th>\n",
       "      <th>Prima Riesgo</th>\n",
       "      <th>Prima Técnica</th>\n",
       "      <th>Prima_Neta</th>\n",
       "      <th>Descuento por Campaña.1</th>\n",
       "      <th>Descuento Colectivo.1</th>\n",
       "      <th>Capital Recomendado</th>\n",
       "      <th>Cap Baja Vencimiento</th>\n",
       "      <th>Código Causas de Movimientos</th>\n",
       "      <th>Causas de Movimientos</th>\n",
       "    </tr>\n",
       "  </thead>\n",
       "  <tbody>\n",
       "  </tbody>\n",
       "</table>\n",
       "<p>0 rows × 52 columns</p>\n",
       "</div>"
      ],
      "text/plain": [
       "Empty DataFrame\n",
       "Columns: [Fecha Dato, Código Producto Técnico, Producto Técnico, Código Producto Comercial, Producto Comercial, Código Póliza AIS, Código Compañía, Compañía, Fecha Inicio Póliza, Fecha Efecto Natural, Fecha Anulación Póliza, Fecha Vencimiento Póliza, Fecha Contable, Cód Estructura Comercial, Estructura Comercial, Cód Oficina, Oficina, Campaña, Campaña de Suplemento, Colectivo de Clientes, Forma de Pago, Cesión de Derechos, Tipo de la Vivienda, Población del Riesgo, Provincia del Riesgo, Nº Habitantes en Miles, Uso de la Vivienda, Superficie Vivienda (m2), Superficie Anexos (m2), Año de Construcción de la Vivienda, Régimen de Tenencia, Código Postal del Riesgo, Descuento Colectivo, Descuento por Campaña, Código Garantía, Garantía, Código Pól Comunidad BBVA, Código Pól Comunidad Otra Cía, Nombre Cía Pól Comunidad, Reforma de la Cubierta, Reforma de la Fontanería, Valor Instalaciones, Nº Pól Baja Vencimiento, Prima Riesgo, Prima Técnica, Prima_Neta, Descuento por Campaña.1, Descuento Colectivo.1, Capital Recomendado, Cap Baja Vencimiento, Código Causas de Movimientos, Causas de Movimientos]\n",
       "Index: []\n",
       "\n",
       "[0 rows x 52 columns]"
      ]
     },
     "execution_count": 859,
     "metadata": {},
     "output_type": "execute_result"
    }
   ],
   "source": [
    "df[df.duplicated(keep=False)]"
   ]
  },
  {
   "cell_type": "markdown",
   "id": "8a0ccd14-49bb-43a9-bc1f-a2a5543c2669",
   "metadata": {},
   "source": [
    "Opcion 2"
   ]
  },
  {
   "cell_type": "code",
   "execution_count": 864,
   "id": "0a3560b5-201d-48fb-ac3f-5ed34047a53f",
   "metadata": {},
   "outputs": [
    {
     "name": "stdout",
     "output_type": "stream",
     "text": [
      "Cantidad de filas 21465\n",
      "Cantidad de filas de la key 21465\n"
     ]
    }
   ],
   "source": [
    "# Si sabemos cual es la pk de la tabla podemos determinar si hay duplicados por pk que es mas accurate\n",
    "key = ['Código Producto Comercial', 'Código Póliza AIS', 'Código Garantía'] \n",
    "total = len(df)\n",
    "key = len(df.groupby(key).size())\n",
    "print(\"Cantidad de filas {}\".format(total))\n",
    "print(\"Cantidad de filas de la key {}\".format(key))"
   ]
  },
  {
   "cell_type": "markdown",
   "id": "e6530817-8662-419d-b3b0-004a0634b00b",
   "metadata": {},
   "source": [
    "#### References:"
   ]
>>>>>>> 2046b5bd1d466f2a94b436feae043461f68087d1
  },
  {
   "cell_type": "markdown",
   "id": "8c36aa66-3962-4a03-bd8a-b024666f239b",
   "metadata": {},
   "source": [
<<<<<<< HEAD
    "References:\n",
    "- Perform EDA: https://towardsdatascience.com/how-to-perform-exploratory-data-analysis-with-seaborn-97e3413e841d\n",
    "- Detecting Outliers: https://towardsdatascience.com/ways-to-detect-and-remove-the-outliers-404d16608dba\n",
    "- Boxplots & Histograms: https://pandas.pydata.org/docs/reference/api/pandas.DataFrame.boxplot.html\n"
=======
    "- Perform EDA: https://towardsdatascience.com/how-to-perform-exploratory-data-analysis-with-seaborn-97e3413e841d\n",
    "- Detecting Outliers: https://towardsdatascience.com/ways-to-detect-and-remove-the-outliers-404d16608dba\n",
    "- Boxplots & Histograms: https://pandas.pydata.org/docs/reference/api/pandas.DataFrame.boxplot.html\n",
    "- datetimes: https://www.dataindependent.com/pandas/pandas-to-datetime/"
>>>>>>> 2046b5bd1d466f2a94b436feae043461f68087d1
   ]
  }
 ],
 "metadata": {
  "kernelspec": {
<<<<<<< HEAD
   "display_name": "Python 3 (ipykernel)",
=======
   "display_name": "Python 3",
>>>>>>> 2046b5bd1d466f2a94b436feae043461f68087d1
   "language": "python",
   "name": "python3"
  },
  "language_info": {
   "codemirror_mode": {
    "name": "ipython",
    "version": 3
   },
   "file_extension": ".py",
   "mimetype": "text/x-python",
   "name": "python",
   "nbconvert_exporter": "python",
   "pygments_lexer": "ipython3",
<<<<<<< HEAD
   "version": "3.8.5"
=======
   "version": "3.9.4"
>>>>>>> 2046b5bd1d466f2a94b436feae043461f68087d1
  }
 },
 "nbformat": 4,
 "nbformat_minor": 5
}
