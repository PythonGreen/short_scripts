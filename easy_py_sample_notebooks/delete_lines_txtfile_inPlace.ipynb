{
 "cells": [
  {
   "cell_type": "code",
   "execution_count": 11,
   "metadata": {},
   "outputs": [],
   "source": [
    "import os"
   ]
  },
  {
   "cell_type": "markdown",
   "metadata": {},
   "source": [
    "LISTAR EL CONTENIDO DE UN DIRECTORIO DE RED"
   ]
  },
  {
   "cell_type": "code",
   "execution_count": 18,
   "metadata": {},
   "outputs": [
    {
     "data": {
      "text/plain": [
       "['PLANTILLA_Stock_Hogar_A_2021-03-09-08-15-43.txt',\n",
       " 'PLANTILLA_Stock_Hogar_A_2021-04-01-01-15-43.txt',\n",
       " 'PLANTILLA_Stock_Hogar_B-1_2021-03-09-08-15-43.txt',\n",
       " 'PLANTILLA_Stock_Hogar_B-2_2021-03-09-08-15-43.txt',\n",
       " 'PLANTILLA_Stock_Hogar_C_2021-03-09-08-15-43.txt',\n",
       " 'PLANTILLA_Stock_Hogar_C_2021-04-01-01-15-43.txt',\n",
       " 'PLANTILLA_Stock_Hogar_D_2021-03-09-08-15-43.txt',\n",
       " 'SHRVK873.F010421.H015200.TXT',\n",
       " 'SHRVK873.F020321.H182400.TXT',\n",
       " 'SHTOK362.JV.F240321.H060010.TXT',\n",
       " 'VMRF0850.201912.TXT']"
      ]
     },
     "execution_count": 18,
     "metadata": {},
     "output_type": "execute_result"
    }
   ],
   "source": [
    "#os.listdir('\\\\\\\\nasvdir100\\Profile_AMOS\\e106064\\Downloads\\BKPs\\ORIGINAL') \n",
    "\n",
    "os.listdir('\\\\\\lnxsasdtcn\\\\FTPS\\\\ALZBBVA\\\\local\\\\FtpsRawdata\\\\backup') \n"
   ]
  },
  {
   "cell_type": "code",
   "execution_count": 4,
   "metadata": {},
   "outputs": [],
   "source": [
    "# abrir para lectura un archivo de red\n",
    "#file = open('\\\\\\\\nasvdir100\\Profile_AMOS\\e106064\\Downloads\\BKPs\\ORIGINAL\\SHRBK188.F050221.H165000.TXT','r')\n",
    "file = open('C:\\Tablas SAS\\SHTOK501.JV.F020421.H071800.TXT','r')"
   ]
  },
  {
   "cell_type": "markdown",
   "metadata": {},
   "source": [
    "CONTAR FILAS DE UN FICHERO SIN ABRIRLO CON NOTEPAD"
   ]
  },
  {
   "cell_type": "code",
   "execution_count": 5,
   "metadata": {},
   "outputs": [
    {
     "name": "stdout",
     "output_type": "stream",
     "text": [
      "106232\n"
     ]
    }
   ],
   "source": [
    "#file = open('\\\\\\\\nasvdir100\\Profile_AMOS\\e106064\\Downloads\\BKPs\\ORIGINAL\\SHRBK188.F050221.H165000.TXT','r')\n",
    "print(sum(1 for line in file))"
   ]
  },
  {
   "cell_type": "code",
   "execution_count": 7,
   "metadata": {},
   "outputs": [],
   "source": [
    "#f.readline()\n",
    "file.close()"
   ]
  },
  {
   "cell_type": "code",
   "execution_count": null,
   "metadata": {},
   "outputs": [],
   "source": []
  },
  {
   "cell_type": "markdown",
   "metadata": {},
   "source": [
    "O con Pandas chequear la cantidad de filas:"
   ]
  },
  {
   "cell_type": "code",
   "execution_count": 38,
   "metadata": {},
   "outputs": [],
   "source": [
    "import pandas as pd\n",
    "df = pd.read_csv('\\\\\\lnxsasdtcn\\\\FTPS\\\\ALZBBVA\\\\local\\\\FtpsRawdata\\\\backup\\\\SHTOK362.JV.F240321.H060010.TXT', sep='\\t', engine='python', header=None)"
   ]
  },
  {
   "cell_type": "code",
   "execution_count": 39,
   "metadata": {},
   "outputs": [
    {
     "data": {
      "text/plain": [
       "32626"
      ]
     },
     "execution_count": 39,
     "metadata": {},
     "output_type": "execute_result"
    }
   ],
   "source": [
    "len(df)"
   ]
  },
  {
   "cell_type": "code",
   "execution_count": 40,
   "metadata": {},
   "outputs": [
    {
     "data": {
      "text/html": [
       "<div>\n",
       "<style scoped>\n",
       "    .dataframe tbody tr th:only-of-type {\n",
       "        vertical-align: middle;\n",
       "    }\n",
       "\n",
       "    .dataframe tbody tr th {\n",
       "        vertical-align: top;\n",
       "    }\n",
       "\n",
       "    .dataframe thead th {\n",
       "        text-align: right;\n",
       "    }\n",
       "</style>\n",
       "<table border=\"1\" class=\"dataframe\">\n",
       "  <thead>\n",
       "    <tr style=\"text-align: right;\">\n",
       "      <th></th>\n",
       "      <th>0</th>\n",
       "      <th>1</th>\n",
       "      <th>2</th>\n",
       "      <th>3</th>\n",
       "      <th>4</th>\n",
       "      <th>5</th>\n",
       "      <th>6</th>\n",
       "      <th>7</th>\n",
       "      <th>8</th>\n",
       "      <th>9</th>\n",
       "      <th>...</th>\n",
       "      <th>27</th>\n",
       "      <th>28</th>\n",
       "      <th>29</th>\n",
       "      <th>30</th>\n",
       "      <th>31</th>\n",
       "      <th>32</th>\n",
       "      <th>33</th>\n",
       "      <th>34</th>\n",
       "      <th>35</th>\n",
       "      <th>36</th>\n",
       "    </tr>\n",
       "  </thead>\n",
       "  <tbody>\n",
       "    <tr>\n",
       "      <th>0</th>\n",
       "      <td>201912</td>\n",
       "      <td>89938481911</td>\n",
       "      <td></td>\n",
       "      <td>1000000001727</td>\n",
       "      <td>ACCV_BBVA</td>\n",
       "      <td>100</td>\n",
       "      <td>BS</td>\n",
       "      <td>AIS</td>\n",
       "      <td>20190211</td>\n",
       "      <td>20200210</td>\n",
       "      <td>...</td>\n",
       "      <td>0,000</td>\n",
       "      <td>0,120</td>\n",
       "      <td>0,000</td>\n",
       "      <td>0,000</td>\n",
       "      <td>0,000</td>\n",
       "      <td>0,000</td>\n",
       "      <td>0,000</td>\n",
       "      <td>-24,210</td>\n",
       "      <td>2</td>\n",
       "      <td>Cartera                                       ...</td>\n",
       "    </tr>\n",
       "    <tr>\n",
       "      <th>1</th>\n",
       "      <td>201912</td>\n",
       "      <td>98643557311</td>\n",
       "      <td></td>\n",
       "      <td>1000000002485</td>\n",
       "      <td>ACCV_BBVA</td>\n",
       "      <td>100</td>\n",
       "      <td>BS</td>\n",
       "      <td>AIS</td>\n",
       "      <td>20191111</td>\n",
       "      <td>20200210</td>\n",
       "      <td>...</td>\n",
       "      <td>0,000</td>\n",
       "      <td>0,000</td>\n",
       "      <td>0,000</td>\n",
       "      <td>0,000</td>\n",
       "      <td>0,000</td>\n",
       "      <td>0,000</td>\n",
       "      <td>0,000</td>\n",
       "      <td>0,000</td>\n",
       "      <td>2</td>\n",
       "      <td>Cartera                                       ...</td>\n",
       "    </tr>\n",
       "    <tr>\n",
       "      <th>2</th>\n",
       "      <td>201912</td>\n",
       "      <td>95753120211</td>\n",
       "      <td></td>\n",
       "      <td>1000000002683</td>\n",
       "      <td>ACCV_BBVA</td>\n",
       "      <td>100</td>\n",
       "      <td>BS</td>\n",
       "      <td>AIS</td>\n",
       "      <td>20190811</td>\n",
       "      <td>20191110</td>\n",
       "      <td>...</td>\n",
       "      <td>0,000</td>\n",
       "      <td>0,000</td>\n",
       "      <td>0,000</td>\n",
       "      <td>0,000</td>\n",
       "      <td>0,000</td>\n",
       "      <td>0,000</td>\n",
       "      <td>0,000</td>\n",
       "      <td>0,000</td>\n",
       "      <td>2</td>\n",
       "      <td>Cartera                                       ...</td>\n",
       "    </tr>\n",
       "    <tr>\n",
       "      <th>3</th>\n",
       "      <td>201912</td>\n",
       "      <td>99564053611</td>\n",
       "      <td></td>\n",
       "      <td>1000000002683</td>\n",
       "      <td>ACCV_BBVA</td>\n",
       "      <td>100</td>\n",
       "      <td>BS</td>\n",
       "      <td>AIS</td>\n",
       "      <td>20191111</td>\n",
       "      <td>20200210</td>\n",
       "      <td>...</td>\n",
       "      <td>0,000</td>\n",
       "      <td>0,000</td>\n",
       "      <td>0,000</td>\n",
       "      <td>0,000</td>\n",
       "      <td>0,000</td>\n",
       "      <td>0,000</td>\n",
       "      <td>0,000</td>\n",
       "      <td>0,000</td>\n",
       "      <td>2</td>\n",
       "      <td>Cartera                                       ...</td>\n",
       "    </tr>\n",
       "    <tr>\n",
       "      <th>4</th>\n",
       "      <td>201912</td>\n",
       "      <td>93345408111</td>\n",
       "      <td></td>\n",
       "      <td>1000000002857</td>\n",
       "      <td>ACCV_BBVA</td>\n",
       "      <td>100</td>\n",
       "      <td>BS</td>\n",
       "      <td>AIS</td>\n",
       "      <td>20190511</td>\n",
       "      <td>20190810</td>\n",
       "      <td>...</td>\n",
       "      <td>0,000</td>\n",
       "      <td>0,000</td>\n",
       "      <td>0,000</td>\n",
       "      <td>0,000</td>\n",
       "      <td>0,000</td>\n",
       "      <td>0,000</td>\n",
       "      <td>0,000</td>\n",
       "      <td>-8,130</td>\n",
       "      <td>2</td>\n",
       "      <td>Cartera                                       ...</td>\n",
       "    </tr>\n",
       "  </tbody>\n",
       "</table>\n",
       "<p>5 rows × 37 columns</p>\n",
       "</div>"
      ],
      "text/plain": [
       "       0            1                  2              3           4    5   6   \\\n",
       "0  201912  89938481911                     1000000001727  ACCV_BBVA   100  BS   \n",
       "1  201912  98643557311                     1000000002485  ACCV_BBVA   100  BS   \n",
       "2  201912  95753120211                     1000000002683  ACCV_BBVA   100  BS   \n",
       "3  201912  99564053611                     1000000002683  ACCV_BBVA   100  BS   \n",
       "4  201912  93345408111                     1000000002857  ACCV_BBVA   100  BS   \n",
       "\n",
       "           7         8         9   ...                 27                 28  \\\n",
       "0  AIS         20190211  20200210  ...              0,000              0,120   \n",
       "1  AIS         20191111  20200210  ...              0,000              0,000   \n",
       "2  AIS         20190811  20191110  ...              0,000              0,000   \n",
       "3  AIS         20191111  20200210  ...              0,000              0,000   \n",
       "4  AIS         20190511  20190810  ...              0,000              0,000   \n",
       "\n",
       "                  29                 30                 31                 32  \\\n",
       "0              0,000              0,000              0,000              0,000   \n",
       "1              0,000              0,000              0,000              0,000   \n",
       "2              0,000              0,000              0,000              0,000   \n",
       "3              0,000              0,000              0,000              0,000   \n",
       "4              0,000              0,000              0,000              0,000   \n",
       "\n",
       "                  33                 34 35  \\\n",
       "0              0,000            -24,210  2   \n",
       "1              0,000              0,000  2   \n",
       "2              0,000              0,000  2   \n",
       "3              0,000              0,000  2   \n",
       "4              0,000             -8,130  2   \n",
       "\n",
       "                                                  36  \n",
       "0  Cartera                                       ...  \n",
       "1  Cartera                                       ...  \n",
       "2  Cartera                                       ...  \n",
       "3  Cartera                                       ...  \n",
       "4  Cartera                                       ...  \n",
       "\n",
       "[5 rows x 37 columns]"
      ]
     },
     "execution_count": 40,
     "metadata": {},
     "output_type": "execute_result"
    }
   ],
   "source": [
    "df.head()"
   ]
  },
  {
   "cell_type": "markdown",
   "metadata": {},
   "source": [
    "MOSTRAR POR PANTALLA LAS PRIMERAS 2 LINEAS SIN ABRIRLO CON NOTEPAD"
   ]
  },
  {
   "cell_type": "code",
   "execution_count": 8,
   "metadata": {
    "scrolled": true
   },
   "outputs": [
    {
     "name": "stdout",
     "output_type": "stream",
     "text": [
      "['Fecha Dato\\tCÃ³digo Producto TÃ©cnico\\tProducto TÃ©cnico\\tCÃ³digo Producto Comercial\\tProducto Comercial\\tCÃ³digo PÃ³liza AIS\\tCÃ³digo CompaÃ±Ã\\xada\\tCompaÃ±Ã\\xada\\tFecha Inicio PÃ³liza\\tFecha Efecto Natural\\tFecha Vencimiento PÃ³liza\\tFecha AnulaciÃ³n PÃ³liza\\tFecha Contable\\tCÃ³d Estructura Comercial\\tEstructura Comercial\\tCÃ³d Oficina\\tOficina\\tCampaÃ±a\\tCampaÃ±a de Suplemento\\tColectivo de Clientes\\tForma de Pago\\tCesiÃ³n de Derechos\\tTipo de la Vivienda\\tPoblaciÃ³n del Riesgo\\tProvincia del Riesgo\\tNÂº Habitantes en Miles\\tUso de la Vivienda\\tSuperficie Vivienda (m2)\\tSuperficie Anexos (m2)\\tAÃ±o de ConstrucciÃ³n de la Vivienda\\tRÃ©gimen de Tenencia\\tCÃ³digo Postal Riesgo\\tDescuento Colectivo\\tDescuento CampaÃ±a\\tCÃ³digo GarantÃ\\xada\\tGarantÃ\\xada\\tCap Vigor Total\\tCapital Recomendado\\tPrima Riesgo\\tPrima TÃ©cnica\\tPrima Neta\\tBonus/Malus\\tCÃ³digo PÃ³liza Plataforma Origen\\tCÃ³digo PÃ³l Comunidad BBVA\\tCÃ³digo PÃ³l Comunidad Otra CÃ\\xada\\tNombre CÃ\\xada PÃ³l Comunidad\\tReforma de la Cubierta\\tReforma de la FontanerÃ\\xada\\tValor Instalaciones\\tProv Pr No Consumidas\\tBanco (4 digitos)\\tOficina (4 digitos)\\tFECHA PRECARTERA\\tTIPO CONTRATO\\n', '31/01/2021\\tACCI_BBVA \\tSEGURO DE ACCIDENTES                              \\t2784      \\tMINISEGURO ACCIDENTES BBVA ALLIANZ                \\t27840000000158\\tJV\\tBBVA ALLIANZ SEGUROS          \\t20/10/2011\\t20/10/20\\t19/10/2021\\t\\t01/01/1900\\t0182\\tBBVA ESPANA OFICINAS                              \\t01821055  \\tLOS CRISTIANOS-ARONA                              \\tSIN CAMPANA                                                 \\tSIN CAMPANA                                                 \\t                                                  \\tMensual             \\tXX\\t  \\t                                                            \\t  \\t0\\t  \\t0\\t0\\t1.900\\t    \\t        \\t0\\t0\\t0000000728\\tFALLECIMIENTO POR ACCIDENTE DE CIRCULACION        \\t22.500\\t0\\t10\\t12,74\\t12,74\\t0\\t                    \\t              \\t               \\t                                                                                \\t \\t \\t0\\t9,11\\t0182\\t1055\\t19/10/21\\tND\\n', '31/01/2021\\tACCI_BBVA \\tSEGURO DE ACCIDENTES                              \\t2784      \\tMINISEGURO ACCIDENTES BBVA ALLIANZ                \\t27840000000158\\tJV\\tBBVA ALLIANZ SEGUROS          \\t20/10/2011\\t20/10/20\\t19/10/2021\\t\\t01/01/1900\\t0182\\tBBVA ESPANA OFICINAS                              \\t01821055  \\tLOS CRISTIANOS-ARONA                              \\tSIN CAMPANA                                                 \\tSIN CAMPANA                                                 \\t                                                  \\tMensual             \\tXX\\t  \\t                                                            \\t  \\t0\\t  \\t0\\t0\\t1.900\\t    \\t        \\t0\\t0\\t0000000730\\tFALLECIMIENTO POR ACCIDENTE                       \\t22.500\\t0\\t16,09\\t20,5\\t20,5\\t0\\t                    \\t              \\t               \\t                                                                                \\t \\t \\t0\\t14,66\\t0182\\t1055\\t19/10/21\\tND\\n', '31/01/2021\\tACCI_BBVA \\tSEGURO DE ACCIDENTES                              \\t2784      \\tMINISEGURO ACCIDENTES BBVA ALLIANZ                \\t27840000000158\\tJV\\tBBVA ALLIANZ SEGUROS          \\t20/10/2011\\t20/10/20\\t19/10/2021\\t\\t01/01/1900\\t0182\\tBBVA ESPANA OFICINAS                              \\t01821055  \\tLOS CRISTIANOS-ARONA                              \\tSIN CAMPANA                                                 \\tSIN CAMPANA                                                 \\t                                                  \\tMensual             \\tXX\\t  \\t                                                            \\t  \\t0\\t  \\t0\\t0\\t1.900\\t    \\t        \\t0\\t0\\t0000000986\\tFALLECIMIENTO DE CONYUGE EN ACCIDENTE CIRCULACIÃ“N \\t22.500\\t0\\t2,64\\t3,37\\t3,37\\t0\\t                    \\t              \\t               \\t                                                                                \\t \\t \\t0\\t2,41\\t0182\\t1055\\t19/10/21\\tND\\n']\n"
     ]
    }
   ],
   "source": [
    "head = [next(file) for x in range(4)]\n",
    "print(head)"
   ]
  },
  {
   "cell_type": "markdown",
   "metadata": {},
   "source": [
    "ELIMINO LAS LINEAS EN BLANCO SOBRE EL MISMO FICHERO"
   ]
  },
  {
   "cell_type": "code",
   "execution_count": 56,
   "metadata": {},
   "outputs": [],
   "source": [
    "file = open('\\\\\\\\nasvdir100\\Profile_AMOS\\e106064\\Downloads\\BKPs\\SHRBK188.F050221.H165000.TXT','r')\n",
    "lines = file.readlines()\n",
    "with open(\"\\\\\\\\nasvdir100\\Profile_AMOS\\e106064\\Downloads\\BKPs\\SHRBK188.F050221.H165000.TXT\", \"w\") as file:\n",
    "    for line in lines:\n",
    "        if line != \"\\n\":\n",
    "            file.write(line)\n",
    "file.close()"
   ]
  }
 ],
 "metadata": {
  "kernelspec": {
   "display_name": "Python 3",
   "language": "python",
   "name": "python3"
  },
  "language_info": {
   "codemirror_mode": {
    "name": "ipython",
    "version": 3
   },
   "file_extension": ".py",
   "mimetype": "text/x-python",
   "name": "python",
   "nbconvert_exporter": "python",
   "pygments_lexer": "ipython3",
   "version": "3.7.3"
  }
 },
 "nbformat": 4,
 "nbformat_minor": 2
}
