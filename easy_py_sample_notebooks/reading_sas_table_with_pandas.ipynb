{
 "cells": [
  {
   "cell_type": "code",
   "execution_count": 1,
   "id": "wireless-stability",
   "metadata": {},
   "outputs": [],
   "source": [
    "import pandas\n",
    "import os"
   ]
  },
  {
   "cell_type": "code",
   "execution_count": 10,
   "id": "architectural-amplifier",
   "metadata": {},
   "outputs": [
    {
     "data": {
      "text/plain": [
       "'/usr/lib64/python3.6/os.py'"
      ]
     },
     "execution_count": 10,
     "metadata": {},
     "output_type": "execute_result"
    }
   ],
   "source": [
    "pandas.__file__\n",
    "os.__file__"
   ]
  },
  {
   "cell_type": "code",
   "execution_count": 26,
   "id": "known-action",
   "metadata": {},
   "outputs": [
    {
     "data": {
      "text/plain": [
       "['SHRVK862_01.TXT',\n",
       " 'SHRVK863_01.TXT',\n",
       " 'SHRVK873_01.TXT',\n",
       " 'SHRVK881_01.TXT',\n",
       " 'SHRVK883_01.TXT',\n",
       " 'SHRVK858_01.TXT',\n",
       " 'SHRVK859_01.TXT']"
      ]
     },
     "execution_count": 26,
     "metadata": {},
     "output_type": "execute_result"
    }
   ],
   "source": [
    "os.listdir('/mnt/lnxsasdtcn/sas/APPSAS/RE_DESARROLLO/PAD/202103') "
   ]
  },
  {
   "cell_type": "code",
   "execution_count": null,
   "id": "european-antenna",
   "metadata": {},
   "outputs": [],
   "source": [
    "class SftpFileSystem(object):\n",
    "    def open(self, path, mode='rb', **kwargs):\n",
    "        return sftp_client.open(path, mode)\n",
    "\n",
    "dask.bytes.core._filesystems['sftp'] = SftpFileSystem\n",
    "\n",
    "df = dd.read_csv('sftp://remote/path/file.csv')"
   ]
  },
  {
   "cell_type": "code",
   "execution_count": 8,
   "id": "infinite-surgery",
   "metadata": {},
   "outputs": [],
   "source": [
    "import pandas as pd\n",
    "\n",
    "tb_campos = pd.read_sas('/mnt/lnxsasdtcn/sas/APPSAS/SOURCE/campos.sas7bdat')"
   ]
  },
  {
   "cell_type": "code",
   "execution_count": 10,
   "id": "integrated-confusion",
   "metadata": {},
   "outputs": [
    {
     "data": {
      "text/plain": [
       "pandas.core.series.Series"
      ]
     },
     "execution_count": 10,
     "metadata": {},
     "output_type": "execute_result"
    }
   ],
   "source": [
    "type(tb_campos[0:10]['campo'])"
   ]
  }
 ],
 "metadata": {
  "kernelspec": {
   "display_name": "Python 3",
   "language": "python",
   "name": "python3"
  },
  "language_info": {
   "codemirror_mode": {
    "name": "ipython",
    "version": 3
   },
   "file_extension": ".py",
   "mimetype": "text/x-python",
   "name": "python",
   "nbconvert_exporter": "python",
   "pygments_lexer": "ipython3",
   "version": "3.6.8"
  }
 },
 "nbformat": 4,
 "nbformat_minor": 5
}
