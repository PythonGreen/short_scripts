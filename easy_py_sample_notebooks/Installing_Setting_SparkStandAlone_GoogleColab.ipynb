{
  "nbformat": 4,
  "nbformat_minor": 0,
  "metadata": {
    "kernelspec": {
      "display_name": "Python 3",
      "language": "python",
      "name": "python3"
    },
    "language_info": {
      "codemirror_mode": {
        "name": "ipython",
        "version": 3
      },
      "file_extension": ".py",
      "mimetype": "text/x-python",
      "name": "python",
      "nbconvert_exporter": "python",
      "pygments_lexer": "ipython3",
      "version": "3.7.3"
    },
    "colab": {
      "name": "Installing_Setting_Spark_GoogleColab",
      "provenance": [],
      "collapsed_sections": [],
      "toc_visible": true
    }
  },
  "cells": [
    {
      "cell_type": "markdown",
      "metadata": {
        "id": "Z3D-uv_yygKW"
      },
      "source": [
        "# Installing and Setting Spark on Google Colab"
      ]
    },
    {
      "cell_type": "code",
      "metadata": {
        "colab": {
          "base_uri": "https://localhost:8080/"
        },
        "id": "M-oQt85ozNEQ",
        "outputId": "521f6430-dea2-4428-c960-4ccaa68c2c4f"
      },
      "source": [
        "# Mounting folder drive\n",
        "from google.colab import drive\n",
        "drive.mount('/content/drive')\n"
      ],
      "execution_count": 3,
      "outputs": [
        {
          "output_type": "stream",
          "text": [
            "Mounted at /content/drive\n"
          ],
          "name": "stdout"
        }
      ]
    },
    {
      "cell_type": "code",
      "metadata": {
        "id": "XfKIYD470tvJ"
      },
      "source": [
        "# downloading and installing jvm and spark-3.1.1\n",
        "!apt-get install openjdk-8-jdk-headless -qq > /dev/null\n",
        "#!wget -q https://www.apache.org/dyn/closer.lua/spark/spark-3.1.1/spark-3.1.1-bin-hadoop2.7.tgz\n",
        "!wget -q https://www-us.apache.org/dist/spark/spark-3.1.1/spark-3.1.1-bin-hadoop2.7.tgz\n",
        "!gunzip -c spark-3.1.1-bin-hadoop2.7.tgz | tar xvf -"
      ],
      "execution_count": 4,
      "outputs": []
    },
    {
      "cell_type": "code",
      "metadata": {
        "colab": {
          "base_uri": "https://localhost:8080/"
        },
        "id": "DKSYibvP20Vw",
        "outputId": "e19e35b2-5bc1-42ba-bc44-322493620297"
      },
      "source": [
        "# checks\n",
        "import os\n",
        "\n",
        "os.getcwd()\n",
        "\n",
        "#os.listdir('/content/drive')\n",
        "os.listdir()\n",
        "\n",
        "os.listdir(\"/content/spark-3.1.1-bin-hadoop2.7\")"
      ],
      "execution_count": 5,
      "outputs": [
        {
          "output_type": "execute_result",
          "data": {
            "text/plain": [
              "['README.md',\n",
              " 'sbin',\n",
              " 'kubernetes',\n",
              " 'jars',\n",
              " 'licenses',\n",
              " 'data',\n",
              " 'RELEASE',\n",
              " 'yarn',\n",
              " 'conf',\n",
              " 'python',\n",
              " 'LICENSE',\n",
              " 'bin',\n",
              " 'R',\n",
              " 'examples',\n",
              " 'NOTICE']"
            ]
          },
          "metadata": {
            "tags": []
          },
          "execution_count": 5
        }
      ]
    },
    {
      "cell_type": "code",
      "metadata": {
        "id": "ZP6hPGb44UcM"
      },
      "source": [
        "# setting environment variables\n",
        "os.environ[\"JAVA_HOME\"] = \"/usr/lib/jvm/java-8-openjdk-amd64\"\n",
        "os.environ[\"SPARK_HOME\"] = \"/content/spark-3.1.1-bin-hadoop2.7\"\n"
      ],
      "execution_count": 6,
      "outputs": []
    },
    {
      "cell_type": "code",
      "metadata": {
        "colab": {
          "base_uri": "https://localhost:8080/"
        },
        "id": "JHRt-YTi28_B",
        "outputId": "42c1095b-fc4a-499a-a636-e1cf77a6d0a6"
      },
      "source": [
        "# installing spark necessary modules\n",
        "!pip install findspark\n",
        "!pip install pyspark"
      ],
      "execution_count": 7,
      "outputs": [
        {
          "output_type": "stream",
          "text": [
            "Collecting findspark\n",
            "  Downloading https://files.pythonhosted.org/packages/fc/2d/2e39f9a023479ea798eed4351cd66f163ce61e00c717e03c37109f00c0f2/findspark-1.4.2-py2.py3-none-any.whl\n",
            "Installing collected packages: findspark\n",
            "Successfully installed findspark-1.4.2\n",
            "Collecting pyspark\n",
            "\u001b[?25l  Downloading https://files.pythonhosted.org/packages/45/b0/9d6860891ab14a39d4bddf80ba26ce51c2f9dc4805e5c6978ac0472c120a/pyspark-3.1.1.tar.gz (212.3MB)\n",
            "\u001b[K     |████████████████████████████████| 212.3MB 67kB/s \n",
            "\u001b[?25hCollecting py4j==0.10.9\n",
            "\u001b[?25l  Downloading https://files.pythonhosted.org/packages/9e/b6/6a4fb90cd235dc8e265a6a2067f2a2c99f0d91787f06aca4bcf7c23f3f80/py4j-0.10.9-py2.py3-none-any.whl (198kB)\n",
            "\u001b[K     |████████████████████████████████| 204kB 12.6MB/s \n",
            "\u001b[?25hBuilding wheels for collected packages: pyspark\n",
            "  Building wheel for pyspark (setup.py) ... \u001b[?25l\u001b[?25hdone\n",
            "  Created wheel for pyspark: filename=pyspark-3.1.1-py2.py3-none-any.whl size=212767604 sha256=eb39f7112f55726fd32f4fec84f73dc4ea301fe1fa11e60161802d3d1360bb98\n",
            "  Stored in directory: /root/.cache/pip/wheels/0b/90/c0/01de724414ef122bd05f056541fb6a0ecf47c7ca655f8b3c0f\n",
            "Successfully built pyspark\n",
            "Installing collected packages: py4j, pyspark\n",
            "Successfully installed py4j-0.10.9 pyspark-3.1.1\n"
          ],
          "name": "stdout"
        }
      ]
    },
    {
      "cell_type": "code",
      "metadata": {
        "colab": {
          "base_uri": "https://localhost:8080/",
          "height": 35
        },
        "id": "N-fUkusZ5MQE",
        "outputId": "cbf673d3-7a9e-4475-8beb-288f1d95af91"
      },
      "source": [
        "# checking location where Spark is installed\n",
        "import findspark\n",
        "findspark.find()"
      ],
      "execution_count": 8,
      "outputs": [
        {
          "output_type": "execute_result",
          "data": {
            "application/vnd.google.colaboratory.intrinsic+json": {
              "type": "string"
            },
            "text/plain": [
              "'/content/spark-3.1.1-bin-hadoop2.7'"
            ]
          },
          "metadata": {
            "tags": []
          },
          "execution_count": 8
        }
      ]
    },
    {
      "cell_type": "code",
      "metadata": {
        "id": "jntfUf_cygKa",
        "colab": {
          "base_uri": "https://localhost:8080/"
        },
        "outputId": "68b039f7-8daa-499c-dc64-d860d0b04cfd"
      },
      "source": [
        "# Creanting a spark session and reading a file as example\n",
        "\n",
        "findspark.init()\n",
        "from pyspark.sql import SparkSession\n",
        "from datetime import datetime, timedelta\n",
        "\n",
        "\n",
        "spark = SparkSession.builder.master(\"local\")\\\n",
        "        .appName(\"Colab\")\\\n",
        "        .config('spark.ui.port', '4050')\\\n",
        "        .getOrCreate()\n",
        "\n",
        "dt_ini = datetime.now()\n",
        "\n",
        "df_sp = spark.read.csv('/content/drive/MyDrive/orders.csv', header=True)\n",
        "\n",
        "dt_end = datetime.now()\n",
        "print(dt_end - dt_ini)\n"
      ],
      "execution_count": 10,
      "outputs": [
        {
          "output_type": "stream",
          "text": [
            "0:00:07.584366\n"
          ],
          "name": "stdout"
        }
      ]
    },
    {
      "cell_type": "code",
      "metadata": {
        "id": "meeFM0TzygKa",
        "colab": {
          "base_uri": "https://localhost:8080/"
        },
        "outputId": "4a5bfe3f-01d8-4e25-c8d1-4eaa8123fc90"
      },
      "source": [
        "# checking csv dataframe\n",
        "df_sp.head(10)\n",
        "#df_sp.printSchema()\n"
      ],
      "execution_count": 11,
      "outputs": [
        {
          "output_type": "execute_result",
          "data": {
            "text/plain": [
              "[Row(_c0='0', order_creation_time='2020-02-26 13:29:00', order_id='102523405', device_id=None),\n",
              " Row(_c0='1', order_creation_time='2020-02-26 21:13:24', order_id='102641477', device_id=None),\n",
              " Row(_c0='2', order_creation_time='2020-02-26 17:04:33', order_id='102563229', device_id=None),\n",
              " Row(_c0='3', order_creation_time='2020-02-26 20:07:45', order_id='102622016', device_id=None),\n",
              " Row(_c0='4', order_creation_time='2020-02-26 21:19:25', order_id='102643455', device_id=None),\n",
              " Row(_c0='5', order_creation_time='2020-02-26 00:08:19', order_id='102452116', device_id='d0bc996f-72d2-4ec2-8f40-d82d81120862'),\n",
              " Row(_c0='6', order_creation_time='2020-02-26 10:34:36', order_id='102492697', device_id='2bb11f99-ab21-4628-abe6-b919da8fbf34'),\n",
              " Row(_c0='7', order_creation_time='2020-02-26 11:32:47', order_id='102500373', device_id='2aec0e20-e1d8-4323-9b12-f066856488a7'),\n",
              " Row(_c0='8', order_creation_time='2020-02-26 11:46:17', order_id='102503173', device_id='37638585-a181-4265-aeb2-d9e284bb30c3'),\n",
              " Row(_c0='9', order_creation_time='2020-02-26 11:38:40', order_id='102501909', device_id='53d16c33-5980-4ad8-9032-f85d686d2855')]"
            ]
          },
          "metadata": {
            "tags": []
          },
          "execution_count": 11
        }
      ]
    },
    {
      "cell_type": "code",
      "metadata": {
        "colab": {
          "base_uri": "https://localhost:8080/",
          "height": 193
        },
        "id": "it8Ge6id1-uw",
        "outputId": "4429c475-6a20-467c-c27a-ab7d68e59715"
      },
      "source": [
        "# Creating spark context objetc\n",
        "sc=spark.sparkContext\n",
        "sc"
      ],
      "execution_count": 12,
      "outputs": [
        {
          "output_type": "execute_result",
          "data": {
            "text/html": [
              "\n",
              "        <div>\n",
              "            <p><b>SparkContext</b></p>\n",
              "\n",
              "            <p><a href=\"http://53b13c1b2646:4050\">Spark UI</a></p>\n",
              "\n",
              "            <dl>\n",
              "              <dt>Version</dt>\n",
              "                <dd><code>v3.1.1</code></dd>\n",
              "              <dt>Master</dt>\n",
              "                <dd><code>local</code></dd>\n",
              "              <dt>AppName</dt>\n",
              "                <dd><code>Colab</code></dd>\n",
              "            </dl>\n",
              "        </div>\n",
              "        "
            ],
            "text/plain": [
              "<SparkContext master=local appName=Colab>"
            ]
          },
          "metadata": {
            "tags": []
          },
          "execution_count": 12
        }
      ]
    },
    {
      "cell_type": "code",
      "metadata": {
        "colab": {
          "base_uri": "https://localhost:8080/"
        },
        "id": "z84MTocpH8ww",
        "outputId": "55d252b3-1fae-49d0-c8e5-62008bb9c4bf"
      },
      "source": [
        "data = range(1,1001)\n",
        "rdd=sc.parallelize(data)\n",
        "print(\"Number of Partitions: \"+str(rdd.getNumPartitions()))\n",
        "print(\"Action: First element: \"+str(rdd.take(10)))"
      ],
      "execution_count": 13,
      "outputs": [
        {
          "output_type": "stream",
          "text": [
            "Number of Partitions: 1\n",
            "Action: First element: [1, 2, 3, 4, 5, 6, 7, 8, 9, 10]\n"
          ],
          "name": "stdout"
        }
      ]
    },
    {
      "cell_type": "code",
      "metadata": {
        "id": "s-oOhIzVygKd",
        "colab": {
          "base_uri": "https://localhost:8080/"
        },
        "outputId": "ff48ba0d-94cd-4805-fb73-26226a0d9e3e"
      },
      "source": [
        "path = '/content/drive/MyDrive/orders.csv'\n",
        "data = sc.textFile(path) # use the sc context to read in a text file\n",
        "print(data.count())\n",
        "data.take(20)\n"
      ],
      "execution_count": 14,
      "outputs": [
        {
          "output_type": "stream",
          "text": [
            "2358\n"
          ],
          "name": "stdout"
        },
        {
          "output_type": "execute_result",
          "data": {
            "text/plain": [
              "[',order_creation_time,order_id,device_id',\n",
              " '0,2020-02-26 13:29:00,102523405,',\n",
              " '1,2020-02-26 21:13:24,102641477,',\n",
              " '2,2020-02-26 17:04:33,102563229,',\n",
              " '3,2020-02-26 20:07:45,102622016,',\n",
              " '4,2020-02-26 21:19:25,102643455,',\n",
              " '5,2020-02-26 00:08:19,102452116,d0bc996f-72d2-4ec2-8f40-d82d81120862',\n",
              " '6,2020-02-26 10:34:36,102492697,2bb11f99-ab21-4628-abe6-b919da8fbf34',\n",
              " '7,2020-02-26 11:32:47,102500373,2aec0e20-e1d8-4323-9b12-f066856488a7',\n",
              " '8,2020-02-26 11:46:17,102503173,37638585-a181-4265-aeb2-d9e284bb30c3',\n",
              " '9,2020-02-26 11:38:40,102501909,53d16c33-5980-4ad8-9032-f85d686d2855',\n",
              " '10,2020-02-26 11:57:53,102504038,3c533ccb-8739-49c8-bfee-cf467898fe9d',\n",
              " '11,2020-02-26 12:26:11,102510286,82fb1d95-c894-4499-825e-8774d0247087',\n",
              " '12,2020-02-26 12:46:31,102514893,7995c021-8983-4f53-902f-2a089944c501',\n",
              " '13,2020-02-26 12:52:04,102515379,1cdc8ef5-3752-4200-8b84-3a1df38b195f',\n",
              " '14,2020-02-26 13:40:44,102525697,e7dd9fe8-03e8-41ae-abc7-8a4b0b098971',\n",
              " '15,2020-02-26 14:03:08,102529774,4e45b3b4-85c0-4b77-b773-b85d63948f3f',\n",
              " '16,2020-02-26 14:49:09,102538753,b16ec522-f02a-4f7d-9ba1-80423b91bd37',\n",
              " '17,2020-02-26 14:54:07,102539659,f6ef8126-4539-4296-8f18-0dbabde50361',\n",
              " '18,2020-02-26 15:10:59,102542793,c4564dc0-53db-4f9a-b503-40142ad78a84']"
            ]
          },
          "metadata": {
            "tags": []
          },
          "execution_count": 14
        }
      ]
    },
    {
      "cell_type": "code",
      "metadata": {
        "id": "44S2_XAgIq-C"
      },
      "source": [
        ""
      ],
      "execution_count": null,
      "outputs": []
    },
    {
      "cell_type": "code",
      "metadata": {
        "id": "zlHGwnE6IrBf"
      },
      "source": [
        "create_table_sql = spark.sql(\"CREATE TABLE IF NOT EXISTS orders_table \\\n",
        "                      USING CSV \\\n",
        "                      OPTIONS (path \\\"/content/drive/MyDrive/orders.csv\\\", header \\\"true\\\", inferSchema \\\"true\\\");\\\n",
        "                      \")\n",
        "\n",
        "select_table = spark.sql(\"select * from orders_table\")"
      ],
      "execution_count": 15,
      "outputs": []
    },
    {
      "cell_type": "code",
      "metadata": {
        "id": "tNaxQchu3Ckb",
        "colab": {
          "base_uri": "https://localhost:8080/"
        },
        "outputId": "fdba84f4-ba3a-412f-ce3d-20753c74d1bf"
      },
      "source": [
        "select_table.show()"
      ],
      "execution_count": 16,
      "outputs": [
        {
          "output_type": "stream",
          "text": [
            "+---+-------------------+---------+--------------------+\n",
            "|_c0|order_creation_time| order_id|           device_id|\n",
            "+---+-------------------+---------+--------------------+\n",
            "|  0|2020-02-26 13:29:00|102523405|                null|\n",
            "|  1|2020-02-26 21:13:24|102641477|                null|\n",
            "|  2|2020-02-26 17:04:33|102563229|                null|\n",
            "|  3|2020-02-26 20:07:45|102622016|                null|\n",
            "|  4|2020-02-26 21:19:25|102643455|                null|\n",
            "|  5|2020-02-26 00:08:19|102452116|d0bc996f-72d2-4ec...|\n",
            "|  6|2020-02-26 10:34:36|102492697|2bb11f99-ab21-462...|\n",
            "|  7|2020-02-26 11:32:47|102500373|2aec0e20-e1d8-432...|\n",
            "|  8|2020-02-26 11:46:17|102503173|37638585-a181-426...|\n",
            "|  9|2020-02-26 11:38:40|102501909|53d16c33-5980-4ad...|\n",
            "| 10|2020-02-26 11:57:53|102504038|3c533ccb-8739-49c...|\n",
            "| 11|2020-02-26 12:26:11|102510286|82fb1d95-c894-449...|\n",
            "| 12|2020-02-26 12:46:31|102514893|7995c021-8983-4f5...|\n",
            "| 13|2020-02-26 12:52:04|102515379|1cdc8ef5-3752-420...|\n",
            "| 14|2020-02-26 13:40:44|102525697|e7dd9fe8-03e8-41a...|\n",
            "| 15|2020-02-26 14:03:08|102529774|4e45b3b4-85c0-4b7...|\n",
            "| 16|2020-02-26 14:49:09|102538753|b16ec522-f02a-4f7...|\n",
            "| 17|2020-02-26 14:54:07|102539659|f6ef8126-4539-429...|\n",
            "| 18|2020-02-26 15:10:59|102542793|c4564dc0-53db-4f9...|\n",
            "| 19|2020-02-26 16:48:55|102562504|fce72c29-13f9-463...|\n",
            "+---+-------------------+---------+--------------------+\n",
            "only showing top 20 rows\n",
            "\n"
          ],
          "name": "stdout"
        }
      ]
    },
    {
      "cell_type": "code",
      "metadata": {
        "id": "HiQrat8qPcFp",
        "colab": {
          "base_uri": "https://localhost:8080/"
        },
        "outputId": "eadb5cad-1427-45ce-a4cd-26ff8aa07024"
      },
      "source": [
        "import numpy as np\n",
        "\n",
        "np.array([True, 1, 2]) + np.array([3, 4, False])\n"
      ],
      "execution_count": 17,
      "outputs": [
        {
          "output_type": "execute_result",
          "data": {
            "text/plain": [
              "array([4, 5, 2])"
            ]
          },
          "metadata": {
            "tags": []
          },
          "execution_count": 17
        }
      ]
    },
    {
      "cell_type": "code",
      "metadata": {
        "id": "3naZ74K920k8"
      },
      "source": [
        "spark.stop()"
      ],
      "execution_count": null,
      "outputs": []
    }
  ]
}