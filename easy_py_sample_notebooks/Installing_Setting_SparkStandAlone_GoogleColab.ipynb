{
  "nbformat": 4,
  "nbformat_minor": 0,
  "metadata": {
    "kernelspec": {
      "display_name": "Python 3",
      "language": "python",
      "name": "python3"
    },
    "language_info": {
      "codemirror_mode": {
        "name": "ipython",
        "version": 3
      },
      "file_extension": ".py",
      "mimetype": "text/x-python",
      "name": "python",
      "nbconvert_exporter": "python",
      "pygments_lexer": "ipython3",
      "version": "3.7.3"
    },
    "colab": {
      "name": "Installing_Setting_Spark_GoogleColab",
      "provenance": [],
      "collapsed_sections": [],
      "toc_visible": true
    }
  },
  "cells": [
    {
      "cell_type": "markdown",
      "metadata": {
        "id": "Z3D-uv_yygKW"
      },
      "source": [
        "# Installing and Setting Spark on Google Colab"
      ]
    },
    {
      "cell_type": "code",
      "metadata": {
        "colab": {
          "base_uri": "https://localhost:8080/"
        },
        "id": "M-oQt85ozNEQ",
        "outputId": "fc286752-1437-4af2-9803-220f32d2444e"
      },
      "source": [
        "# Mounting folder drive\n",
        "from google.colab import drive\n",
        "drive.mount('/content/drive')\n"
      ],
      "execution_count": null,
      "outputs": [
        {
          "output_type": "stream",
          "text": [
            "Mounted at /content/drive\n"
          ],
          "name": "stdout"
        }
      ]
    },
    {
      "cell_type": "code",
      "metadata": {
        "id": "XfKIYD470tvJ",
        "colab": {
          "base_uri": "https://localhost:8080/"
        },
        "outputId": "61bd6700-b7b9-46ce-9dee-54d966e176dc"
      },
      "source": [
        "# downloading and installing jvm and spark-3.1.1\n",
        "!apt-get install openjdk-8-jdk-headless -qq > /dev/null\n",
        "#!wget -q https://www.apache.org/dyn/closer.lua/spark/spark-3.1.1/spark-3.1.1-bin-hadoop2.7.tgz\n",
        "!wget -q https://www-us.apache.org/dist/spark/spark-3.1.1/spark-3.1.1-bin-hadoop2.7.tgz\n",
        "!gunzip -c spark-3.1.1-bin-hadoop2.7.tgz | tar xvf -"
      ],
      "execution_count": null,
      "outputs": [
        {
          "output_type": "stream",
          "text": [
            "spark-3.1.1-bin-hadoop2.7/\n",
            "......",
            "......",
            "spark-3.1.1-bin-hadoop2.7/licenses/LICENSE-cloudpickle.txt\n"
          ],
          "name": "stdout"
        }
      ]
    },
    {
      "cell_type": "code",
      "metadata": {
        "colab": {
          "base_uri": "https://localhost:8080/"
        },
        "id": "DKSYibvP20Vw",
        "outputId": "21ae94ec-74d7-4d70-e0d1-d2c630965aff"
      },
      "source": [
        "# checks\n",
        "import os\n",
        "\n",
        "os.getcwd()\n",
        "\n",
        "#os.listdir('/content/drive')\n",
        "os.listdir()\n",
        "\n",
        "os.listdir(\"/content/spark-3.1.1-bin-hadoop2.7\")"
      ],
      "execution_count": null,
      "outputs": [
        {
          "output_type": "execute_result",
          "data": {
            "text/plain": [
              "['sbin',\n",
              " 'conf',\n",
              " 'R',\n",
              " 'LICENSE',\n",
              " 'NOTICE',\n",
              " 'python',\n",
              " 'yarn',\n",
              " 'README.md',\n",
              " 'examples',\n",
              " 'bin',\n",
              " 'kubernetes',\n",
              " 'data',\n",
              " 'RELEASE',\n",
              " 'licenses',\n",
              " 'jars']"
            ]
          },
          "metadata": {
            "tags": []
          },
          "execution_count": 4
        }
      ]
    },
    {
      "cell_type": "code",
      "metadata": {
        "id": "ZP6hPGb44UcM"
      },
      "source": [
        "# setting environment variables\n",
        "os.environ[\"JAVA_HOME\"] = \"/usr/lib/jvm/java-8-openjdk-amd64\"\n",
        "os.environ[\"SPARK_HOME\"] = \"/content/spark-3.1.1-bin-hadoop2.7\"\n"
      ],
      "execution_count": null,
      "outputs": []
    },
    {
      "cell_type": "code",
      "metadata": {
        "colab": {
          "base_uri": "https://localhost:8080/"
        },
        "id": "JHRt-YTi28_B",
        "outputId": "85580e0c-cc36-4317-fde5-b14feef4a2cb"
      },
      "source": [
        "# installing spark necessary modules\n",
        "!pip install findspark\n",
        "!pip install pyspark"
      ],
      "execution_count": null,
      "outputs": [
        {
          "output_type": "stream",
          "text": [
            "Collecting findspark\n",
            "  Downloading https://files.pythonhosted.org/packages/fc/2d/2e39f9a023479ea798eed4351cd66f163ce61e00c717e03c37109f00c0f2/findspark-1.4.2-py2.py3-none-any.whl\n",
            "Installing collected packages: findspark\n",
            "Successfully installed findspark-1.4.2\n",
            "Collecting pyspark\n",
            "\u001b[?25l  Downloading https://files.pythonhosted.org/packages/45/b0/9d6860891ab14a39d4bddf80ba26ce51c2f9dc4805e5c6978ac0472c120a/pyspark-3.1.1.tar.gz (212.3MB)\n",
            "\u001b[K     |████████████████████████████████| 212.3MB 76kB/s \n",
            "\u001b[?25hCollecting py4j==0.10.9\n",
            "\u001b[?25l  Downloading https://files.pythonhosted.org/packages/9e/b6/6a4fb90cd235dc8e265a6a2067f2a2c99f0d91787f06aca4bcf7c23f3f80/py4j-0.10.9-py2.py3-none-any.whl (198kB)\n",
            "\u001b[K     |████████████████████████████████| 204kB 39.1MB/s \n",
            "\u001b[?25hBuilding wheels for collected packages: pyspark\n",
            "  Building wheel for pyspark (setup.py) ... \u001b[?25l\u001b[?25hdone\n",
            "  Created wheel for pyspark: filename=pyspark-3.1.1-py2.py3-none-any.whl size=212767604 sha256=98c41baf6d625cd19d3b02f9336daf363dfa2e7c7b79686a11d53dd3c81fbc41\n",
            "  Stored in directory: /root/.cache/pip/wheels/0b/90/c0/01de724414ef122bd05f056541fb6a0ecf47c7ca655f8b3c0f\n",
            "Successfully built pyspark\n",
            "Installing collected packages: py4j, pyspark\n",
            "Successfully installed py4j-0.10.9 pyspark-3.1.1\n"
          ],
          "name": "stdout"
        }
      ]
    },
    {
      "cell_type": "code",
      "metadata": {
        "colab": {
          "base_uri": "https://localhost:8080/",
          "height": 35
        },
        "id": "N-fUkusZ5MQE",
        "outputId": "92315e68-6a1f-4057-cb13-806aac1be48b"
      },
      "source": [
        "# checking location where Spark is installed\n",
        "import findspark\n",
        "findspark.find()"
      ],
      "execution_count": null,
      "outputs": [
        {
          "output_type": "execute_result",
          "data": {
            "application/vnd.google.colaboratory.intrinsic+json": {
              "type": "string"
            },
            "text/plain": [
              "'/content/spark-3.1.1-bin-hadoop2.7'"
            ]
          },
          "metadata": {
            "tags": []
          },
          "execution_count": 7
        }
      ]
    },
    {
      "cell_type": "code",
      "metadata": {
        "id": "jntfUf_cygKa",
        "colab": {
          "base_uri": "https://localhost:8080/",
          "height": 132
        },
        "outputId": "14077173-01dc-4705-abd4-a1b4def6a72f"
      },
      "source": [
        "@print_timing\n",
        "# Creanting a spark session and reading a file as example\n",
        "\n",
        "findspark.init()\n",
        "from pyspark.sql import SparkSession\n",
        "from datetime import datetime, timedelta\n",
        "\n",
        "\n",
        "spark = SparkSession.builder.master(\"local\")\\\n",
        "        .appName(\"Colab\")\\\n",
        "        .config('spark.ui.port', '4050')\\\n",
        "        .getOrCreate()\n",
        "\n",
        "dt_ini = datetime.now()\n",
        "\n",
        "df_sp = spark.read.csv('/content/drive/MyDrive/orders.csv', header=True)\n",
        "\n",
        "dt_end = datetime.now()\n",
        "print(dt_end - dt_ini)\n"
      ],
      "execution_count": null,
      "outputs": [
        {
          "output_type": "error",
          "ename": "SyntaxError",
          "evalue": "ignored",
          "traceback": [
            "\u001b[0;36m  File \u001b[0;32m\"<ipython-input-14-e5f8314bd411>\"\u001b[0;36m, line \u001b[0;32m4\u001b[0m\n\u001b[0;31m    findspark.init()\u001b[0m\n\u001b[0m            ^\u001b[0m\n\u001b[0;31mSyntaxError\u001b[0m\u001b[0;31m:\u001b[0m invalid syntax\n"
          ]
        }
      ]
    },
    {
      "cell_type": "code",
      "metadata": {
        "id": "meeFM0TzygKa",
        "colab": {
          "base_uri": "https://localhost:8080/"
        },
        "outputId": "f4640f9c-91df-4cef-e41f-2d9f933eeb92"
      },
      "source": [
        "# checking csv dataframe\n",
        "df_sp.head(10)\n",
        "#df_sp.printSchema()\n"
      ],
      "execution_count": null,
      "outputs": [
        {
          "output_type": "execute_result",
          "data": {
            "text/plain": [
              "[Row(_c0='0', order_creation_time='2020-02-26 13:29:00', order_id='102523405', device_id=None),\n",
              " Row(_c0='1', order_creation_time='2020-02-26 21:13:24', order_id='102641477', device_id=None),\n",
              " Row(_c0='2', order_creation_time='2020-02-26 17:04:33', order_id='102563229', device_id=None),\n",
              " Row(_c0='3', order_creation_time='2020-02-26 20:07:45', order_id='102622016', device_id=None),\n",
              " Row(_c0='4', order_creation_time='2020-02-26 21:19:25', order_id='102643455', device_id=None),\n",
              " Row(_c0='5', order_creation_time='2020-02-26 00:08:19', order_id='102452116', device_id='d0bc996f-72d2-4ec2-8f40-d82d81120862'),\n",
              " Row(_c0='6', order_creation_time='2020-02-26 10:34:36', order_id='102492697', device_id='2bb11f99-ab21-4628-abe6-b919da8fbf34'),\n",
              " Row(_c0='7', order_creation_time='2020-02-26 11:32:47', order_id='102500373', device_id='2aec0e20-e1d8-4323-9b12-f066856488a7'),\n",
              " Row(_c0='8', order_creation_time='2020-02-26 11:46:17', order_id='102503173', device_id='37638585-a181-4265-aeb2-d9e284bb30c3'),\n",
              " Row(_c0='9', order_creation_time='2020-02-26 11:38:40', order_id='102501909', device_id='53d16c33-5980-4ad8-9032-f85d686d2855')]"
            ]
          },
          "metadata": {
            "tags": []
          },
          "execution_count": 16
        }
      ]
    },
    {
      "cell_type": "code",
      "metadata": {
        "colab": {
          "base_uri": "https://localhost:8080/",
          "height": 193
        },
        "id": "it8Ge6id1-uw",
        "outputId": "d1feddec-6f46-4f6d-804c-1b53dc2a716b"
      },
      "source": [
        "# Creating spark context objetc\n",
        "sc=spark.sparkContext\n",
        "sc"
      ],
      "execution_count": null,
      "outputs": [
        {
          "output_type": "execute_result",
          "data": {
            "text/html": [
              "\n",
              "        <div>\n",
              "            <p><b>SparkContext</b></p>\n",
              "\n",
              "            <p><a href=\"http://2f2164f20630:4050\">Spark UI</a></p>\n",
              "\n",
              "            <dl>\n",
              "              <dt>Version</dt>\n",
              "                <dd><code>v3.1.1</code></dd>\n",
              "              <dt>Master</dt>\n",
              "                <dd><code>local</code></dd>\n",
              "              <dt>AppName</dt>\n",
              "                <dd><code>Colab</code></dd>\n",
              "            </dl>\n",
              "        </div>\n",
              "        "
            ],
            "text/plain": [
              "<SparkContext master=local appName=Colab>"
            ]
          },
          "metadata": {
            "tags": []
          },
          "execution_count": 13
        }
      ]
    },
    {
      "cell_type": "code",
      "metadata": {
        "colab": {
          "base_uri": "https://localhost:8080/"
        },
        "id": "z84MTocpH8ww",
        "outputId": "f40371d2-7851-42cb-f94a-cfd563663c62"
      },
      "source": [
        "data = range(1,1001)\n",
        "rdd=sc.parallelize(data)\n",
        "print(\"Number of Partitions: \"+str(rdd.getNumPartitions()))\n",
        "print(\"Action: First element: \"+str(rdd.take(10)))"
      ],
      "execution_count": null,
      "outputs": [
        {
          "output_type": "stream",
          "text": [
            "Number of Partitions: 1\n",
            "Action: First element: [1, 2, 3, 4, 5, 6, 7, 8, 9, 10]\n"
          ],
          "name": "stdout"
        }
      ]
    },
    {
      "cell_type": "code",
      "metadata": {
        "id": "s-oOhIzVygKd",
        "colab": {
          "base_uri": "https://localhost:8080/"
        },
        "outputId": "7f712c27-f517-4aad-d9a8-3b51021edb9a"
      },
      "source": [
        "path = '/content/drive/MyDrive/orders.csv'\n",
        "data = sc.textFile(path) # use the sc context to read in a text file\n",
        "print(data.count())\n",
        "data.take(20)\n"
      ],
      "execution_count": null,
      "outputs": [
        {
          "output_type": "stream",
          "text": [
            "2358\n"
          ],
          "name": "stdout"
        },
        {
          "output_type": "execute_result",
          "data": {
            "text/plain": [
              "[',order_creation_time,order_id,device_id',\n",
              " '0,2020-02-26 13:29:00,102523405,',\n",
              " '1,2020-02-26 21:13:24,102641477,',\n",
              " '2,2020-02-26 17:04:33,102563229,',\n",
              " '3,2020-02-26 20:07:45,102622016,',\n",
              " '4,2020-02-26 21:19:25,102643455,',\n",
              " '5,2020-02-26 00:08:19,102452116,d0bc996f-72d2-4ec2-8f40-d82d81120862',\n",
              " '6,2020-02-26 10:34:36,102492697,2bb11f99-ab21-4628-abe6-b919da8fbf34',\n",
              " '7,2020-02-26 11:32:47,102500373,2aec0e20-e1d8-4323-9b12-f066856488a7',\n",
              " '8,2020-02-26 11:46:17,102503173,37638585-a181-4265-aeb2-d9e284bb30c3',\n",
              " '9,2020-02-26 11:38:40,102501909,53d16c33-5980-4ad8-9032-f85d686d2855',\n",
              " '10,2020-02-26 11:57:53,102504038,3c533ccb-8739-49c8-bfee-cf467898fe9d',\n",
              " '11,2020-02-26 12:26:11,102510286,82fb1d95-c894-4499-825e-8774d0247087',\n",
              " '12,2020-02-26 12:46:31,102514893,7995c021-8983-4f53-902f-2a089944c501',\n",
              " '13,2020-02-26 12:52:04,102515379,1cdc8ef5-3752-4200-8b84-3a1df38b195f',\n",
              " '14,2020-02-26 13:40:44,102525697,e7dd9fe8-03e8-41ae-abc7-8a4b0b098971',\n",
              " '15,2020-02-26 14:03:08,102529774,4e45b3b4-85c0-4b77-b773-b85d63948f3f',\n",
              " '16,2020-02-26 14:49:09,102538753,b16ec522-f02a-4f7d-9ba1-80423b91bd37',\n",
              " '17,2020-02-26 14:54:07,102539659,f6ef8126-4539-4296-8f18-0dbabde50361',\n",
              " '18,2020-02-26 15:10:59,102542793,c4564dc0-53db-4f9a-b503-40142ad78a84']"
            ]
          },
          "metadata": {
            "tags": []
          },
          "execution_count": 81
        }
      ]
    },
    {
      "cell_type": "code",
      "metadata": {
        "id": "44S2_XAgIq-C"
      },
      "source": [
        ""
      ],
      "execution_count": null,
      "outputs": []
    },
    {
      "cell_type": "code",
      "metadata": {
        "id": "zlHGwnE6IrBf"
      },
      "source": [
        "create_table_sql = spark.sql(\"CREATE TABLE IF NOT EXISTS orders_table \\\n",
        "                      USING CSV \\\n",
        "                      OPTIONS (path \\\"/content/drive/MyDrive/orders.csv\\\", header \\\"true\\\", inferSchema \\\"true\\\");\\\n",
        "                      \")\n",
        "\n",
        "select_table = spark.sql(\"select * from orders_table\")"
      ],
      "execution_count": null,
      "outputs": []
    },
    {
      "cell_type": "code",
      "metadata": {
        "id": "tNaxQchu3Ckb"
      },
      "source": [
        "select_table.show()"
      ],
      "execution_count": null,
      "outputs": []
    },
    {
      "cell_type": "code",
      "metadata": {
        "id": "HiQrat8qPcFp",
        "colab": {
          "base_uri": "https://localhost:8080/"
        },
        "outputId": "dce1d24b-fc33-4b1d-9ff4-8f1f47ebff9c"
      },
      "source": [
        "import numpy as np\n",
        "\n",
        "np.array([True, 1, 2]) + np.array([3, 4, False])\n"
      ],
      "execution_count": null,
      "outputs": [
        {
          "output_type": "execute_result",
          "data": {
            "text/plain": [
              "array([4, 5, 2])"
            ]
          },
          "metadata": {
            "tags": []
          },
          "execution_count": 1
        }
      ]
    },
    {
      "cell_type": "code",
      "metadata": {
        "id": "3naZ74K920k8"
      },
      "source": [
        "spark.stop()"
      ],
      "execution_count": null,
      "outputs": []
    }
  ]
}
