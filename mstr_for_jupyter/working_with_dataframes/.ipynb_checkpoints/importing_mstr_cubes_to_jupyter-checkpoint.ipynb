{
 "cells": [
  {
   "cell_type": "code",
   "execution_count": 1,
   "id": "a2828ad1",
   "metadata": {},
   "outputs": [
    {
     "name": "stdout",
     "output_type": "stream",
     "text": [
      "Password: ········\n"
     ]
    }
   ],
   "source": [
    "# Import from MicroStrategy\n",
    "# Object Name: Portlet Mediador Principal\n",
    "# AZS_AT/Objetos publicos/Cubos/00. AZRG/09. Portlet/00. Cubos\n",
    "\n",
    "from mstrio.connection import Connection\n",
    "from mstrio.cube import Cube\n",
    "from getpass import getpass\n",
    "\n",
    "# Authentication & Connection\n",
    "mstr_base_url = \"https://mstr-ilam-prd.srv.allianz/MicroStrategyLibrary/api\"\n",
    "mstr_project_id = \"F6E8279A11E9844E69030080EF3592E5\"\n",
    "mstr_username = 'Administrator' #input(\"Username: \")\n",
    "mstr_password = getpass(\"Password: \")\n",
    "mstr_login_mode = 1 #input(\"Login mode (1 - Standard, 16 - LDAP) [1]: \") or 1"
   ]
  },
  {
   "cell_type": "code",
   "execution_count": 2,
   "id": "e87596ab",
   "metadata": {},
   "outputs": [
    {
     "name": "stderr",
     "output_type": "stream",
     "text": [
      "InsecureRequestWarning: Unverified HTTPS request is being made to host 'mstr-ilam-prd.srv.allianz'. Adding certificate verification is strongly advised. See: https://urllib3.readthedocs.io/en/latest/advanced-usage.html#ssl-warnings\n",
      "InsecureRequestWarning: Unverified HTTPS request is being made to host 'mstr-ilam-prd.srv.allianz'. Adding certificate verification is strongly advised. See: https://urllib3.readthedocs.io/en/latest/advanced-usage.html#ssl-warnings\n",
      "InsecureRequestWarning: Unverified HTTPS request is being made to host 'mstr-ilam-prd.srv.allianz'. Adding certificate verification is strongly advised. See: https://urllib3.readthedocs.io/en/latest/advanced-usage.html#ssl-warnings\n",
      "InsecureRequestWarning: Unverified HTTPS request is being made to host 'mstr-ilam-prd.srv.allianz'. Adding certificate verification is strongly advised. See: https://urllib3.readthedocs.io/en/latest/advanced-usage.html#ssl-warnings\n",
      "InsecureRequestWarning: Unverified HTTPS request is being made to host 'mstr-ilam-prd.srv.allianz'. Adding certificate verification is strongly advised. See: https://urllib3.readthedocs.io/en/latest/advanced-usage.html#ssl-warnings\n"
     ]
    }
   ],
   "source": [
    "mstr_connection = Connection(mstr_base_url, mstr_username, mstr_password, project_id=mstr_project_id, \\\n",
    "                             login_mode=mstr_login_mode, verbose=False, ssl_verify=False)"
   ]
  },
  {
   "cell_type": "code",
   "execution_count": 3,
   "id": "8264d872",
   "metadata": {},
   "outputs": [
    {
     "name": "stderr",
     "output_type": "stream",
     "text": [
      "InsecureRequestWarning: Unverified HTTPS request is being made to host 'mstr-ilam-prd.srv.allianz'. Adding certificate verification is strongly advised. See: https://urllib3.readthedocs.io/en/latest/advanced-usage.html#ssl-warnings\n",
      "InsecureRequestWarning: Unverified HTTPS request is being made to host 'mstr-ilam-prd.srv.allianz'. Adding certificate verification is strongly advised. See: https://urllib3.readthedocs.io/en/latest/advanced-usage.html#ssl-warnings\n",
      "InsecureRequestWarning: Unverified HTTPS request is being made to host 'mstr-ilam-prd.srv.allianz'. Adding certificate verification is strongly advised. See: https://urllib3.readthedocs.io/en/latest/advanced-usage.html#ssl-warnings\n",
      "InsecureRequestWarning: Unverified HTTPS request is being made to host 'mstr-ilam-prd.srv.allianz'. Adding certificate verification is strongly advised. See: https://urllib3.readthedocs.io/en/latest/advanced-usage.html#ssl-warnings\n",
      "InsecureRequestWarning: Unverified HTTPS request is being made to host 'mstr-ilam-prd.srv.allianz'. Adding certificate verification is strongly advised. See: https://urllib3.readthedocs.io/en/latest/advanced-usage.html#ssl-warnings\n"
     ]
    },
    {
     "data": {
      "application/vnd.jupyter.widget-view+json": {
       "model_id": "",
       "version_major": 2,
       "version_minor": 0
      },
      "text/plain": [
       "HBox(children=(HTML(value='Initializing an instance of a cube. Please wait...'), FloatProgress(value=1.0, bar_…"
      ]
     },
     "metadata": {},
     "output_type": "display_data"
    },
    {
     "name": "stderr",
     "output_type": "stream",
     "text": [
      "InsecureRequestWarning: Unverified HTTPS request is being made to host 'mstr-ilam-prd.srv.allianz'. Adding certificate verification is strongly advised. See: https://urllib3.readthedocs.io/en/latest/advanced-usage.html#ssl-warnings\n"
     ]
    },
    {
     "data": {
      "application/vnd.jupyter.widget-view+json": {
       "model_id": "bb9ab5f8681c4b7d88ca2f55d2ca3f06",
       "version_major": 2,
       "version_minor": 0
      },
      "text/plain": [
       "HBox(children=(HTML(value='Downloading'), FloatProgress(value=0.0, max=3.0), HTML(value='')))"
      ]
     },
     "metadata": {},
     "output_type": "display_data"
    },
    {
     "name": "stderr",
     "output_type": "stream",
     "text": [
      "InsecureRequestWarning: Unverified HTTPS request is being made to host 'mstr-ilam-prd.srv.allianz'. Adding certificate verification is strongly advised. See: https://urllib3.readthedocs.io/en/latest/advanced-usage.html#ssl-warnings\n",
      "InsecureRequestWarning: Unverified HTTPS request is being made to host 'mstr-ilam-prd.srv.allianz'. Adding certificate verification is strongly advised. See: https://urllib3.readthedocs.io/en/latest/advanced-usage.html#ssl-warnings\n"
     ]
    },
    {
     "name": "stdout",
     "output_type": "stream",
     "text": [
      "\n"
     ]
    }
   ],
   "source": [
    "# Data Import:\n",
    "# we have to specify the object ID for the cube, and their components as we can see below.\n",
    "# In this case we are importing the cube of the Portlet, which is used for the \"Posicion Grafica Angular (ex EVK6)\"\n",
    "Portlet_Mediador_Principal = Cube(mstr_connection, \"0BF6910049A66EEB164F1A9EDF19D61F\")\n",
    "Portlet_Mediador_Principal.apply_filters(\n",
    "  attributes = [\"AD2ADC8B45463B87C07505B0FAB9215E\",\"2BB385CB4C3F86A7C2B7E2958310E6BB\",\"227A0491456A66B572F39C88C321716C\",\\\n",
    "                \"B346732D4275792B48452C9F0DB06291\",\"99E066AE4083655CE011338E046F95DF\"],\n",
    "  metrics = [\"F48878AE42E27AF08C17169733963D69\",\"4803614E4CDBBD0E80C20D9276ACBC13\",\"E51D9669480A58C87539FC9AABB70BFC\",\\\n",
    "             \"816D2DD34980B54AC1BD0ABCC38D50DC\",\"8B132D224F7B8DCBCEC445B77DE02320\",\"675F3FA14AE6F91FB436578D124E1057\",\\\n",
    "             \"0BE4E76F42B970365B15248BACD4EA8F\",\"DB88619C48618D29C729F887A71B3398\",\"F1236934428B13E41F7FDBB25C81B6D4\",\\\n",
    "             \"7369FF8943559C885EA0CB92C65D08C0\",\"7D2FD570439DA63802BCB08669CCE268\",\"BAFA54EA4FFC318365A5E49BB4ED20DD\"],\n",
    "  attr_elements = None\n",
    ")\n",
    "Portlet_Mediador_Principal.to_dataframe()\n",
    "Portlet_Mediador_Principal_df = Portlet_Mediador_Principal.dataframe"
   ]
  },
  {
   "cell_type": "code",
   "execution_count": 4,
   "id": "f78f937c",
   "metadata": {},
   "outputs": [
    {
     "name": "stdout",
     "output_type": "stream",
     "text": [
      "<class 'pandas.core.frame.DataFrame'>\n",
      "RangeIndex: 156093 entries, 0 to 156092\n",
      "Data columns (total 18 columns):\n",
      " #   Column                                 Non-Null Count   Dtype  \n",
      "---  ------                                 --------------   -----  \n",
      " 0   Linea de Negocio                       156093 non-null  object \n",
      " 1   Agrupación Vida                        156093 non-null  object \n",
      " 2   Mediador Principal (ACT)               156093 non-null  object \n",
      " 3   Cierre Mensual@DESC_MONTH_CLOSE_SHORT  156093 non-null  object \n",
      " 4   Cierre Mensual@MONTH_MM                156093 non-null  object \n",
      " 5   AgrupaCM                               156093 non-null  object \n",
      " 6   Primas Brutas Emitidas NB              156093 non-null  float64\n",
      " 7   Pólizas en Vigor AA                    156083 non-null  float64\n",
      " 8   Primas Brutas Emitidas                 156093 non-null  float64\n",
      " 9   Pólizas en Vigor                       156083 non-null  float64\n",
      " 10  Tomador Activo AA Agente               115339 non-null  float64\n",
      " 11  Tomador Digital IM LM                  84188 non-null   float64\n",
      " 12  Tomador Nuevo Agente                   37510 non-null   float64\n",
      " 13  Total Pólizas NB                       156083 non-null  float64\n",
      " 14  Ratio Anulaciones                      114756 non-null  float64\n",
      " 15  Tomador Activo IM LM                   115875 non-null  float64\n",
      " 16  Tomador + 1 Póliza IM AgrupaCM LM      156093 non-null  int64  \n",
      " 17  Comisiones perdidas por anulaciones    144909 non-null  float64\n",
      "dtypes: float64(11), int64(1), object(6)\n",
      "memory usage: 21.4+ MB\n"
     ]
    }
   ],
   "source": [
    "# Data Display\n",
    "Portlet_Mediador_Principal_df.info()"
   ]
  },
  {
   "cell_type": "code",
   "execution_count": 5,
   "id": "da9f8fca",
   "metadata": {},
   "outputs": [
    {
     "data": {
      "text/plain": [
       "72.87113666534424"
      ]
     },
     "execution_count": 5,
     "metadata": {},
     "output_type": "execute_result"
    }
   ],
   "source": [
    "Portlet_Mediador_Principal_df.memory_usage(deep=True).sum()/2**20"
   ]
  }
 ],
 "metadata": {
  "kernelspec": {
   "display_name": "Python 3 (ipykernel)",
   "language": "python",
   "name": "python3"
  },
  "language_info": {
   "codemirror_mode": {
    "name": "ipython",
    "version": 3
   },
   "file_extension": ".py",
   "mimetype": "text/x-python",
   "name": "python",
   "nbconvert_exporter": "python",
   "pygments_lexer": "ipython3",
   "version": "3.8.5"
  }
 },
 "nbformat": 4,
 "nbformat_minor": 5
}
