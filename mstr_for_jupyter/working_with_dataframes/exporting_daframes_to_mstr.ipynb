{
 "cells": [
  {
   "cell_type": "code",
   "execution_count": 2,
   "id": "9bd91f4f",
   "metadata": {},
   "outputs": [
    {
     "data": {
      "text/html": [
       "<div>\n",
       "<style scoped>\n",
       "    .dataframe tbody tr th:only-of-type {\n",
       "        vertical-align: middle;\n",
       "    }\n",
       "\n",
       "    .dataframe tbody tr th {\n",
       "        vertical-align: top;\n",
       "    }\n",
       "\n",
       "    .dataframe thead th {\n",
       "        text-align: right;\n",
       "    }\n",
       "</style>\n",
       "<table border=\"1\" class=\"dataframe\">\n",
       "  <thead>\n",
       "    <tr style=\"text-align: right;\">\n",
       "      <th></th>\n",
       "      <th>user</th>\n",
       "      <th>contacts</th>\n",
       "    </tr>\n",
       "  </thead>\n",
       "  <tbody>\n",
       "    <tr>\n",
       "      <th>0</th>\n",
       "      <td>user1</td>\n",
       "      <td>44</td>\n",
       "    </tr>\n",
       "    <tr>\n",
       "      <th>1</th>\n",
       "      <td>user2</td>\n",
       "      <td>49</td>\n",
       "    </tr>\n",
       "    <tr>\n",
       "      <th>2</th>\n",
       "      <td>user3</td>\n",
       "      <td>75</td>\n",
       "    </tr>\n",
       "    <tr>\n",
       "      <th>3</th>\n",
       "      <td>user4</td>\n",
       "      <td>991</td>\n",
       "    </tr>\n",
       "    <tr>\n",
       "      <th>4</th>\n",
       "      <td>user5</td>\n",
       "      <td>36</td>\n",
       "    </tr>\n",
       "    <tr>\n",
       "      <th>5</th>\n",
       "      <td>user5</td>\n",
       "      <td>150</td>\n",
       "    </tr>\n",
       "    <tr>\n",
       "      <th>6</th>\n",
       "      <td>user6</td>\n",
       "      <td>99</td>\n",
       "    </tr>\n",
       "  </tbody>\n",
       "</table>\n",
       "</div>"
      ],
      "text/plain": [
       "    user  contacts\n",
       "0  user1        44\n",
       "1  user2        49\n",
       "2  user3        75\n",
       "3  user4       991\n",
       "4  user5        36\n",
       "5  user5       150\n",
       "6  user6        99"
      ]
     },
     "execution_count": 2,
     "metadata": {},
     "output_type": "execute_result"
    }
   ],
   "source": [
    "# Loading data to a pandas dataframe\n",
    "import pandas as pd\n",
    "df = pd.read_csv(\"dataset.csv\",sep=';')\n",
    "df"
   ]
  },
  {
   "cell_type": "code",
   "execution_count": 3,
   "id": "54858a78",
   "metadata": {},
   "outputs": [
    {
     "name": "stdout",
     "output_type": "stream",
     "text": [
      "<class 'pandas.core.frame.DataFrame'>\n",
      "RangeIndex: 7 entries, 0 to 6\n",
      "Data columns (total 2 columns):\n",
      " #   Column    Non-Null Count  Dtype \n",
      "---  ------    --------------  ----- \n",
      " 0   user      7 non-null      object\n",
      " 1   contacts  7 non-null      int64 \n",
      "dtypes: int64(1), object(1)\n",
      "memory usage: 240.0+ bytes\n"
     ]
    }
   ],
   "source": [
    "df.info()"
   ]
  },
  {
   "cell_type": "code",
   "execution_count": 51,
   "id": "e5989abe",
   "metadata": {},
   "outputs": [
    {
     "name": "stdout",
     "output_type": "stream",
     "text": [
      "Password: ········\n"
     ]
    }
   ],
   "source": [
    "# Export/Create Cube in MicroStrategy\n",
    "from mstrio.connection import Connection\n",
    "from mstrio.dataset import Dataset\n",
    "from getpass import getpass\n",
    "\n",
    "# Authentication & Connection\n",
    "mstr_base_url = \"https://mstr-ilam-prd.srv.allianz/MicroStrategyLibrary/api\"\n",
    "\n",
    "# Here we need to use the objet ID of the project we want to connect to.\n",
    "mstr_project_id = \"F6E8279A11E9844E69030080EF3592E5\"\n",
    "\n",
    "# Here our user, pass and login mode chosen\n",
    "mstr_username = 'Administrator' #input(\"Username: \")\n",
    "mstr_password = getpass(\"Password: \")\n",
    "mstr_login_mode = 1 #input(\"Login mode (1 - Standard, 16 - LDAP) [1]: \") or 1"
   ]
  },
  {
   "cell_type": "code",
   "execution_count": 52,
   "id": "fe79adff",
   "metadata": {},
   "outputs": [
    {
     "name": "stderr",
     "output_type": "stream",
     "text": [
      "InsecureRequestWarning: Unverified HTTPS request is being made to host 'mstr-ilam-prd.srv.allianz'. Adding certificate verification is strongly advised. See: https://urllib3.readthedocs.io/en/latest/advanced-usage.html#ssl-warnings\n",
      "InsecureRequestWarning: Unverified HTTPS request is being made to host 'mstr-ilam-prd.srv.allianz'. Adding certificate verification is strongly advised. See: https://urllib3.readthedocs.io/en/latest/advanced-usage.html#ssl-warnings\n",
      "InsecureRequestWarning: Unverified HTTPS request is being made to host 'mstr-ilam-prd.srv.allianz'. Adding certificate verification is strongly advised. See: https://urllib3.readthedocs.io/en/latest/advanced-usage.html#ssl-warnings\n",
      "InsecureRequestWarning: Unverified HTTPS request is being made to host 'mstr-ilam-prd.srv.allianz'. Adding certificate verification is strongly advised. See: https://urllib3.readthedocs.io/en/latest/advanced-usage.html#ssl-warnings\n",
      "InsecureRequestWarning: Unverified HTTPS request is being made to host 'mstr-ilam-prd.srv.allianz'. Adding certificate verification is strongly advised. See: https://urllib3.readthedocs.io/en/latest/advanced-usage.html#ssl-warnings\n"
     ]
    }
   ],
   "source": [
    "# Now we stablish the connection\n",
    "mstr_connection = Connection(mstr_base_url, mstr_username, mstr_password, project_id=mstr_project_id, \\\n",
    "                             login_mode=mstr_login_mode, verbose=False, ssl_verify=False)"
   ]
  },
  {
   "cell_type": "code",
   "execution_count": 58,
   "id": "91f8ef0a",
   "metadata": {
    "scrolled": true
   },
   "outputs": [
    {
     "name": "stderr",
     "output_type": "stream",
     "text": [
      "InsecureRequestWarning: Unverified HTTPS request is being made to host 'mstr-ilam-prd.srv.allianz'. Adding certificate verification is strongly advised. See: https://urllib3.readthedocs.io/en/latest/advanced-usage.html#ssl-warnings\n",
      "InsecureRequestWarning: Unverified HTTPS request is being made to host 'mstr-ilam-prd.srv.allianz'. Adding certificate verification is strongly advised. See: https://urllib3.readthedocs.io/en/latest/advanced-usage.html#ssl-warnings\n"
     ]
    },
    {
     "name": "stdout",
     "output_type": "stream",
     "text": [
      "Connection to MicroStrategy Intelligence Server is active.\n"
     ]
    },
    {
     "name": "stderr",
     "output_type": "stream",
     "text": [
      "InsecureRequestWarning: Unverified HTTPS request is being made to host 'mstr-ilam-prd.srv.allianz'. Adding certificate verification is strongly advised. See: https://urllib3.readthedocs.io/en/latest/advanced-usage.html#ssl-warnings\n"
     ]
    }
   ],
   "source": [
    "# If we were disconnecte we can just execute this line to connect us again.\n",
    "#mstr_connection.renew()\n",
    "\n",
    "# We can see the status of our connection with this line:\n",
    "mstr_connection.status()"
   ]
  },
  {
   "cell_type": "code",
   "execution_count": null,
   "id": "a4c64df7",
   "metadata": {},
   "outputs": [],
   "source": [
    "#update_custom_env()"
   ]
  },
  {
   "cell_type": "code",
   "execution_count": 59,
   "id": "2226cbb0",
   "metadata": {},
   "outputs": [
    {
     "name": "stderr",
     "output_type": "stream",
     "text": [
      "InsecureRequestWarning: Unverified HTTPS request is being made to host 'mstr-ilam-prd.srv.allianz'. Adding certificate verification is strongly advised. See: https://urllib3.readthedocs.io/en/latest/advanced-usage.html#ssl-warnings\n"
     ]
    },
    {
     "name": "stdout",
     "output_type": "stream",
     "text": [
      "Created dataset 'cube_from_dataframe' with ID: 'E6FCC37C224D8FF03AA5AFAEC55E3136'.\n"
     ]
    },
    {
     "name": "stderr",
     "output_type": "stream",
     "text": [
      "InsecureRequestWarning: Unverified HTTPS request is being made to host 'mstr-ilam-prd.srv.allianz'. Adding certificate verification is strongly advised. See: https://urllib3.readthedocs.io/en/latest/advanced-usage.html#ssl-warnings\n"
     ]
    },
    {
     "data": {
      "application/vnd.jupyter.widget-view+json": {
       "model_id": "8f170794b967455f833b457b61016409",
       "version_major": 2,
       "version_minor": 0
      },
      "text/plain": [
       "HBox(children=(HTML(value=''), FloatProgress(value=0.0, max=1.0), HTML(value='')))"
      ]
     },
     "metadata": {},
     "output_type": "display_data"
    },
    {
     "name": "stderr",
     "output_type": "stream",
     "text": [
      "InsecureRequestWarning: Unverified HTTPS request is being made to host 'mstr-ilam-prd.srv.allianz'. Adding certificate verification is strongly advised. See: https://urllib3.readthedocs.io/en/latest/advanced-usage.html#ssl-warnings\n",
      "InsecureRequestWarning: Unverified HTTPS request is being made to host 'mstr-ilam-prd.srv.allianz'. Adding certificate verification is strongly advised. See: https://urllib3.readthedocs.io/en/latest/advanced-usage.html#ssl-warnings\n"
     ]
    },
    {
     "name": "stdout",
     "output_type": "stream",
     "text": [
      "\n"
     ]
    },
    {
     "name": "stderr",
     "output_type": "stream",
     "text": [
      "InsecureRequestWarning: Unverified HTTPS request is being made to host 'mstr-ilam-prd.srv.allianz'. Adding certificate verification is strongly advised. See: https://urllib3.readthedocs.io/en/latest/advanced-usage.html#ssl-warnings\n",
      "InsecureRequestWarning: Unverified HTTPS request is being made to host 'mstr-ilam-prd.srv.allianz'. Adding certificate verification is strongly advised. See: https://urllib3.readthedocs.io/en/latest/advanced-usage.html#ssl-warnings\n",
      "InsecureRequestWarning: Unverified HTTPS request is being made to host 'mstr-ilam-prd.srv.allianz'. Adding certificate verification is strongly advised. See: https://urllib3.readthedocs.io/en/latest/advanced-usage.html#ssl-warnings\n",
      "InsecureRequestWarning: Unverified HTTPS request is being made to host 'mstr-ilam-prd.srv.allianz'. Adding certificate verification is strongly advised. See: https://urllib3.readthedocs.io/en/latest/advanced-usage.html#ssl-warnings\n"
     ]
    },
    {
     "name": "stdout",
     "output_type": "stream",
     "text": [
      "Dataset 'cube_from_dataframe' published successfully.\n"
     ]
    }
   ],
   "source": [
    "# Finally we export the dataframe to an intelligent cube. We have to define a name to the cube, \n",
    "# and folder (ID) where we want to save it\n",
    "mstr_dataset = Dataset(mstr_connection, name=\"cube_from_dataframe\")\n",
    "mstr_dataset.add_table(\n",
    "  name=\"cube_from_dataframe\",\n",
    "  data_frame= df,\n",
    "  update_policy=\"replace\",\n",
    "  to_metric=None,\n",
    "  to_attribute=[\"user\",\"contacts\"]\n",
    ")\n",
    "mstr_dataset.create(folder_id=\"856CC043CE46E1BFD12A73AD6E94905C\")"
   ]
  },
  {
   "cell_type": "code",
   "execution_count": null,
   "id": "f10e4377",
   "metadata": {},
   "outputs": [],
   "source": [
    "\n",
    "\n"
   ]
  },
  {
   "cell_type": "code",
   "execution_count": null,
   "id": "62c0ede3",
   "metadata": {},
   "outputs": [],
   "source": []
  },
  {
   "cell_type": "code",
   "execution_count": null,
   "id": "fd63d60c",
   "metadata": {},
   "outputs": [],
   "source": []
  }
 ],
 "metadata": {
  "kernelspec": {
   "display_name": "Python 3 (ipykernel)",
   "language": "python",
   "name": "python3"
  },
  "language_info": {
   "codemirror_mode": {
    "name": "ipython",
    "version": 3
   },
   "file_extension": ".py",
   "mimetype": "text/x-python",
   "name": "python",
   "nbconvert_exporter": "python",
   "pygments_lexer": "ipython3",
   "version": "3.8.5"
  }
 },
 "nbformat": 4,
 "nbformat_minor": 5
}
