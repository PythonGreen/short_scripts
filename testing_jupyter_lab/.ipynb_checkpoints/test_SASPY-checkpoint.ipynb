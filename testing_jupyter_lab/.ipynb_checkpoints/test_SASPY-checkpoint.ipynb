{
 "cells": [
  {
   "cell_type": "code",
   "execution_count": 2,
   "id": "00764650-d81e-4c3f-a171-31d7e96dd5c9",
   "metadata": {},
   "outputs": [
    {
     "data": {
      "text/plain": [
       "['C:\\\\Users\\\\e106064\\\\Miniconda3\\\\lib\\\\site-packages\\\\saspy']"
      ]
     },
     "execution_count": 2,
     "metadata": {},
     "output_type": "execute_result"
    }
   ],
   "source": [
    "import saspy\n",
    "saspy.__path__"
   ]
  },
  {
   "cell_type": "code",
   "execution_count": 3,
   "id": "db2831e6-1e37-441b-91cc-52821c54dc39",
   "metadata": {},
   "outputs": [
    {
     "name": "stdin",
     "output_type": "stream",
     "text": [
      "The SAS Config name specified was not found. Please enter the SAS Config you wish to use. Available Configs are: ['iomALZBBVA', 'iomALZBrasil', 'iomALZColombia', 'iomALZPortugal', 'iomALZSeguros', 'iomFenix', 'iomSASApp']  iomALZBBVA\n",
      "Please enter the IOM user id:  allianz\\e106064\n",
      "Please enter the password for IOM user :  ········\n"
     ]
    },
    {
     "name": "stdout",
     "output_type": "stream",
     "text": [
      "SAS Connection established. Subprocess id is 172271\n",
      "\n",
      "No encoding value provided. Will try to determine the correct encoding.\n",
      "Setting encoding to latin_1 based upon the SAS session encoding value of latin1.\n",
      "\n"
     ]
    }
   ],
   "source": [
    "sas = saspy.SASsession(cfgname='default')"
   ]
  },
  {
   "cell_type": "code",
   "execution_count": 16,
   "id": "3d145e59-c0f9-4639-881f-a02445bd6690",
   "metadata": {},
   "outputs": [
    {
     "name": "stdout",
     "output_type": "stream",
     "text": [
      "\n",
      "13                                                          Sistema SAS                                 12:15 Tuesday, July 13, 2021\n",
      "\n",
      "68         \n",
      "69         libname SOPBBVA meta library='GENERAL SOPORTE BBVA' repository='ALZBBVA';\n",
      "NOTE: Libref SOPBBVA was successfully assigned as follows: \n",
      "      Engine:        META \n",
      "      Physical Name: /sasdata/alzbbva/regional/mensual/GENERAL SOPORTE BBVA\n",
      "70         \n",
      "71         \n",
      "72         \n",
      "\n",
      "14                                                          Sistema SAS                                 12:15 Tuesday, July 13, 2021\n",
      "\n",
      "73         \n"
     ]
    }
   ],
   "source": [
    "sas.saslib('SOPBBVA', engine='meta', options=\"library='GENERAL SOPORTE BBVA' repository='ALZBBVA'\")"
   ]
  },
  {
   "cell_type": "code",
   "execution_count": 17,
   "id": "ed8f8a5b-70aa-4ba5-8bad-2fd3d0653898",
   "metadata": {},
   "outputs": [
    {
     "data": {
      "text/plain": [
       "['WORK',\n",
       " 'SOPBBVA',\n",
       " 'SOPORTE',\n",
       " 'SASDATA',\n",
       " '_SOURCE',\n",
       " 'SASHELP',\n",
       " 'MAPS',\n",
       " 'MAPSSAS',\n",
       " 'MAPSGFK',\n",
       " 'SASUSER']"
      ]
     },
     "execution_count": 17,
     "metadata": {},
     "output_type": "execute_result"
    }
   ],
   "source": [
    "sas.assigned_librefs()"
   ]
  },
  {
   "cell_type": "code",
   "execution_count": 18,
   "id": "0d255444-c2b5-45c7-a8e4-7795f6cd9ab3",
   "metadata": {},
   "outputs": [
    {
     "name": "stdout",
     "output_type": "stream",
     "text": [
      "\n",
      "17                                                          Sistema SAS                                 12:15 Tuesday, July 13, 2021\n",
      "\n",
      "96         \n",
      "97         proc datasets dd=SOPBBVA;\n",
      "                                                            Directorio\n",
      "\n",
      "                         Libref                     SOPBBVA                                               \n",
      "                         Motor                      META                                                  \n",
      "                         Nombre físico              /sasdata/alzbbva/regional/mensual/GENERAL SOPORTE BBVA\n",
      "                         Nombre archivo             /sasdata/alzbbva/regional/mensual/GENERAL SOPORTE BBVA\n",
      "                         Número Inode               100663363                                             \n",
      "                         Permiso de acceso          rwxrwxr-x                                             \n",
      "                         Nombre de propietario      sas                                                   \n",
      "                         Tamaño archivo             4KB                                                   \n",
      "                         Tamaño de archivo (bytes)  4096                                                  \n",
      "\n",
      "\n",
      "                                                                              Tipo\n",
      "                                              Nº  Nombre                      miembro\n",
      "\n",
      "                                               1  A_AUX_PRODUCTO              DATA   \n",
      "                                               2  A_CAUSAS_SINIESTROS         DATA   \n",
      "                                               3  A_CAUSA_ANULACION           DATA   \n",
      "                                               4  A_LISTADO                   DATA   \n",
      "                                               5  A_MOTANUL                   DATA   \n",
      "                                               6  A_OBJETO_ASEGURADO          DATA   \n",
      "                                               7  A_PRODUCTO_RAMOS            DATA   \n",
      "                                               8  A_RAMOS                     DATA   \n",
      "                                               9  A_TIPO_VIVIENDA             DATA   \n",
      "                                              10  A_USO_VIVIENDA              DATA   \n",
      "                                              11  DICCIONARIO_TABLAS_RAWDATA  DATA   \n",
      "97       !                           quit;\n",
      "\n",
      "NOTE: PROCEDURE DATASETS ha utilizado (Tiempo de proceso total):\n",
      "      real time           0.00 seconds\n",
      "      cpu time            0.02 seconds\n",
      "      \n",
      "\n",
      "98         \n",
      "99         \n",
      "100        \n",
      "\n",
      "18                                                          Sistema SAS                                 12:15 Tuesday, July 13, 2021\n",
      "\n",
      "101        \n"
     ]
    }
   ],
   "source": [
    "sas.datasets(libref='SOPBBVA') "
   ]
  },
  {
   "cell_type": "code",
   "execution_count": 39,
   "id": "eb983100-54b0-494a-9a65-6fac19b48f05",
   "metadata": {},
   "outputs": [],
   "source": [
    "DICCIONARIO_TABLAS_RAWDATA = sas.sasdata('DICCIONARIO_TABLAS_RAWDATA','SOPBBVA')\n"
   ]
  },
  {
   "cell_type": "code",
   "execution_count": 41,
   "id": "c235d767-deed-4b07-a1e5-96a477f40fa7",
   "metadata": {},
   "outputs": [
    {
     "data": {
      "text/plain": [
       "saspy.sasdata.SASdata"
      ]
     },
     "execution_count": 41,
     "metadata": {},
     "output_type": "execute_result"
    }
   ],
   "source": [
    "type(DICCIONARIO_TABLAS_RAWDATA)"
   ]
  },
  {
   "cell_type": "code",
   "execution_count": 42,
   "id": "023384b7-b85e-48a0-a443-4e13ba72c2b6",
   "metadata": {},
   "outputs": [
    {
     "data": {
      "text/html": [
       "<div>\n",
       "<style scoped>\n",
       "    .dataframe tbody tr th:only-of-type {\n",
       "        vertical-align: middle;\n",
       "    }\n",
       "\n",
       "    .dataframe tbody tr th {\n",
       "        vertical-align: top;\n",
       "    }\n",
       "\n",
       "    .dataframe thead th {\n",
       "        text-align: right;\n",
       "    }\n",
       "</style>\n",
       "<table border=\"1\" class=\"dataframe\">\n",
       "  <thead>\n",
       "    <tr style=\"text-align: right;\">\n",
       "      <th></th>\n",
       "      <th>Member</th>\n",
       "      <th>Num</th>\n",
       "      <th>Variable</th>\n",
       "      <th>Type</th>\n",
       "      <th>Len</th>\n",
       "      <th>Pos</th>\n",
       "      <th>Format</th>\n",
       "      <th>Informat</th>\n",
       "      <th>Label</th>\n",
       "    </tr>\n",
       "  </thead>\n",
       "  <tbody>\n",
       "    <tr>\n",
       "      <th>0</th>\n",
       "      <td>SOPBBVA.DICCIONARIO_TABLAS_RAWDATA</td>\n",
       "      <td>4.0</td>\n",
       "      <td>cadena</td>\n",
       "      <td>Alfanum.</td>\n",
       "      <td>8.0</td>\n",
       "      <td>69.0</td>\n",
       "      <td>$8.</td>\n",
       "      <td>$8.</td>\n",
       "      <td>cadena</td>\n",
       "    </tr>\n",
       "    <tr>\n",
       "      <th>1</th>\n",
       "      <td>SOPBBVA.DICCIONARIO_TABLAS_RAWDATA</td>\n",
       "      <td>5.0</td>\n",
       "      <td>descripcion</td>\n",
       "      <td>Alfanum.</td>\n",
       "      <td>105.0</td>\n",
       "      <td>77.0</td>\n",
       "      <td>$105.</td>\n",
       "      <td>$105.</td>\n",
       "      <td>descripcion</td>\n",
       "    </tr>\n",
       "    <tr>\n",
       "      <th>2</th>\n",
       "      <td>SOPBBVA.DICCIONARIO_TABLAS_RAWDATA</td>\n",
       "      <td>2.0</td>\n",
       "      <td>fichero</td>\n",
       "      <td>Alfanum.</td>\n",
       "      <td>31.0</td>\n",
       "      <td>24.0</td>\n",
       "      <td>$31.</td>\n",
       "      <td>$31.</td>\n",
       "      <td>fichero</td>\n",
       "    </tr>\n",
       "    <tr>\n",
       "      <th>3</th>\n",
       "      <td>SOPBBVA.DICCIONARIO_TABLAS_RAWDATA</td>\n",
       "      <td>3.0</td>\n",
       "      <td>fuente</td>\n",
       "      <td>Alfanum.</td>\n",
       "      <td>14.0</td>\n",
       "      <td>55.0</td>\n",
       "      <td>$14.</td>\n",
       "      <td>$14.</td>\n",
       "      <td>fuente</td>\n",
       "    </tr>\n",
       "    <tr>\n",
       "      <th>4</th>\n",
       "      <td>SOPBBVA.DICCIONARIO_TABLAS_RAWDATA</td>\n",
       "      <td>1.0</td>\n",
       "      <td>tabla_sas</td>\n",
       "      <td>Alfanum.</td>\n",
       "      <td>24.0</td>\n",
       "      <td>0.0</td>\n",
       "      <td>$24.</td>\n",
       "      <td>$24.</td>\n",
       "      <td>tabla_sas</td>\n",
       "    </tr>\n",
       "  </tbody>\n",
       "</table>\n",
       "</div>"
      ],
      "text/plain": [
       "                               Member  Num     Variable      Type    Len  \\\n",
       "0  SOPBBVA.DICCIONARIO_TABLAS_RAWDATA  4.0       cadena  Alfanum.    8.0   \n",
       "1  SOPBBVA.DICCIONARIO_TABLAS_RAWDATA  5.0  descripcion  Alfanum.  105.0   \n",
       "2  SOPBBVA.DICCIONARIO_TABLAS_RAWDATA  2.0      fichero  Alfanum.   31.0   \n",
       "3  SOPBBVA.DICCIONARIO_TABLAS_RAWDATA  3.0       fuente  Alfanum.   14.0   \n",
       "4  SOPBBVA.DICCIONARIO_TABLAS_RAWDATA  1.0    tabla_sas  Alfanum.   24.0   \n",
       "\n",
       "    Pos Format Informat        Label  \n",
       "0  69.0    $8.      $8.       cadena  \n",
       "1  77.0  $105.    $105.  descripcion  \n",
       "2  24.0   $31.     $31.      fichero  \n",
       "3  55.0   $14.     $14.       fuente  \n",
       "4   0.0   $24.     $24.    tabla_sas  "
      ]
     },
     "execution_count": 42,
     "metadata": {},
     "output_type": "execute_result"
    }
   ],
   "source": [
    "DICCIONARIO_TABLAS_RAWDATA.columnInfo()"
   ]
  },
  {
   "cell_type": "code",
   "execution_count": 34,
   "id": "392977bd-4f15-4241-ac43-0e155bb394a8",
   "metadata": {},
   "outputs": [],
   "source": [
    "df = DICCIONARIO_TABLAS_RAWDATA.to_frame()"
   ]
  },
  {
   "cell_type": "code",
   "execution_count": null,
   "id": "e8ec5e21-569e-4a98-8307-6724fa6d970a",
   "metadata": {},
   "outputs": [],
   "source": []
  },
  {
   "cell_type": "code",
   "execution_count": 37,
   "id": "de75e29d-9e48-4078-b94b-1f21e5843837",
   "metadata": {},
   "outputs": [
    {
     "data": {
      "text/html": [
       "<div>\n",
       "<style scoped>\n",
       "    .dataframe tbody tr th:only-of-type {\n",
       "        vertical-align: middle;\n",
       "    }\n",
       "\n",
       "    .dataframe tbody tr th {\n",
       "        vertical-align: top;\n",
       "    }\n",
       "\n",
       "    .dataframe thead th {\n",
       "        text-align: right;\n",
       "    }\n",
       "</style>\n",
       "<table border=\"1\" class=\"dataframe\">\n",
       "  <thead>\n",
       "    <tr style=\"text-align: right;\">\n",
       "      <th></th>\n",
       "      <th>tabla_sas</th>\n",
       "      <th>fichero</th>\n",
       "      <th>fuente</th>\n",
       "      <th>cadena</th>\n",
       "      <th>descripcion</th>\n",
       "    </tr>\n",
       "  </thead>\n",
       "  <tbody>\n",
       "    <tr>\n",
       "      <th>1</th>\n",
       "      <td>R_RECIBOS_GENERAL_</td>\n",
       "      <td>SHRBK188</td>\n",
       "      <td>cispi716.sas</td>\n",
       "      <td>VMAR1722</td>\n",
       "      <td>RAWDATA BBVA-Recibos Generales (Anulados y Emi...</td>\n",
       "    </tr>\n",
       "  </tbody>\n",
       "</table>\n",
       "</div>"
      ],
      "text/plain": [
       "            tabla_sas   fichero        fuente    cadena  \\\n",
       "1  R_RECIBOS_GENERAL_  SHRBK188  cispi716.sas  VMAR1722   \n",
       "\n",
       "                                         descripcion  \n",
       "1  RAWDATA BBVA-Recibos Generales (Anulados y Emi...  "
      ]
     },
     "execution_count": 37,
     "metadata": {},
     "output_type": "execute_result"
    }
   ],
   "source": [
    "df[df.fichero == 'SHRBK188']"
   ]
  },
  {
   "cell_type": "code",
   "execution_count": null,
   "id": "92c4c95a-054f-4cb7-80bf-f18748c120ed",
   "metadata": {},
   "outputs": [],
   "source": []
  }
 ],
 "metadata": {
  "kernelspec": {
   "display_name": "Python 3 (ipykernel)",
   "language": "python",
   "name": "python3"
  },
  "language_info": {
   "codemirror_mode": {
    "name": "ipython",
    "version": 3
   },
   "file_extension": ".py",
   "mimetype": "text/x-python",
   "name": "python",
   "nbconvert_exporter": "python",
   "pygments_lexer": "ipython3",
   "version": "3.8.5"
  }
 },
 "nbformat": 4,
 "nbformat_minor": 5
}
