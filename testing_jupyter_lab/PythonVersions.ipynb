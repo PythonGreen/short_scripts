{
 "cells": [
  {
   "cell_type": "code",
   "execution_count": 14,
   "id": "0483850b-7e50-4a36-9f9b-2b97bfd4b877",
   "metadata": {},
   "outputs": [
    {
     "data": {
      "text/plain": [
       "['/opt/anaconda3/envs/bi_development/lib/python3.9/site-packages/pip']"
      ]
     },
     "execution_count": 14,
     "metadata": {},
     "output_type": "execute_result"
    }
   ],
   "source": [
    "import pip                          \n",
    "pip.__path__"
   ]
  },
  {
   "cell_type": "code",
   "execution_count": 22,
   "id": "8019e5d1-0f38-41ec-b5f5-6420cf5d0c64",
   "metadata": {},
   "outputs": [
    {
     "data": {
      "text/plain": [
       "['/home/e106064/.local/lib/python3.9/site-packages/saspy']"
      ]
     },
     "execution_count": 22,
     "metadata": {},
     "output_type": "execute_result"
    }
   ],
   "source": [
    "import saspy                          \n",
    "saspy.__path__"
   ]
  },
  {
   "cell_type": "code",
   "execution_count": 24,
   "id": "86e8d1e0-b284-41df-9414-e70a96cf187b",
   "metadata": {},
   "outputs": [
    {
     "data": {
      "text/plain": [
       "['/home/e106064/.local/lib/python3.9/site-packages/click']"
      ]
     },
     "execution_count": 24,
     "metadata": {},
     "output_type": "execute_result"
    }
   ],
   "source": [
    "import click                          \n",
    "click.__path__"
   ]
  },
  {
   "cell_type": "code",
   "execution_count": 15,
   "id": "61c4785a-d059-48e2-b0a3-a55eda241789",
   "metadata": {},
   "outputs": [
    {
     "name": "stdout",
     "output_type": "stream",
     "text": [
      "3.9.4\n"
     ]
    }
   ],
   "source": [
    "from platform import python_version\n",
    "print(python_version())"
   ]
  },
  {
   "cell_type": "code",
   "execution_count": 17,
   "id": "d6506def-5558-4637-80d7-552cdb21fa46",
   "metadata": {},
   "outputs": [
    {
     "name": "stdout",
     "output_type": "stream",
     "text": [
      "python3 is /bin/python3\n",
      "python3 is /usr/bin/python3\n",
      "python3 is /opt/anaconda3/envs/bi_development/bin/python3\n"
     ]
    }
   ],
   "source": [
    "!type -a python3"
   ]
  },
  {
   "cell_type": "code",
   "execution_count": 18,
   "id": "1b9c61df-5e54-45f8-bf75-46745dcc51c2",
   "metadata": {},
   "outputs": [
    {
     "name": "stdout",
     "output_type": "stream",
     "text": [
      "python is /opt/anaconda3/envs/bi_development/bin/python\n"
     ]
    }
   ],
   "source": [
    "!type -a python"
   ]
  },
  {
   "cell_type": "code",
   "execution_count": null,
   "id": "155904cc-8a3c-4b59-808b-09459dcc07a5",
   "metadata": {},
   "outputs": [],
   "source": []
  }
 ],
 "metadata": {
  "kernelspec": {
   "display_name": "Python 3",
   "language": "python",
   "name": "python3"
  },
  "language_info": {
   "codemirror_mode": {
    "name": "ipython",
    "version": 3
   },
   "file_extension": ".py",
   "mimetype": "text/x-python",
   "name": "python",
   "nbconvert_exporter": "python",
   "pygments_lexer": "ipython3",
   "version": "3.9.4"
  }
 },
 "nbformat": 4,
 "nbformat_minor": 5
}
