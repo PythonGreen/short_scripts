{
 "cells": [
  {
   "cell_type": "code",
   "execution_count": 19,
   "id": "2138c010-8a50-4008-9b42-3459d9dadf3a",
   "metadata": {},
   "outputs": [
    {
     "data": {
      "text/html": [
       "<img src=giphy.gif>"
      ],
      "text/plain": [
       "<IPython.core.display.HTML object>"
      ]
     },
     "execution_count": 19,
     "metadata": {},
     "output_type": "execute_result"
    }
   ],
   "source": [
    "from IPython import display\n",
    "\n",
    "fn=\"giphy.gif\"\n",
    "display.HTML('<img src={}>'.format(fn))"
   ]
  },
  {
   "cell_type": "code",
   "execution_count": null,
   "id": "43fa6598-25b3-4921-bd8b-e80c8d8a43fd",
   "metadata": {},
   "outputs": [
    {
     "name": "stdout",
     "output_type": "stream",
     "text": [
      "Defaulting to user installation because normal site-packages is not writeable\n"
     ]
    }
   ],
   "source": [
    "!pip install click"
   ]
  }
 ],
 "metadata": {
  "kernelspec": {
   "display_name": "Python 3",
   "language": "python",
   "name": "python3"
  },
  "language_info": {
   "codemirror_mode": {
    "name": "ipython",
    "version": 3
   },
   "file_extension": ".py",
   "mimetype": "text/x-python",
   "name": "python",
   "nbconvert_exporter": "python",
   "pygments_lexer": "ipython3",
   "version": "3.9.4"
  }
 },
 "nbformat": 4,
 "nbformat_minor": 5
}
